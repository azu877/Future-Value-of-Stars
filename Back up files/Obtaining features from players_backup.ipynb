{
 "cells": [
  {
   "cell_type": "code",
   "execution_count": 1,
   "metadata": {},
   "outputs": [],
   "source": [
    "import pandas as pd\n",
    "import numpy as np\n",
    "import time\n",
    "import re\n",
    "import souper"
   ]
  },
  {
   "cell_type": "code",
   "execution_count": 2,
   "metadata": {},
   "outputs": [],
   "source": [
    "test_players = pd.read_csv('/Users/gonzaloferreiro/Documents/GA_Materials/DS_Inmersive/DSI8-lessons/projects/project-capstone/Moving_forward/Test_datasets/test_players.csv')\n"
   ]
  },
  {
   "cell_type": "code",
   "execution_count": 3,
   "metadata": {},
   "outputs": [
    {
     "data": {
      "text/html": [
       "<div>\n",
       "<style scoped>\n",
       "    .dataframe tbody tr th:only-of-type {\n",
       "        vertical-align: middle;\n",
       "    }\n",
       "\n",
       "    .dataframe tbody tr th {\n",
       "        vertical-align: top;\n",
       "    }\n",
       "\n",
       "    .dataframe thead th {\n",
       "        text-align: right;\n",
       "    }\n",
       "</style>\n",
       "<table border=\"1\" class=\"dataframe\">\n",
       "  <thead>\n",
       "    <tr style=\"text-align: right;\">\n",
       "      <th></th>\n",
       "      <th>link</th>\n",
       "      <th>player</th>\n",
       "      <th>team</th>\n",
       "    </tr>\n",
       "  </thead>\n",
       "  <tbody>\n",
       "    <tr>\n",
       "      <th>0</th>\n",
       "      <td>/Players/144175/Show/Fabián-Noguera</td>\n",
       "      <td>Fabián Noguera</td>\n",
       "      <td>Estudiantes</td>\n",
       "    </tr>\n",
       "    <tr>\n",
       "      <th>1</th>\n",
       "      <td>/Players/125446/Show/Enzo-Kalinski</td>\n",
       "      <td>Enzo Kalinski</td>\n",
       "      <td>Estudiantes</td>\n",
       "    </tr>\n",
       "    <tr>\n",
       "      <th>2</th>\n",
       "      <td>/Players/133458/Show/Facundo-Sánchez</td>\n",
       "      <td>Facundo Sánchez</td>\n",
       "      <td>Estudiantes</td>\n",
       "    </tr>\n",
       "    <tr>\n",
       "      <th>3</th>\n",
       "      <td>/Players/129265/Show/Fernando-Zuqui</td>\n",
       "      <td>Fernando Zuqui</td>\n",
       "      <td>Estudiantes</td>\n",
       "    </tr>\n",
       "    <tr>\n",
       "      <th>4</th>\n",
       "      <td>/Players/284579/Show/Lucas-Rodríguez</td>\n",
       "      <td>Lucas Rodríguez</td>\n",
       "      <td>Estudiantes</td>\n",
       "    </tr>\n",
       "  </tbody>\n",
       "</table>\n",
       "</div>"
      ],
      "text/plain": [
       "                                   link           player         team\n",
       "0   /Players/144175/Show/Fabián-Noguera   Fabián Noguera  Estudiantes\n",
       "1    /Players/125446/Show/Enzo-Kalinski    Enzo Kalinski  Estudiantes\n",
       "2  /Players/133458/Show/Facundo-Sánchez  Facundo Sánchez  Estudiantes\n",
       "3   /Players/129265/Show/Fernando-Zuqui   Fernando Zuqui  Estudiantes\n",
       "4  /Players/284579/Show/Lucas-Rodríguez  Lucas Rodríguez  Estudiantes"
      ]
     },
     "execution_count": 3,
     "metadata": {},
     "output_type": "execute_result"
    }
   ],
   "source": [
    "test_players.head()"
   ]
  },
  {
   "cell_type": "code",
   "execution_count": 4,
   "metadata": {},
   "outputs": [],
   "source": [
    "sp = souper.souper()"
   ]
  },
  {
   "cell_type": "markdown",
   "metadata": {},
   "source": [
    "## Whoscored scrapping"
   ]
  },
  {
   "cell_type": "markdown",
   "metadata": {},
   "source": [
    "**Obtaining players basic information**"
   ]
  },
  {
   "cell_type": "code",
   "execution_count": 12,
   "metadata": {},
   "outputs": [],
   "source": [
    "def extract_player_info_block(players_df):\n",
    "    \n",
    "    links = players_df.link\n",
    "    teams = players_df.team\n",
    "    \n",
    "    player_info = {'name': [],\n",
    "                  'position': [],\n",
    "                  'nationality': [],\n",
    "                  'height': [],\n",
    "                  'weight': [],\n",
    "                  'team': []} \n",
    "\n",
    "    for each_link, each_team in zip(links,teams):\n",
    "        URL = 'https://www.whoscored.com' + each_link\n",
    "        print(URL)\n",
    "        soup = sp.get_soup(URL)\n",
    "        text = \"\"\n",
    "        for each in soup.find_all('dl', attrs={'class':'player-info-block'}):\n",
    "            try:\n",
    "                text = text + str(each)\n",
    "            except:\n",
    "                None\n",
    "        \n",
    "        name = re.findall(r'((?<=Name:</dt>\\n<dd>).+(?=</dd>\\n</dl><dl class))', text)\n",
    "        height = re.findall(r'((?<=Height:</dt>\\n<dd>).+(?=cm</dd>))', text)\n",
    "        position = re.findall(r'((?<=Positions:</dt>\\n<dd>\\n<ul>\\n<li>).*(?= |</li>))', text)\n",
    "        nation = re.findall(r'((?<=\"iconize iconize-icon-left\">\\n).+(?=\\n))', text)\n",
    "        weight = re.findall(r'((?<=Weight:</dt>\\n<dd>).+(?=kg))', text)\n",
    "        \n",
    "        player_info['name'].append(name[0]) if len(name) >0 else player_info['name'].append(np.nan)\n",
    "        player_info['position'].append(position[0].strip()) if len(position) >0 else player_info['position'].append(np.nan)\n",
    "        player_info['nationality'].append(nation[0].strip()[0:3].upper()) if len(nation) >0 else player_info['nationality'].append(np.nan)\n",
    "        player_info['height'].append(height[0]) if len(height) >0 else player_info['height'].append(np.nan)\n",
    "        player_info['weight'].append(weight[0]) if len(weight) >0 else player_info['weight'].append(np.nan)\n",
    "        player_info['team'].append(each_team)\n",
    "\n",
    "    player_info_df = pd.DataFrame(player_info)\n",
    "    \n",
    "    return player_info_df"
   ]
  },
  {
   "cell_type": "code",
   "execution_count": 14,
   "metadata": {
    "scrolled": false
   },
   "outputs": [
    {
     "name": "stdout",
     "output_type": "stream",
     "text": [
      "https://www.whoscored.com/Players/144175/Show/Fabián-Noguera\n",
      "\n",
      "Checking for mac64 chromedriver:74.0.3729.6 in cache\n",
      "Driver found in /Users/gonzaloferreiro/.wdm/chromedriver/74.0.3729.6/mac64/chromedriver\n"
     ]
    }
   ],
   "source": [
    "test = extract_player_info_block(test_players.iloc[0:1,:])"
   ]
  },
  {
   "cell_type": "code",
   "execution_count": 15,
   "metadata": {},
   "outputs": [
    {
     "data": {
      "text/html": [
       "<div>\n",
       "<style scoped>\n",
       "    .dataframe tbody tr th:only-of-type {\n",
       "        vertical-align: middle;\n",
       "    }\n",
       "\n",
       "    .dataframe tbody tr th {\n",
       "        vertical-align: top;\n",
       "    }\n",
       "\n",
       "    .dataframe thead th {\n",
       "        text-align: right;\n",
       "    }\n",
       "</style>\n",
       "<table border=\"1\" class=\"dataframe\">\n",
       "  <thead>\n",
       "    <tr style=\"text-align: right;\">\n",
       "      <th></th>\n",
       "      <th>name</th>\n",
       "      <th>position</th>\n",
       "      <th>nationality</th>\n",
       "      <th>height</th>\n",
       "      <th>weight</th>\n",
       "      <th>team</th>\n",
       "    </tr>\n",
       "  </thead>\n",
       "  <tbody>\n",
       "    <tr>\n",
       "      <th>0</th>\n",
       "      <td>Fabián Noguera</td>\n",
       "      <td>Defender (Centre)</td>\n",
       "      <td>ARG</td>\n",
       "      <td>193</td>\n",
       "      <td>97</td>\n",
       "      <td>Estudiantes</td>\n",
       "    </tr>\n",
       "  </tbody>\n",
       "</table>\n",
       "</div>"
      ],
      "text/plain": [
       "             name           position nationality height weight         team\n",
       "0  Fabián Noguera  Defender (Centre)         ARG    193     97  Estudiantes"
      ]
     },
     "execution_count": 15,
     "metadata": {},
     "output_type": "execute_result"
    }
   ],
   "source": [
    "test"
   ]
  },
  {
   "cell_type": "code",
   "execution_count": 12,
   "metadata": {},
   "outputs": [],
   "source": [
    "test.to_csv(r'/Users/gonzaloferreiro/Documents/GA_Materials/DS_Inmersive/DSI8-lessons/projects/project-capstone/Moving_forward/demographic_info.csv',index=False)"
   ]
  },
  {
   "cell_type": "markdown",
   "metadata": {},
   "source": [
    "**Obtaining players defensive statistics**"
   ]
  },
  {
   "cell_type": "code",
   "execution_count": 6,
   "metadata": {},
   "outputs": [],
   "source": [
    "def extract_player_defensive(players_df):\n",
    "    \n",
    "    links = players_df.link\n",
    "    teams = players_df.team\n",
    "    \n",
    "    player_info = {'interception': [],\n",
    "                   'tackles': [],\n",
    "                   'fouls': [],\n",
    "                   'offsideswon': [],\n",
    "                   'clearence': [],\n",
    "                   'wasdribbled': [],\n",
    "                   'blocks': [],\n",
    "                   'owngoals': [],\n",
    "                   'team': [],\n",
    "                   'link': []\n",
    "                  } \n",
    "\n",
    "    for each_link, each_team in zip(links,teams):\n",
    "        if \"Show\" in each_link:\n",
    "            new_link = each_link.replace(\"Show\",\"History\")\n",
    "            URL = 'https://www.whoscored.com' + new_link\n",
    "            print(URL)\n",
    "            soup = sp.get_soup(URL, click=True, element='//*[@id=\"player-tournament-stats-options\"]/li[2]/a')\n",
    "\n",
    "            amount = len([each.text.strip() for each in soup.find_all('td', attrs={'class':'tacklePerGame'})])\n",
    "\n",
    "            player_info['interception'] += [each.text.strip() for each in soup.find_all('td', attrs={'class':'interceptionPerGame'})]\n",
    "\n",
    "            player_info['tackles'] += [each.text.strip() for each in soup.find_all('td', attrs={'class':'tacklePerGame'})]\n",
    "\n",
    "            player_info['fouls'] += [each.text.strip() for each in soup.find_all('td', attrs={'class':'foulsPerGame'})]\n",
    "\n",
    "            player_info['offsideswon'] += [each.text.strip() for each in soup.find_all('td', attrs={'class':'offsideWonPerGame'})]\n",
    "\n",
    "            player_info['clearence'] += [each.text.strip() for each in soup.find_all('td', attrs={'class':'clearancePerGame'})]\n",
    "\n",
    "            player_info['wasdribbled'] += [each.text.strip() for each in soup.find_all('td', attrs={'class':'wasDribbledPerGame'})]\n",
    "\n",
    "            player_info['blocks'] += [each.text.strip() for each in soup.find_all('td', attrs={'class':'outfielderBlockPerGame'})]\n",
    "\n",
    "            player_info['owngoals'] += [each.text.strip() for each in soup.find_all('td', attrs={'class':'goalOwn'})]\n",
    "\n",
    "            player_info['link'] += [each_link for x in range(0,amount)]\n",
    "\n",
    "            player_info['team'] += [each_team for x in range(0,amount)]\n",
    "\n",
    "    return player_info"
   ]
  },
  {
   "cell_type": "code",
   "execution_count": 7,
   "metadata": {},
   "outputs": [],
   "source": [
    "from bs4 import BeautifulSoup\n",
    "from selenium import webdriver\n",
    "from webdriver_manager.chrome import ChromeDriverManager\n",
    "from selenium.webdriver.chrome.options import Options\n",
    "from selenium.webdriver.support.ui import WebDriverWait"
   ]
  },
  {
   "cell_type": "code",
   "execution_count": 10,
   "metadata": {
    "scrolled": false
   },
   "outputs": [
    {
     "name": "stdout",
     "output_type": "stream",
     "text": [
      "https://www.whoscored.com/Players/144175/History/Fabián-Noguera\n",
      "\n",
      "Checking for mac64 chromedriver:74.0.3729.6 in cache\n",
      "Driver found in /Users/gonzaloferreiro/.wdm/chromedriver/74.0.3729.6/mac64/chromedriver\n"
     ]
    }
   ],
   "source": [
    "test_defensive = extract_player_defensive(test_players.iloc[np.r_[0:1]])"
   ]
  },
  {
   "cell_type": "code",
   "execution_count": 11,
   "metadata": {},
   "outputs": [
    {
     "data": {
      "text/plain": [
       "{'interception': ['1.5', '1', '1.4', '0.4'],\n",
       " 'tackles': ['0.9', '2', '1.6', '0.6'],\n",
       " 'fouls': ['1.2', '1', '0.6', '1.1'],\n",
       " 'offsideswon': ['0.6', '-', '0.1', '0.3'],\n",
       " 'clearence': ['7.9', '4', '7.1', '2.7'],\n",
       " 'wasdribbled': ['0.3', '1.3', '0.6', '0.4'],\n",
       " 'blocks': ['0.7', '0.7', '1', '-'],\n",
       " 'owngoals': ['-', '-', '-', '-'],\n",
       " 'team': ['Estudiantes', 'Estudiantes', 'Estudiantes', 'Estudiantes'],\n",
       " 'link': ['/Players/144175/Show/Fabián-Noguera',\n",
       "  '/Players/144175/Show/Fabián-Noguera',\n",
       "  '/Players/144175/Show/Fabián-Noguera',\n",
       "  '/Players/144175/Show/Fabián-Noguera']}"
      ]
     },
     "execution_count": 11,
     "metadata": {},
     "output_type": "execute_result"
    }
   ],
   "source": [
    "test_defensive"
   ]
  },
  {
   "cell_type": "code",
   "execution_count": 107,
   "metadata": {},
   "outputs": [],
   "source": [
    "test_df = pd.DataFrame(test_defensive)"
   ]
  },
  {
   "cell_type": "code",
   "execution_count": 108,
   "metadata": {},
   "outputs": [
    {
     "data": {
      "text/html": [
       "<div>\n",
       "<style scoped>\n",
       "    .dataframe tbody tr th:only-of-type {\n",
       "        vertical-align: middle;\n",
       "    }\n",
       "\n",
       "    .dataframe tbody tr th {\n",
       "        vertical-align: top;\n",
       "    }\n",
       "\n",
       "    .dataframe thead th {\n",
       "        text-align: right;\n",
       "    }\n",
       "</style>\n",
       "<table border=\"1\" class=\"dataframe\">\n",
       "  <thead>\n",
       "    <tr style=\"text-align: right;\">\n",
       "      <th></th>\n",
       "      <th>interception</th>\n",
       "      <th>tackles</th>\n",
       "      <th>fouls</th>\n",
       "      <th>offsideswon</th>\n",
       "      <th>clearence</th>\n",
       "      <th>wasdribbled</th>\n",
       "      <th>blocks</th>\n",
       "      <th>owngoals</th>\n",
       "      <th>team</th>\n",
       "      <th>link</th>\n",
       "    </tr>\n",
       "  </thead>\n",
       "  <tbody>\n",
       "    <tr>\n",
       "      <th>0</th>\n",
       "      <td>1.5</td>\n",
       "      <td>0.9</td>\n",
       "      <td>1.2</td>\n",
       "      <td>0.6</td>\n",
       "      <td>7.9</td>\n",
       "      <td>0.3</td>\n",
       "      <td>0.7</td>\n",
       "      <td>-</td>\n",
       "      <td>Estudiantes</td>\n",
       "      <td>/Players/144175/Show/Fabián-Noguera</td>\n",
       "    </tr>\n",
       "    <tr>\n",
       "      <th>1</th>\n",
       "      <td>1</td>\n",
       "      <td>2</td>\n",
       "      <td>1</td>\n",
       "      <td>-</td>\n",
       "      <td>4</td>\n",
       "      <td>1.3</td>\n",
       "      <td>0.7</td>\n",
       "      <td>-</td>\n",
       "      <td>Estudiantes</td>\n",
       "      <td>/Players/144175/Show/Fabián-Noguera</td>\n",
       "    </tr>\n",
       "    <tr>\n",
       "      <th>2</th>\n",
       "      <td>1.4</td>\n",
       "      <td>1.6</td>\n",
       "      <td>0.6</td>\n",
       "      <td>0.1</td>\n",
       "      <td>7.1</td>\n",
       "      <td>0.6</td>\n",
       "      <td>1</td>\n",
       "      <td>-</td>\n",
       "      <td>Estudiantes</td>\n",
       "      <td>/Players/144175/Show/Fabián-Noguera</td>\n",
       "    </tr>\n",
       "    <tr>\n",
       "      <th>3</th>\n",
       "      <td>0.4</td>\n",
       "      <td>0.6</td>\n",
       "      <td>1.1</td>\n",
       "      <td>0.3</td>\n",
       "      <td>2.7</td>\n",
       "      <td>0.4</td>\n",
       "      <td>-</td>\n",
       "      <td>-</td>\n",
       "      <td>Estudiantes</td>\n",
       "      <td>/Players/144175/Show/Fabián-Noguera</td>\n",
       "    </tr>\n",
       "  </tbody>\n",
       "</table>\n",
       "</div>"
      ],
      "text/plain": [
       "  interception tackles fouls offsideswon clearence wasdribbled blocks  \\\n",
       "0          1.5     0.9   1.2         0.6       7.9         0.3    0.7   \n",
       "1            1       2     1           -         4         1.3    0.7   \n",
       "2          1.4     1.6   0.6         0.1       7.1         0.6      1   \n",
       "3          0.4     0.6   1.1         0.3       2.7         0.4      -   \n",
       "\n",
       "  owngoals         team                                 link  \n",
       "0        -  Estudiantes  /Players/144175/Show/Fabián-Noguera  \n",
       "1        -  Estudiantes  /Players/144175/Show/Fabián-Noguera  \n",
       "2        -  Estudiantes  /Players/144175/Show/Fabián-Noguera  \n",
       "3        -  Estudiantes  /Players/144175/Show/Fabián-Noguera  "
      ]
     },
     "execution_count": 108,
     "metadata": {},
     "output_type": "execute_result"
    }
   ],
   "source": [
    "test_df"
   ]
  },
  {
   "cell_type": "markdown",
   "metadata": {},
   "source": [
    "**Obtaining players summary statistics**"
   ]
  },
  {
   "cell_type": "code",
   "execution_count": 16,
   "metadata": {},
   "outputs": [],
   "source": [
    "def extract_player_summary(players_df):\n",
    "    \n",
    "    links = players_df.link\n",
    "    teams = players_df.team\n",
    "    \n",
    "    player_info = {'link': [],\n",
    "                   'team': [],\n",
    "                   'mins': [],\n",
    "                   'goals': [],\n",
    "                   'assist': [],\n",
    "                   'yellow': [],\n",
    "                   'red': [],\n",
    "                   'shots': [],\n",
    "                   'passes': [],\n",
    "                   'aerial': [],\n",
    "                   'mom': [],\n",
    "                   'rating': [],\n",
    "                   'season': []\n",
    "                  } \n",
    "\n",
    "    for each_link, each_team in zip(links,teams):\n",
    "        if \"Show\" in each_link:\n",
    "            new_link = each_link.replace(\"Show\",\"History\")\n",
    "            URL = 'https://www.whoscored.com' + new_link\n",
    "            soup = sp.get_soup(URL)\n",
    "            print(URL)\n",
    "            \n",
    "            amount = len([each.text.strip() for each in soup.find_all('td', attrs={'class':'rank tournament'})])\n",
    "\n",
    "            player_info['mins'] += [each.text.strip() for each in soup.find_all('td', attrs={'class':'minsPlayed'})]\n",
    "\n",
    "            player_info['goals'] += [each.text.strip() for each in soup.find_all('td', attrs={'class':'goal'})]\n",
    "\n",
    "            player_info['assist'] += [each.text.strip() for each in soup.find_all('td', attrs={'class':'assistTotal'})]\n",
    "\n",
    "            player_info['yellow'] += [each.text.strip() for each in soup.find_all('td', attrs={'class':'yellowCard'})]\n",
    "\n",
    "            player_info['red'] += [each.text.strip() for each in soup.find_all('td', attrs={'class':'redCard'})]\n",
    "\n",
    "            player_info['shots'] += [each.text.strip() for each in soup.find_all('td', attrs={'class':'shotsPerGame'})]\n",
    "\n",
    "            player_info['passes'] += [each.text.strip() for each in soup.find_all('td', attrs={'class':'passSuccess'})]\n",
    "\n",
    "            player_info['aerial'] += [each.text.strip() for each in soup.find_all('td', attrs={'class':'aerialWonPerGame'})]\n",
    "\n",
    "            player_info['mom'] += [each.text.strip() for each in soup.find_all('td', attrs={'class':'manOfTheMatch'})]\n",
    "\n",
    "            player_info['rating'] += [each.text.strip() for each in soup.find_all('td', attrs={'class':'rating'})[0:-1]]\n",
    "\n",
    "            player_info['season'] += [each.text.strip() for each in soup.find_all('td', attrs={'class':'rank tournament'})]\n",
    "\n",
    "            player_info['link'] += [each_link for x in range(0,amount)]\n",
    "\n",
    "            player_info['team'] += [each_team for x in range(0,amount)]\n",
    "\n",
    "    return player_info"
   ]
  },
  {
   "cell_type": "code",
   "execution_count": 17,
   "metadata": {},
   "outputs": [
    {
     "name": "stdout",
     "output_type": "stream",
     "text": [
      "\n",
      "Checking for mac64 chromedriver:74.0.3729.6 in cache\n",
      "Driver found in /Users/gonzaloferreiro/.wdm/chromedriver/74.0.3729.6/mac64/chromedriver\n",
      "https://www.whoscored.com/Players/144175/History/Fabián-Noguera\n",
      "\n",
      "Checking for mac64 chromedriver:74.0.3729.6 in cache\n",
      "Driver found in /Users/gonzaloferreiro/.wdm/chromedriver/74.0.3729.6/mac64/chromedriver\n",
      "https://www.whoscored.com/Players/125446/History/Enzo-Kalinski\n"
     ]
    }
   ],
   "source": [
    "soup_ = extract_player_summary(test_players.iloc[np.r_[0:2]])"
   ]
  },
  {
   "cell_type": "code",
   "execution_count": 18,
   "metadata": {},
   "outputs": [],
   "source": [
    "test_df = pd.DataFrame(soup_)"
   ]
  },
  {
   "cell_type": "code",
   "execution_count": 19,
   "metadata": {},
   "outputs": [
    {
     "data": {
      "text/html": [
       "<div>\n",
       "<style scoped>\n",
       "    .dataframe tbody tr th:only-of-type {\n",
       "        vertical-align: middle;\n",
       "    }\n",
       "\n",
       "    .dataframe tbody tr th {\n",
       "        vertical-align: top;\n",
       "    }\n",
       "\n",
       "    .dataframe thead th {\n",
       "        text-align: right;\n",
       "    }\n",
       "</style>\n",
       "<table border=\"1\" class=\"dataframe\">\n",
       "  <thead>\n",
       "    <tr style=\"text-align: right;\">\n",
       "      <th></th>\n",
       "      <th>link</th>\n",
       "      <th>team</th>\n",
       "      <th>mins</th>\n",
       "      <th>goals</th>\n",
       "      <th>assist</th>\n",
       "      <th>yellow</th>\n",
       "      <th>red</th>\n",
       "      <th>shots</th>\n",
       "      <th>passes</th>\n",
       "      <th>aerial</th>\n",
       "      <th>mom</th>\n",
       "      <th>rating</th>\n",
       "      <th>season</th>\n",
       "    </tr>\n",
       "  </thead>\n",
       "  <tbody>\n",
       "    <tr>\n",
       "      <th>0</th>\n",
       "      <td>/Players/144175/Show/Fabián-Noguera</td>\n",
       "      <td>Estudiantes</td>\n",
       "      <td>1035</td>\n",
       "      <td>2</td>\n",
       "      <td>-</td>\n",
       "      <td>2</td>\n",
       "      <td>-</td>\n",
       "      <td>1.2</td>\n",
       "      <td>71.4</td>\n",
       "      <td>4.8</td>\n",
       "      <td>1</td>\n",
       "      <td>7.23</td>\n",
       "      <td>2018/2019</td>\n",
       "    </tr>\n",
       "    <tr>\n",
       "      <th>1</th>\n",
       "      <td>/Players/144175/Show/Fabián-Noguera</td>\n",
       "      <td>Estudiantes</td>\n",
       "      <td>186</td>\n",
       "      <td>-</td>\n",
       "      <td>-</td>\n",
       "      <td>-</td>\n",
       "      <td>-</td>\n",
       "      <td>0.3</td>\n",
       "      <td>74.8</td>\n",
       "      <td>2</td>\n",
       "      <td>-</td>\n",
       "      <td>6.53</td>\n",
       "      <td>2017/2018</td>\n",
       "    </tr>\n",
       "    <tr>\n",
       "      <th>2</th>\n",
       "      <td>/Players/144175/Show/Fabián-Noguera</td>\n",
       "      <td>Estudiantes</td>\n",
       "      <td>514</td>\n",
       "      <td>-</td>\n",
       "      <td>1</td>\n",
       "      <td>-</td>\n",
       "      <td>-</td>\n",
       "      <td>0.9</td>\n",
       "      <td>84</td>\n",
       "      <td>2.7</td>\n",
       "      <td>1</td>\n",
       "      <td>6.94</td>\n",
       "      <td>2017</td>\n",
       "    </tr>\n",
       "    <tr>\n",
       "      <th>3</th>\n",
       "      <td>/Players/144175/Show/Fabián-Noguera</td>\n",
       "      <td>Estudiantes</td>\n",
       "      <td>305</td>\n",
       "      <td>1</td>\n",
       "      <td>-</td>\n",
       "      <td>1</td>\n",
       "      <td>-</td>\n",
       "      <td>0.4</td>\n",
       "      <td>77.9</td>\n",
       "      <td>2.9</td>\n",
       "      <td>1</td>\n",
       "      <td>6.48</td>\n",
       "      <td>2016</td>\n",
       "    </tr>\n",
       "    <tr>\n",
       "      <th>4</th>\n",
       "      <td>/Players/125446/Show/Enzo-Kalinski</td>\n",
       "      <td>Estudiantes</td>\n",
       "      <td>1117</td>\n",
       "      <td>2</td>\n",
       "      <td>-</td>\n",
       "      <td>1</td>\n",
       "      <td>-</td>\n",
       "      <td>1.2</td>\n",
       "      <td>74.5</td>\n",
       "      <td>2.8</td>\n",
       "      <td>2</td>\n",
       "      <td>7.05</td>\n",
       "      <td>2018/2019</td>\n",
       "    </tr>\n",
       "  </tbody>\n",
       "</table>\n",
       "</div>"
      ],
      "text/plain": [
       "                                  link         team  mins goals assist yellow  \\\n",
       "0  /Players/144175/Show/Fabián-Noguera  Estudiantes  1035     2      -      2   \n",
       "1  /Players/144175/Show/Fabián-Noguera  Estudiantes   186     -      -      -   \n",
       "2  /Players/144175/Show/Fabián-Noguera  Estudiantes   514     -      1      -   \n",
       "3  /Players/144175/Show/Fabián-Noguera  Estudiantes   305     1      -      1   \n",
       "4   /Players/125446/Show/Enzo-Kalinski  Estudiantes  1117     2      -      1   \n",
       "\n",
       "  red shots passes aerial mom rating     season  \n",
       "0   -   1.2   71.4    4.8   1   7.23  2018/2019  \n",
       "1   -   0.3   74.8      2   -   6.53  2017/2018  \n",
       "2   -   0.9     84    2.7   1   6.94       2017  \n",
       "3   -   0.4   77.9    2.9   1   6.48       2016  \n",
       "4   -   1.2   74.5    2.8   2   7.05  2018/2019  "
      ]
     },
     "execution_count": 19,
     "metadata": {},
     "output_type": "execute_result"
    }
   ],
   "source": [
    "test_df.head()"
   ]
  },
  {
   "cell_type": "code",
   "execution_count": 44,
   "metadata": {},
   "outputs": [],
   "source": [
    "test_df.to_csv(r'/Users/gconzaloferreiro/Documents/GA_Materials/DS_Inmersive/DSI8-lessons/projects/project-capstone/Moving_forward/players_basic_info_test.csv',index=False)"
   ]
  },
  {
   "cell_type": "markdown",
   "metadata": {},
   "source": [
    "**Obtaining players offensive statistics**"
   ]
  },
  {
   "cell_type": "code",
   "execution_count": 20,
   "metadata": {},
   "outputs": [],
   "source": [
    "def extract_player_offensive(players_df):\n",
    "    \n",
    "    links = players_df.link\n",
    "    teams = players_df.team\n",
    "    \n",
    "    player_info = {'keypasses': [],\n",
    "                   'dribbles': [],\n",
    "                   'fouled': [],\n",
    "                   'offsidesdone': [],\n",
    "                   'disposeseed': [],\n",
    "                   'badcontrol': [],\n",
    "                   'team': [],\n",
    "                   'link': []\n",
    "                  } \n",
    "\n",
    "    for each_link, each_team in zip(links,teams):\n",
    "        if \"Show\" in each_link:\n",
    "            new_link = each_link.replace(\"Show\",\"History\")\n",
    "            URL = 'https://www.whoscored.com' + new_link\n",
    "            soup = sp.get_soup(URL, click=True, element='//*[@id=\"player-tournament-stats-options\"]/li[3]/a')\n",
    "            print(URL)\n",
    "\n",
    "            amount = len([each.text.strip() for each in soup.find_all('td', attrs={'class':'keyPassPerGame'})])\n",
    "\n",
    "            player_info['keypasses'] += [each.text.strip() for each in soup.find_all('td', attrs={'class':'keyPassPerGame'})]\n",
    "\n",
    "            player_info['dribbles'] += [each.text.strip() for each in soup.find_all('td', attrs={'class':'dribbleWonPerGame'})]\n",
    "\n",
    "            player_info['fouled'] += [each.text.strip() for each in soup.find_all('td', attrs={'class':'foulGivenPerGame'})]\n",
    "\n",
    "            player_info['offsidesdone'] += [each.text.strip() for each in soup.find_all('td', attrs={'class':'offsideGivenPerGame'})]\n",
    "\n",
    "            player_info['disposeseed'] += [each.text.strip() for each in soup.find_all('td', attrs={'class':'dispossessedPerGame'})]\n",
    "\n",
    "            player_info['badcontrol'] += [each.text.strip() for each in soup.find_all('td', attrs={'class':'turnoverPerGame'})]\n",
    "\n",
    "            player_info['link'] += [each_link for x in range(0,amount)]\n",
    "\n",
    "            player_info['team'] += [each_team for x in range(0,amount)]\n",
    "\n",
    "    return player_info"
   ]
  },
  {
   "cell_type": "code",
   "execution_count": 21,
   "metadata": {
    "scrolled": true
   },
   "outputs": [
    {
     "name": "stdout",
     "output_type": "stream",
     "text": [
      "\n",
      "Checking for mac64 chromedriver:74.0.3729.6 in cache\n",
      "Driver found in /Users/gonzaloferreiro/.wdm/chromedriver/74.0.3729.6/mac64/chromedriver\n",
      "https://www.whoscored.com/Players/144175/History/Fabián-Noguera\n"
     ]
    }
   ],
   "source": [
    "test_offensive = extract_player_offensive(test_players.iloc[np.r_[0:1]])"
   ]
  },
  {
   "cell_type": "code",
   "execution_count": 22,
   "metadata": {},
   "outputs": [
    {
     "data": {
      "text/plain": [
       "{'keypasses': ['-', '-', '0.1', '0.1'],\n",
       " 'dribbles': ['0.3', '-', '-', '0.1'],\n",
       " 'fouled': ['0.3', '0.3', '0.3', '0.4'],\n",
       " 'offsidesdone': ['0.3', '-', '-', '0.1'],\n",
       " 'disposeseed': ['0.2', '0.3', '-', '0.1'],\n",
       " 'badcontrol': ['0.3', '1.3', '0.4', '0.4'],\n",
       " 'team': ['Estudiantes', 'Estudiantes', 'Estudiantes', 'Estudiantes'],\n",
       " 'link': ['/Players/144175/Show/Fabián-Noguera',\n",
       "  '/Players/144175/Show/Fabián-Noguera',\n",
       "  '/Players/144175/Show/Fabián-Noguera',\n",
       "  '/Players/144175/Show/Fabián-Noguera']}"
      ]
     },
     "execution_count": 22,
     "metadata": {},
     "output_type": "execute_result"
    }
   ],
   "source": [
    "test_offensive"
   ]
  },
  {
   "cell_type": "code",
   "execution_count": 23,
   "metadata": {},
   "outputs": [],
   "source": [
    "test_df_of = pd.DataFrame(test_offensive)"
   ]
  },
  {
   "cell_type": "code",
   "execution_count": 24,
   "metadata": {},
   "outputs": [
    {
     "data": {
      "text/html": [
       "<div>\n",
       "<style scoped>\n",
       "    .dataframe tbody tr th:only-of-type {\n",
       "        vertical-align: middle;\n",
       "    }\n",
       "\n",
       "    .dataframe tbody tr th {\n",
       "        vertical-align: top;\n",
       "    }\n",
       "\n",
       "    .dataframe thead th {\n",
       "        text-align: right;\n",
       "    }\n",
       "</style>\n",
       "<table border=\"1\" class=\"dataframe\">\n",
       "  <thead>\n",
       "    <tr style=\"text-align: right;\">\n",
       "      <th></th>\n",
       "      <th>keypasses</th>\n",
       "      <th>dribbles</th>\n",
       "      <th>fouled</th>\n",
       "      <th>offsidesdone</th>\n",
       "      <th>disposeseed</th>\n",
       "      <th>badcontrol</th>\n",
       "      <th>team</th>\n",
       "      <th>link</th>\n",
       "    </tr>\n",
       "  </thead>\n",
       "  <tbody>\n",
       "    <tr>\n",
       "      <th>0</th>\n",
       "      <td>-</td>\n",
       "      <td>0.3</td>\n",
       "      <td>0.3</td>\n",
       "      <td>0.3</td>\n",
       "      <td>0.2</td>\n",
       "      <td>0.3</td>\n",
       "      <td>Estudiantes</td>\n",
       "      <td>/Players/144175/Show/Fabián-Noguera</td>\n",
       "    </tr>\n",
       "    <tr>\n",
       "      <th>1</th>\n",
       "      <td>-</td>\n",
       "      <td>-</td>\n",
       "      <td>0.3</td>\n",
       "      <td>-</td>\n",
       "      <td>0.3</td>\n",
       "      <td>1.3</td>\n",
       "      <td>Estudiantes</td>\n",
       "      <td>/Players/144175/Show/Fabián-Noguera</td>\n",
       "    </tr>\n",
       "    <tr>\n",
       "      <th>2</th>\n",
       "      <td>0.1</td>\n",
       "      <td>-</td>\n",
       "      <td>0.3</td>\n",
       "      <td>-</td>\n",
       "      <td>-</td>\n",
       "      <td>0.4</td>\n",
       "      <td>Estudiantes</td>\n",
       "      <td>/Players/144175/Show/Fabián-Noguera</td>\n",
       "    </tr>\n",
       "    <tr>\n",
       "      <th>3</th>\n",
       "      <td>0.1</td>\n",
       "      <td>0.1</td>\n",
       "      <td>0.4</td>\n",
       "      <td>0.1</td>\n",
       "      <td>0.1</td>\n",
       "      <td>0.4</td>\n",
       "      <td>Estudiantes</td>\n",
       "      <td>/Players/144175/Show/Fabián-Noguera</td>\n",
       "    </tr>\n",
       "  </tbody>\n",
       "</table>\n",
       "</div>"
      ],
      "text/plain": [
       "  keypasses dribbles fouled offsidesdone disposeseed badcontrol         team  \\\n",
       "0         -      0.3    0.3          0.3         0.2        0.3  Estudiantes   \n",
       "1         -        -    0.3            -         0.3        1.3  Estudiantes   \n",
       "2       0.1        -    0.3            -           -        0.4  Estudiantes   \n",
       "3       0.1      0.1    0.4          0.1         0.1        0.4  Estudiantes   \n",
       "\n",
       "                                  link  \n",
       "0  /Players/144175/Show/Fabián-Noguera  \n",
       "1  /Players/144175/Show/Fabián-Noguera  \n",
       "2  /Players/144175/Show/Fabián-Noguera  \n",
       "3  /Players/144175/Show/Fabián-Noguera  "
      ]
     },
     "execution_count": 24,
     "metadata": {},
     "output_type": "execute_result"
    }
   ],
   "source": [
    "test_df_of"
   ]
  }
 ],
 "metadata": {
  "kernelspec": {
   "display_name": "Python 3",
   "language": "python",
   "name": "python3"
  },
  "language_info": {
   "codemirror_mode": {
    "name": "ipython",
    "version": 3
   },
   "file_extension": ".py",
   "mimetype": "text/x-python",
   "name": "python",
   "nbconvert_exporter": "python",
   "pygments_lexer": "ipython3",
   "version": "3.6.8"
  }
 },
 "nbformat": 4,
 "nbformat_minor": 2
}
