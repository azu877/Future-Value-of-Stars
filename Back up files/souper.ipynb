{
 "cells": [
  {
   "cell_type": "code",
   "execution_count": 1,
   "metadata": {},
   "outputs": [],
   "source": [
    "from bs4 import BeautifulSoup\n",
    "from selenium import webdriver\n",
    "from webdriver_manager.chrome import ChromeDriverManager\n",
    "from selenium.webdriver.chrome.options import Options\n",
    "from selenium.webdriver.support.ui import WebDriverWait\n",
    "from selenium.common.exceptions import TimeoutException"
   ]
  },
  {
   "cell_type": "code",
   "execution_count": 8,
   "metadata": {},
   "outputs": [],
   "source": [
    "class souper(object):\n",
    "    \n",
    "    def __init__(self):\n",
    "        None\n",
    "           \n",
    "    def get_soup(self, URL, click=False, element=None):\n",
    "        # Setting options to run headless\n",
    "        chrome_options = Options()\n",
    "        chrome_options.add_argument(\"--headless\")\n",
    "\n",
    "        # Installing temporary Chrome webdriver\n",
    "        driver = webdriver.Chrome(ChromeDriverManager().install(),\n",
    "                                 options=chrome_options)\n",
    "\n",
    "        # Trying to get URL and refreshing in case of TimeoutException\n",
    "        try:\n",
    "            driver.get(URL)\n",
    "            wait = WebDriverWait(driver, 10)\n",
    "        except TimeoutException as ex:\n",
    "            webDriver.navigate().refresh()\n",
    "\n",
    "        # Entering if get_soups needs click \n",
    "        if click:\n",
    "\n",
    "            # In case of being banned, tries again\n",
    "            if len(driver.find_elements_by_css_selector(\"[name=ROBOTS]\")) > 0:\n",
    "                try:\n",
    "                    driver.get(URL)\n",
    "                    wait = WebDriverWait(driver, 10)\n",
    "                except TimeoutException as ex:\n",
    "                    webDriver.navigate().refresh()\n",
    "\n",
    "            # Collecting path and clicking\n",
    "            tab_click = driver.find_element_by_xpath(element)\n",
    "            tab_click.click()\n",
    "\n",
    "            # Sleeps for a while to get te refreshed code\n",
    "            time.sleep(2)\n",
    "            soup = BeautifulSoup(driver.page_source)\n",
    "            driver.close()\n",
    "\n",
    "        # Second case if of not needing clicking\n",
    "        else:\n",
    "            if len(driver.find_elements_by_css_selector(\"[name=ROBOTS]\")) > 0:\n",
    "                try:\n",
    "                    driver.get(URL)\n",
    "                    wait = WebDriverWait(driver, 10)\n",
    "                except TimeoutException as ex:\n",
    "                    webDriver.navigate().refresh()\n",
    "            soup = BeautifulSoup(driver.page_source)\n",
    "            driver.close()\n",
    "\n",
    "        return soup"
   ]
  },
  {
   "cell_type": "code",
   "execution_count": 9,
   "metadata": {},
   "outputs": [],
   "source": [
    "souper = souper()"
   ]
  },
  {
   "cell_type": "code",
   "execution_count": null,
   "metadata": {},
   "outputs": [],
   "source": []
  }
 ],
 "metadata": {
  "kernelspec": {
   "display_name": "Python 3",
   "language": "python",
   "name": "python3"
  },
  "language_info": {
   "codemirror_mode": {
    "name": "ipython",
    "version": 3
   },
   "file_extension": ".py",
   "mimetype": "text/x-python",
   "name": "python",
   "nbconvert_exporter": "python",
   "pygments_lexer": "ipython3",
   "version": "3.6.8"
  }
 },
 "nbformat": 4,
 "nbformat_minor": 2
}
