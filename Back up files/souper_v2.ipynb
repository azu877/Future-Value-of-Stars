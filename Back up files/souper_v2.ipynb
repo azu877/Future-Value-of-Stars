{
 "cells": [
  {
   "cell_type": "code",
   "execution_count": 1,
   "metadata": {},
   "outputs": [],
   "source": [
    "from bs4 import BeautifulSoup\n",
    "from selenium import webdriver\n",
    "from webdriver_manager.chrome import ChromeDriverManager\n",
    "from selenium.webdriver.chrome.options import Options\n",
    "from selenium.webdriver.support.ui import WebDriverWait\n",
    "from selenium.common.exceptions import TimeoutException\n",
    "from selenium.webdriver.common.by import By\n",
    "from selenium.webdriver.support import expected_conditions as EC\n",
    "import time"
   ]
  },
  {
   "cell_type": "code",
   "execution_count": 3,
   "metadata": {},
   "outputs": [
    {
     "name": "stdout",
     "output_type": "stream",
     "text": [
      "\n",
      "Checking for mac64 chromedriver:74.0.3729.6 in cache\n",
      "Driver found in /Users/gonzaloferreiro/.wdm/chromedriver/74.0.3729.6/mac64/chromedriver\n"
     ]
    }
   ],
   "source": [
    "        chrome_options = Options()\n",
    "        chrome_options.add_argument(\"--headless\")\n",
    "        chrome_options.add_argument('--window-size=2880,1800')\n",
    "\n",
    "        # Installing temporary Chrome webdriver\n",
    "        driver = webdriver.Chrome(ChromeDriverManager().install(),\n",
    "                                 options=chrome_options)"
   ]
  },
  {
   "cell_type": "code",
   "execution_count": null,
   "metadata": {},
   "outputs": [],
   "source": [
    "driver.refresh()"
   ]
  },
  {
   "cell_type": "code",
   "execution_count": 4,
   "metadata": {},
   "outputs": [],
   "source": [
    "class souper(object):\n",
    "    \n",
    "    def __init__(self):\n",
    "        None\n",
    "           \n",
    "    def get_soup(self, URL, click=False, element=None):\n",
    "        \n",
    "        # Setting options to run headless\n",
    "        chrome_options = Options()\n",
    "        chrome_options.add_argument(\"--headless\")\n",
    "        chrome_options.add_argument('--window-size=2880,1800')\n",
    "\n",
    "        # Installing temporary Chrome webdriver\n",
    "        driver = webdriver.Chrome(ChromeDriverManager().install(),\n",
    "                                 options=chrome_options)\n",
    "        \n",
    "        # Setting waiting time in case of not finding elements\n",
    "        driver.implicitly_wait(30)\n",
    "        \n",
    "        # Creating empy variable soup in case of failing\n",
    "        soup = \"\"\n",
    "        \n",
    "        # Trying to get URL and refreshing in case of TimeoutException\n",
    "        try:\n",
    "            driver.get(URL)\n",
    "        except TimeoutException as ex:\n",
    "            driver.refresh()\n",
    "            try:\n",
    "                driver.get(URL)\n",
    "            except TimeoutException as ex:\n",
    "                print('TimeoutException insisted at first')\n",
    "                pass\n",
    "\n",
    "        # Entering if get_soups needs click \n",
    "        if click:\n",
    "\n",
    "            # In case of being banned, tries again\n",
    "            if len(driver.find_elements_by_css_selector(\"[name=ROBOTS]\")) > 0:\n",
    "                try:\n",
    "                    driver.get(URL)\n",
    "                except TimeoutException as ex:\n",
    "                    driver.refresh()\n",
    "                    try:\n",
    "                        driver.get(URL)\n",
    "                    except TimeoutException as ex:\n",
    "                        print('TimeoutException insisted when clicking')\n",
    "                        pass\n",
    "\n",
    "            # Collecting path and clicking\n",
    "            wait = WebDriverWait(driver, 10)\n",
    "            tab_click = wait.until(EC.element_to_be_clickable((By.XPATH, element)))\n",
    "            #tab_click = waiter.find_element_by_xpath(element)\n",
    "            tab_click.click()\n",
    "\n",
    "            # Sleeps for a while to get the refreshed code\n",
    "            time.sleep(2)\n",
    "            soup = BeautifulSoup(driver.page_source)\n",
    "            driver.close()\n",
    "\n",
    "        # Second case if of not needing clicking\n",
    "        else:\n",
    "            if len(driver.find_elements_by_css_selector(\"[name=ROBOTS]\")) > 0:\n",
    "                try:\n",
    "                    driver.get(URL)\n",
    "                except TimeoutException as ex:\n",
    "                    driver.refresh()\n",
    "                    try:\n",
    "                        driver.get(URL)\n",
    "                    except TimeoutException as ex:\n",
    "                        print('TimeoutException at second')\n",
    "                        pass\n",
    "                    \n",
    "            soup = BeautifulSoup(driver.page_source)\n",
    "            driver.close()\n",
    "        \n",
    "        return soup"
   ]
  },
  {
   "cell_type": "code",
   "execution_count": null,
   "metadata": {},
   "outputs": [],
   "source": []
  }
 ],
 "metadata": {
  "kernelspec": {
   "display_name": "Python 3",
   "language": "python",
   "name": "python3"
  },
  "language_info": {
   "codemirror_mode": {
    "name": "ipython",
    "version": 3
   },
   "file_extension": ".py",
   "mimetype": "text/x-python",
   "name": "python",
   "nbconvert_exporter": "python",
   "pygments_lexer": "ipython3",
   "version": "3.6.8"
  },
  "notify_time": "10"
 },
 "nbformat": 4,
 "nbformat_minor": 2
}
