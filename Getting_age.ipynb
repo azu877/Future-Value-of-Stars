{
 "cells": [
  {
   "cell_type": "code",
   "execution_count": 20,
   "metadata": {},
   "outputs": [],
   "source": [
    "import numpy as np\n",
    "import pandas as pd\n",
    "import souper_v2\n",
    "from tqdm import tqdm_notebook\n",
    "from torrequest import TorRequest\n",
    "from bs4 import BeautifulSoup\n",
    "from retrying import retry\n",
    "import re"
   ]
  },
  {
   "cell_type": "code",
   "execution_count": 2,
   "metadata": {},
   "outputs": [],
   "source": [
    "sampled_players = pd.read_csv('/Users/gonzaloferreiro/Documents/GA_Materials/DS_Inmersive/DSI8-lessons/projects/project-capstone/Moving_forward/Final_datasets/final_list_of_sampled_players.csv')"
   ]
  },
  {
   "cell_type": "code",
   "execution_count": 3,
   "metadata": {},
   "outputs": [],
   "source": [
    "sp = souper_v2.souper()"
   ]
  },
  {
   "cell_type": "code",
   "execution_count": 4,
   "metadata": {},
   "outputs": [],
   "source": [
    "@retry(wait_fixed=3000)\n",
    "def get_soup(URL):\n",
    "    with TorRequest() as tr:\n",
    "        tr.reset_identity()\n",
    "        headers = {\"User-Agent\":'Mozilla/5.0 (X11; Linux x86_64; rv:7.0.1) Gecko/20100101 Firefox/7.7'}\n",
    "        r = tr.get(URL, headers=headers)\n",
    "        soup = BeautifulSoup(r.text, 'html.parser')\n",
    "        return soup"
   ]
  },
  {
   "cell_type": "code",
   "execution_count": 69,
   "metadata": {
    "code_folding": []
   },
   "outputs": [],
   "source": [
    "def obtain_age_from_profile(players_df):\n",
    "     \n",
    "    links = players_df.link_tm\n",
    "    nationality = \"\"\n",
    "    \n",
    "    returner = {'age': [], 'link': []}\n",
    "    \n",
    "    for each_link in tqdm_notebook(links):\n",
    "        \n",
    "        # Obtaining final link\n",
    "        new_link = 'https://www.transfermarkt.co.uk' + each_link\n",
    "        print(new_link)\n",
    "        soup = get_soup(new_link)\n",
    "        \n",
    "        \n",
    "        # Obtaining highest and current value\n",
    "        try:\n",
    "            age_first = soup.find('span', attrs={'itemprop':'birthDate'}).text.strip()\n",
    "            age = re.findall(r'\\((\\d+)', age_first)[0]\n",
    "        except:\n",
    "            age = np.nan\n",
    "                    \n",
    "        returner['age'].append(age)\n",
    "        returner['link'].append(each_link)\n",
    "                    \n",
    "    return returner"
   ]
  },
  {
   "cell_type": "markdown",
   "metadata": {},
   "source": [
    "## Obtaining data by parts"
   ]
  },
  {
   "cell_type": "code",
   "execution_count": 94,
   "metadata": {},
   "outputs": [],
   "source": [
    "sample_1 = sampled_players.iloc[0:179]\n",
    "sample_2 = sampled_players.iloc[179:359]\n",
    "sample_3 = sampled_players.iloc[359:539]\n",
    "sample_4 = sampled_players.iloc[539:719]\n",
    "sample_5 = sampled_players.iloc[719:899]\n",
    "sample_6 = sampled_players.iloc[899:1079]\n",
    "sample_7 = sampled_players.iloc[1080:]\n",
    "sample_8 = sampled_players.iloc[1079:1080]"
   ]
  },
  {
   "cell_type": "code",
   "execution_count": null,
   "metadata": {},
   "outputs": [],
   "source": [
    "age_1 = obtain_age_from_profile(sample_1)"
   ]
  },
  {
   "cell_type": "code",
   "execution_count": null,
   "metadata": {},
   "outputs": [],
   "source": [
    "age_2 = obtain_age_from_profile(sample_2)"
   ]
  },
  {
   "cell_type": "code",
   "execution_count": null,
   "metadata": {},
   "outputs": [],
   "source": [
    "age_3 = obtain_age_from_profile(sample_3)"
   ]
  },
  {
   "cell_type": "code",
   "execution_count": null,
   "metadata": {},
   "outputs": [],
   "source": [
    "age_4 = obtain_age_from_profile(sample_4)"
   ]
  },
  {
   "cell_type": "code",
   "execution_count": null,
   "metadata": {},
   "outputs": [],
   "source": [
    "age_5 = obtain_age_from_profile(sample_5)"
   ]
  },
  {
   "cell_type": "code",
   "execution_count": null,
   "metadata": {
    "scrolled": false
   },
   "outputs": [],
   "source": [
    "age_6 = obtain_age_from_profile(sample_6)"
   ]
  },
  {
   "cell_type": "code",
   "execution_count": null,
   "metadata": {},
   "outputs": [],
   "source": [
    "age_7 = obtain_age_from_profile(sample_7)"
   ]
  },
  {
   "cell_type": "code",
   "execution_count": null,
   "metadata": {},
   "outputs": [],
   "source": [
    "age_8 = obtain_age_from_profile(sample_8)"
   ]
  },
  {
   "cell_type": "code",
   "execution_count": 100,
   "metadata": {},
   "outputs": [],
   "source": [
    "df_1 = pd.DataFrame(age_1)\n",
    "df_2 = pd.DataFrame(age_2)\n",
    "df_3 = pd.DataFrame(age_3)\n",
    "df_4 = pd.DataFrame(age_4)\n",
    "df_5 = pd.DataFrame(age_5)\n",
    "df_6 = pd.DataFrame(age_6)\n",
    "df_7 = pd.DataFrame(age_7)\n",
    "df_8 = pd.DataFrame(age_8)"
   ]
  },
  {
   "cell_type": "markdown",
   "metadata": {},
   "source": [
    "## Concatenating and first cleaning"
   ]
  },
  {
   "cell_type": "code",
   "execution_count": 101,
   "metadata": {},
   "outputs": [],
   "source": [
    "final_dataset = pd.concat([df_1,df_2,df_3,df_4,df_5,df_6,df_7, df_8],axis=0)"
   ]
  },
  {
   "cell_type": "code",
   "execution_count": 102,
   "metadata": {},
   "outputs": [
    {
     "data": {
      "text/html": [
       "<div>\n",
       "<style scoped>\n",
       "    .dataframe tbody tr th:only-of-type {\n",
       "        vertical-align: middle;\n",
       "    }\n",
       "\n",
       "    .dataframe tbody tr th {\n",
       "        vertical-align: top;\n",
       "    }\n",
       "\n",
       "    .dataframe thead th {\n",
       "        text-align: right;\n",
       "    }\n",
       "</style>\n",
       "<table border=\"1\" class=\"dataframe\">\n",
       "  <thead>\n",
       "    <tr style=\"text-align: right;\">\n",
       "      <th></th>\n",
       "      <th>age</th>\n",
       "      <th>link</th>\n",
       "    </tr>\n",
       "  </thead>\n",
       "  <tbody>\n",
       "    <tr>\n",
       "      <th>0</th>\n",
       "      <td>23</td>\n",
       "      <td>/max-clark/profil/spieler/183291</td>\n",
       "    </tr>\n",
       "    <tr>\n",
       "      <th>1</th>\n",
       "      <td>30</td>\n",
       "      <td>/sergio-postigo/profil/spieler/158791</td>\n",
       "    </tr>\n",
       "    <tr>\n",
       "      <th>2</th>\n",
       "      <td>28</td>\n",
       "      <td>/stanislav-iljutcenko/profil/spieler/191292</td>\n",
       "    </tr>\n",
       "    <tr>\n",
       "      <th>3</th>\n",
       "      <td>28</td>\n",
       "      <td>/ivan-marcone/profil/spieler/90451</td>\n",
       "    </tr>\n",
       "    <tr>\n",
       "      <th>4</th>\n",
       "      <td>27</td>\n",
       "      <td>/florent-mollet/profil/spieler/222859</td>\n",
       "    </tr>\n",
       "  </tbody>\n",
       "</table>\n",
       "</div>"
      ],
      "text/plain": [
       "  age                                         link\n",
       "0  23             /max-clark/profil/spieler/183291\n",
       "1  30        /sergio-postigo/profil/spieler/158791\n",
       "2  28  /stanislav-iljutcenko/profil/spieler/191292\n",
       "3  28           /ivan-marcone/profil/spieler/90451\n",
       "4  27        /florent-mollet/profil/spieler/222859"
      ]
     },
     "execution_count": 102,
     "metadata": {},
     "output_type": "execute_result"
    }
   ],
   "source": [
    "final_dataset.head()"
   ]
  },
  {
   "cell_type": "code",
   "execution_count": 103,
   "metadata": {},
   "outputs": [
    {
     "data": {
      "text/plain": [
       "(1200, 2)"
      ]
     },
     "execution_count": 103,
     "metadata": {},
     "output_type": "execute_result"
    }
   ],
   "source": [
    "final_dataset.shape"
   ]
  },
  {
   "cell_type": "markdown",
   "metadata": {},
   "source": [
    "#### Saving final dataset"
   ]
  },
  {
   "cell_type": "code",
   "execution_count": 104,
   "metadata": {},
   "outputs": [],
   "source": [
    "final_dataset.to_csv(r'/Users/gonzaloferreiro/Documents/GA_Materials/DS_Inmersive/DSI8-lessons/projects/project-capstone/Moving_forward/Final_datasets/final_ages.csv',index=False)"
   ]
  },
  {
   "cell_type": "code",
   "execution_count": 105,
   "metadata": {},
   "outputs": [],
   "source": [
    "test_loading = pd.read_csv('/Users/gonzaloferreiro/Documents/GA_Materials/DS_Inmersive/DSI8-lessons/projects/project-capstone/Moving_forward/Final_datasets/final_ages.csv')"
   ]
  },
  {
   "cell_type": "code",
   "execution_count": 106,
   "metadata": {},
   "outputs": [
    {
     "data": {
      "text/html": [
       "<div>\n",
       "<style scoped>\n",
       "    .dataframe tbody tr th:only-of-type {\n",
       "        vertical-align: middle;\n",
       "    }\n",
       "\n",
       "    .dataframe tbody tr th {\n",
       "        vertical-align: top;\n",
       "    }\n",
       "\n",
       "    .dataframe thead th {\n",
       "        text-align: right;\n",
       "    }\n",
       "</style>\n",
       "<table border=\"1\" class=\"dataframe\">\n",
       "  <thead>\n",
       "    <tr style=\"text-align: right;\">\n",
       "      <th></th>\n",
       "      <th>age</th>\n",
       "      <th>link</th>\n",
       "    </tr>\n",
       "  </thead>\n",
       "  <tbody>\n",
       "    <tr>\n",
       "      <th>0</th>\n",
       "      <td>23</td>\n",
       "      <td>/max-clark/profil/spieler/183291</td>\n",
       "    </tr>\n",
       "    <tr>\n",
       "      <th>1</th>\n",
       "      <td>30</td>\n",
       "      <td>/sergio-postigo/profil/spieler/158791</td>\n",
       "    </tr>\n",
       "    <tr>\n",
       "      <th>2</th>\n",
       "      <td>28</td>\n",
       "      <td>/stanislav-iljutcenko/profil/spieler/191292</td>\n",
       "    </tr>\n",
       "    <tr>\n",
       "      <th>3</th>\n",
       "      <td>28</td>\n",
       "      <td>/ivan-marcone/profil/spieler/90451</td>\n",
       "    </tr>\n",
       "    <tr>\n",
       "      <th>4</th>\n",
       "      <td>27</td>\n",
       "      <td>/florent-mollet/profil/spieler/222859</td>\n",
       "    </tr>\n",
       "  </tbody>\n",
       "</table>\n",
       "</div>"
      ],
      "text/plain": [
       "  age                                         link\n",
       "0  23             /max-clark/profil/spieler/183291\n",
       "1  30        /sergio-postigo/profil/spieler/158791\n",
       "2  28  /stanislav-iljutcenko/profil/spieler/191292\n",
       "3  28           /ivan-marcone/profil/spieler/90451\n",
       "4  27        /florent-mollet/profil/spieler/222859"
      ]
     },
     "execution_count": 106,
     "metadata": {},
     "output_type": "execute_result"
    }
   ],
   "source": [
    "final_dataset.head()"
   ]
  },
  {
   "cell_type": "code",
   "execution_count": 107,
   "metadata": {},
   "outputs": [
    {
     "data": {
      "text/html": [
       "<div>\n",
       "<style scoped>\n",
       "    .dataframe tbody tr th:only-of-type {\n",
       "        vertical-align: middle;\n",
       "    }\n",
       "\n",
       "    .dataframe tbody tr th {\n",
       "        vertical-align: top;\n",
       "    }\n",
       "\n",
       "    .dataframe thead th {\n",
       "        text-align: right;\n",
       "    }\n",
       "</style>\n",
       "<table border=\"1\" class=\"dataframe\">\n",
       "  <thead>\n",
       "    <tr style=\"text-align: right;\">\n",
       "      <th></th>\n",
       "      <th>age</th>\n",
       "      <th>link</th>\n",
       "    </tr>\n",
       "  </thead>\n",
       "  <tbody>\n",
       "    <tr>\n",
       "      <th>0</th>\n",
       "      <td>23</td>\n",
       "      <td>/max-clark/profil/spieler/183291</td>\n",
       "    </tr>\n",
       "    <tr>\n",
       "      <th>1</th>\n",
       "      <td>30</td>\n",
       "      <td>/sergio-postigo/profil/spieler/158791</td>\n",
       "    </tr>\n",
       "    <tr>\n",
       "      <th>2</th>\n",
       "      <td>28</td>\n",
       "      <td>/stanislav-iljutcenko/profil/spieler/191292</td>\n",
       "    </tr>\n",
       "    <tr>\n",
       "      <th>3</th>\n",
       "      <td>28</td>\n",
       "      <td>/ivan-marcone/profil/spieler/90451</td>\n",
       "    </tr>\n",
       "    <tr>\n",
       "      <th>4</th>\n",
       "      <td>27</td>\n",
       "      <td>/florent-mollet/profil/spieler/222859</td>\n",
       "    </tr>\n",
       "  </tbody>\n",
       "</table>\n",
       "</div>"
      ],
      "text/plain": [
       "   age                                         link\n",
       "0   23             /max-clark/profil/spieler/183291\n",
       "1   30        /sergio-postigo/profil/spieler/158791\n",
       "2   28  /stanislav-iljutcenko/profil/spieler/191292\n",
       "3   28           /ivan-marcone/profil/spieler/90451\n",
       "4   27        /florent-mollet/profil/spieler/222859"
      ]
     },
     "execution_count": 107,
     "metadata": {},
     "output_type": "execute_result"
    }
   ],
   "source": [
    "test_loading.head()"
   ]
  },
  {
   "cell_type": "code",
   "execution_count": null,
   "metadata": {},
   "outputs": [],
   "source": []
  }
 ],
 "metadata": {
  "kernelspec": {
   "display_name": "Python 3",
   "language": "python",
   "name": "python3"
  },
  "language_info": {
   "codemirror_mode": {
    "name": "ipython",
    "version": 3
   },
   "file_extension": ".py",
   "mimetype": "text/x-python",
   "name": "python",
   "nbconvert_exporter": "python",
   "pygments_lexer": "ipython3",
   "version": "3.6.8"
  },
  "notify_time": "5"
 },
 "nbformat": 4,
 "nbformat_minor": 2
}
