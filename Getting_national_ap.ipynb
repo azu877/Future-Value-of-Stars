{
 "cells": [
  {
   "cell_type": "code",
   "execution_count": 1,
   "metadata": {},
   "outputs": [],
   "source": [
    "import numpy as np\n",
    "import pandas as pd\n",
    "import souper_v2\n",
    "from tqdm import tqdm_notebook"
   ]
  },
  {
   "cell_type": "code",
   "execution_count": 2,
   "metadata": {},
   "outputs": [],
   "source": [
    "sampled_players = pd.read_csv('/Users/gonzaloferreiro/Documents/GA_Materials/DS_Inmersive/DSI8-lessons/projects/project-capstone/Moving_forward/final_list_of_sampled_players.csv')"
   ]
  },
  {
   "cell_type": "code",
   "execution_count": 3,
   "metadata": {},
   "outputs": [
    {
     "data": {
      "text/html": [
       "<div>\n",
       "<style scoped>\n",
       "    .dataframe tbody tr th:only-of-type {\n",
       "        vertical-align: middle;\n",
       "    }\n",
       "\n",
       "    .dataframe tbody tr th {\n",
       "        vertical-align: top;\n",
       "    }\n",
       "\n",
       "    .dataframe thead th {\n",
       "        text-align: right;\n",
       "    }\n",
       "</style>\n",
       "<table border=\"1\" class=\"dataframe\">\n",
       "  <thead>\n",
       "    <tr style=\"text-align: right;\">\n",
       "      <th></th>\n",
       "      <th>player</th>\n",
       "      <th>lastname</th>\n",
       "      <th>team</th>\n",
       "      <th>link_tm</th>\n",
       "      <th>link_ws</th>\n",
       "    </tr>\n",
       "  </thead>\n",
       "  <tbody>\n",
       "    <tr>\n",
       "      <th>0</th>\n",
       "      <td>Max Clark</td>\n",
       "      <td>Clark</td>\n",
       "      <td>Vitesse</td>\n",
       "      <td>/max-clark/profil/spieler/183291</td>\n",
       "      <td>/Players/313996/Show/Max-Clark</td>\n",
       "    </tr>\n",
       "    <tr>\n",
       "      <th>1</th>\n",
       "      <td>Sergio Postigo</td>\n",
       "      <td>Postigo</td>\n",
       "      <td>Levante</td>\n",
       "      <td>/sergio-postigo/profil/spieler/158791</td>\n",
       "      <td>/Players/109896/Show/Sergio-Postigo</td>\n",
       "    </tr>\n",
       "    <tr>\n",
       "      <th>2</th>\n",
       "      <td>Stanislav Iljutcenko</td>\n",
       "      <td>Iljutcenko</td>\n",
       "      <td>Duisburg</td>\n",
       "      <td>/stanislav-iljutcenko/profil/spieler/191292</td>\n",
       "      <td>/Players/132901/Show/Stanislav-Iljutcenko</td>\n",
       "    </tr>\n",
       "    <tr>\n",
       "      <th>3</th>\n",
       "      <td>Iván Marcone</td>\n",
       "      <td>Marcone</td>\n",
       "      <td>Boca Juniors</td>\n",
       "      <td>/ivan-marcone/profil/spieler/90451</td>\n",
       "      <td>/Players/125246/Show/Iván-Marcone</td>\n",
       "    </tr>\n",
       "    <tr>\n",
       "      <th>4</th>\n",
       "      <td>Florent Mollet</td>\n",
       "      <td>Mollet</td>\n",
       "      <td>Montpellier</td>\n",
       "      <td>/florent-mollet/profil/spieler/222859</td>\n",
       "      <td>/Players/114169/Show/Florent-Mollet</td>\n",
       "    </tr>\n",
       "  </tbody>\n",
       "</table>\n",
       "</div>"
      ],
      "text/plain": [
       "                 player    lastname          team  \\\n",
       "0             Max Clark       Clark       Vitesse   \n",
       "1        Sergio Postigo     Postigo       Levante   \n",
       "2  Stanislav Iljutcenko  Iljutcenko      Duisburg   \n",
       "3          Iván Marcone     Marcone  Boca Juniors   \n",
       "4        Florent Mollet      Mollet   Montpellier   \n",
       "\n",
       "                                       link_tm  \\\n",
       "0             /max-clark/profil/spieler/183291   \n",
       "1        /sergio-postigo/profil/spieler/158791   \n",
       "2  /stanislav-iljutcenko/profil/spieler/191292   \n",
       "3           /ivan-marcone/profil/spieler/90451   \n",
       "4        /florent-mollet/profil/spieler/222859   \n",
       "\n",
       "                                     link_ws  \n",
       "0             /Players/313996/Show/Max-Clark  \n",
       "1        /Players/109896/Show/Sergio-Postigo  \n",
       "2  /Players/132901/Show/Stanislav-Iljutcenko  \n",
       "3          /Players/125246/Show/Iván-Marcone  \n",
       "4        /Players/114169/Show/Florent-Mollet  "
      ]
     },
     "execution_count": 3,
     "metadata": {},
     "output_type": "execute_result"
    }
   ],
   "source": [
    "sampled_players.head()"
   ]
  },
  {
   "cell_type": "code",
   "execution_count": 4,
   "metadata": {},
   "outputs": [],
   "source": [
    "sp = souper_v2.souper()"
   ]
  },
  {
   "cell_type": "code",
   "execution_count": 8,
   "metadata": {
    "code_folding": [
     0
    ]
   },
   "outputs": [],
   "source": [
    "def obtain_national_ap_and_agent(players_df):\n",
    "    \n",
    "    links = players_df.link_tm\n",
    "    nationality = \"\"\n",
    "    \n",
    "    returner = {'link': [], 'nationality': [], 'minutes': [], 'agent': []}\n",
    "    \n",
    "    for each_link in tqdm_notebook(links):\n",
    "        \n",
    "        # Obtaining final link\n",
    "        back_link = each_link.replace(\"profil\",\"nationalmannschaft\")\n",
    "        new_link = 'https://www.transfermarkt.co.uk' + back_link\n",
    "        print(new_link)\n",
    "        soup = sp.get_soup(new_link)\n",
    "        \n",
    "        # Obtaining nationality\n",
    "        try:\n",
    "            nationality = soup.find('span', attrs={'itemprop':'nationality'}).text.strip()\n",
    "        except:\n",
    "            nationality = np.nan\n",
    "        \n",
    "        # Obtaining minutes\n",
    "        national_team = [x.text.strip() for x in soup.find_all('a', attrs={'class': 'chzn-single'}) if x.text.strip() == nationality]\n",
    "        if len(national_team) == 0:\n",
    "            national_team = \"\"\n",
    "        else:\n",
    "            national_team = national_team[0]\n",
    "        \n",
    "        # Checking if list corresponds to nationality. Otherwise is a minor national team\n",
    "        if national_team == nationality:\n",
    "            minutes_list = []\n",
    "            for each in soup.find_all('div', attrs={'id':'yw1'}):\n",
    "                for minutes in each.find_all('td', attrs={'class': 'rechts'}):\n",
    "                    minutes_list.append(minutes.text.strip())\n",
    "\n",
    "            final_list = [int(x.replace(\".\",\"\").replace(\"'\",\"\")) for x in minutes_list if x.replace(\"'\",\"\").replace(\".\",\"\").isnumeric()]\n",
    "            final_list.sort(reverse=True)\n",
    "            if len(final_list) == 0:\n",
    "                minutes = 0\n",
    "            else:\n",
    "                minutes = final_list[0]\n",
    "            \n",
    "        else:\n",
    "            minutes = 0\n",
    "            \n",
    "        # Obtaining agent   \n",
    "        values = [x.text.strip() for x in soup.find_all('span', attrs={'class':'dataValue'})]\n",
    "        items = [x.text.strip() for x in soup.find_all('span', attrs={'class':'dataItem'})]\n",
    "        agent = [x for x,y in zip(values,items) if y == \"Agent:\"]\n",
    "        if len(agent) == 0:\n",
    "            agent = \"No agent\"\n",
    "        else:\n",
    "            agent = agent[0]\n",
    "        \n",
    "        returner['link'].append(each_link)\n",
    "        returner['nationality'].append(nationality)\n",
    "        returner['minutes'].append(minutes)\n",
    "        returner['agent'].append(agent)\n",
    "    \n",
    "        \n",
    "    return returner"
   ]
  },
  {
   "cell_type": "code",
   "execution_count": null,
   "metadata": {
    "scrolled": true
   },
   "outputs": [],
   "source": [
    "national_apps = obtain_national_ap_and_agent(sampled_players)"
   ]
  },
  {
   "cell_type": "code",
   "execution_count": 10,
   "metadata": {},
   "outputs": [],
   "source": [
    "national_apps_df = pd.DataFrame(national_apps)"
   ]
  },
  {
   "cell_type": "code",
   "execution_count": 12,
   "metadata": {},
   "outputs": [],
   "source": [
    "national_apps_df.to_csv(r'/Users/gonzaloferreiro/Documents/GA_Materials/DS_Inmersive/DSI8-lessons/projects/project-capstone/Moving_forward/final_national_apps.csv',index=False)"
   ]
  },
  {
   "cell_type": "code",
   "execution_count": 13,
   "metadata": {},
   "outputs": [],
   "source": [
    "test_loading = pd.read_csv('/Users/gonzaloferreiro/Documents/GA_Materials/DS_Inmersive/DSI8-lessons/projects/project-capstone/Moving_forward/final_national_apps.csv')"
   ]
  },
  {
   "cell_type": "code",
   "execution_count": 14,
   "metadata": {},
   "outputs": [
    {
     "data": {
      "text/html": [
       "<div>\n",
       "<style scoped>\n",
       "    .dataframe tbody tr th:only-of-type {\n",
       "        vertical-align: middle;\n",
       "    }\n",
       "\n",
       "    .dataframe tbody tr th {\n",
       "        vertical-align: top;\n",
       "    }\n",
       "\n",
       "    .dataframe thead th {\n",
       "        text-align: right;\n",
       "    }\n",
       "</style>\n",
       "<table border=\"1\" class=\"dataframe\">\n",
       "  <thead>\n",
       "    <tr style=\"text-align: right;\">\n",
       "      <th></th>\n",
       "      <th>link</th>\n",
       "      <th>nationality</th>\n",
       "      <th>minutes</th>\n",
       "      <th>agent</th>\n",
       "    </tr>\n",
       "  </thead>\n",
       "  <tbody>\n",
       "    <tr>\n",
       "      <th>0</th>\n",
       "      <td>/max-clark/profil/spieler/183291</td>\n",
       "      <td>England</td>\n",
       "      <td>0</td>\n",
       "      <td>KIN</td>\n",
       "    </tr>\n",
       "    <tr>\n",
       "      <th>1</th>\n",
       "      <td>/sergio-postigo/profil/spieler/158791</td>\n",
       "      <td>Spain</td>\n",
       "      <td>0</td>\n",
       "      <td>JPA Soccer</td>\n",
       "    </tr>\n",
       "    <tr>\n",
       "      <th>2</th>\n",
       "      <td>/stanislav-iljutcenko/profil/spieler/191292</td>\n",
       "      <td>Russia</td>\n",
       "      <td>0</td>\n",
       "      <td>Coaches &amp; More GmbH</td>\n",
       "    </tr>\n",
       "    <tr>\n",
       "      <th>3</th>\n",
       "      <td>/ivan-marcone/profil/spieler/90451</td>\n",
       "      <td>Argentina</td>\n",
       "      <td>0</td>\n",
       "      <td>Christian Bragarnik</td>\n",
       "    </tr>\n",
       "    <tr>\n",
       "      <th>4</th>\n",
       "      <td>/florent-mollet/profil/spieler/222859</td>\n",
       "      <td>France</td>\n",
       "      <td>0</td>\n",
       "      <td>No agent</td>\n",
       "    </tr>\n",
       "  </tbody>\n",
       "</table>\n",
       "</div>"
      ],
      "text/plain": [
       "                                          link nationality  minutes  \\\n",
       "0             /max-clark/profil/spieler/183291     England        0   \n",
       "1        /sergio-postigo/profil/spieler/158791       Spain        0   \n",
       "2  /stanislav-iljutcenko/profil/spieler/191292      Russia        0   \n",
       "3           /ivan-marcone/profil/spieler/90451   Argentina        0   \n",
       "4        /florent-mollet/profil/spieler/222859      France        0   \n",
       "\n",
       "                 agent  \n",
       "0                  KIN  \n",
       "1           JPA Soccer  \n",
       "2  Coaches & More GmbH  \n",
       "3  Christian Bragarnik  \n",
       "4             No agent  "
      ]
     },
     "execution_count": 14,
     "metadata": {},
     "output_type": "execute_result"
    }
   ],
   "source": [
    "test_loading.head()"
   ]
  }
 ],
 "metadata": {
  "kernelspec": {
   "display_name": "Python 3",
   "language": "python",
   "name": "python3"
  },
  "language_info": {
   "codemirror_mode": {
    "name": "ipython",
    "version": 3
   },
   "file_extension": ".py",
   "mimetype": "text/x-python",
   "name": "python",
   "nbconvert_exporter": "python",
   "pygments_lexer": "ipython3",
   "version": "3.6.8"
  },
  "notify_time": "5"
 },
 "nbformat": 4,
 "nbformat_minor": 2
}
