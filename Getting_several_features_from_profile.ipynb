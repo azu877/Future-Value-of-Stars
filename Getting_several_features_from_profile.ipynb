{
 "cells": [
  {
   "cell_type": "code",
   "execution_count": null,
   "metadata": {},
   "outputs": [],
   "source": [
    "import numpy as np\n",
    "import pandas as pd\n",
    "import souper_v2\n",
    "from tqdm import tqdm_notebook\n",
    "from torrequest import TorRequest\n",
    "from bs4 import BeautifulSoup\n",
    "from retrying import retry"
   ]
  },
  {
   "cell_type": "code",
   "execution_count": null,
   "metadata": {},
   "outputs": [],
   "source": [
    "sampled_players = pd.read_csv('/Users/gonzaloferreiro/Documents/GA_Materials/DS_Inmersive/DSI8-lessons/projects/project-capstone/Moving_forward/Final_datasets/final_list_of_sampled_players.csv')"
   ]
  },
  {
   "cell_type": "code",
   "execution_count": null,
   "metadata": {},
   "outputs": [],
   "source": [
    "sp = souper_v2.souper()"
   ]
  },
  {
   "cell_type": "code",
   "execution_count": null,
   "metadata": {},
   "outputs": [],
   "source": [
    "@retry(wait_fixed=3000)\n",
    "def get_soup(URL):\n",
    "    with TorRequest() as tr:\n",
    "        tr.reset_identity()\n",
    "        headers = {\"User-Agent\":'Mozilla/5.0 (X11; Linux x86_64; rv:7.0.1) Gecko/20100101 Firefox/7.7'}\n",
    "        r = tr.get(URL, headers=headers)\n",
    "        soup = BeautifulSoup(r.text, 'html.parser')\n",
    "        return soup"
   ]
  },
  {
   "cell_type": "code",
   "execution_count": null,
   "metadata": {
    "code_folding": []
   },
   "outputs": [],
   "source": [
    "def obtain_several_from_profile(players_df):\n",
    "     \n",
    "    links = players_df.link_tm\n",
    "    nationality = \"\"\n",
    "    \n",
    "    returner = {'current_value': [], 'highest_value': [], 'outfitter': [],\n",
    "                'last_team': [], 'prev_team': [], 'prev_prev_team': [], 'link': []}\n",
    "    \n",
    "    for each_link in tqdm_notebook(links):\n",
    "        \n",
    "        # Obtaining final link\n",
    "        new_link = 'https://www.transfermarkt.co.uk' + each_link\n",
    "        print(new_link)\n",
    "        soup = get_soup(new_link)\n",
    "        \n",
    "        # Obtaining highest and current value\n",
    "        values = [x.text.strip() for x in soup.find_all('div', attrs={'class':'right-td'})]\n",
    "        \n",
    "        try:\n",
    "            current_value = values[0]\n",
    "        except:\n",
    "            current_value = 0\n",
    "            \n",
    "        try:\n",
    "            cleaning_value = values[2]\n",
    "        except:\n",
    "            cleaning_value = 0\n",
    "            \n",
    "        highest_value = \"\"\n",
    "        for each in str(cleaning_value):\n",
    "            if each != \" \":\n",
    "                highest_value = highest_value + each\n",
    "            else:\n",
    "                break\n",
    "        \n",
    "        # Obtaining outfitter\n",
    "        outfitter = [x.text.strip() for x in soup.find_all('table', attrs={'class':'auflistung'})]\n",
    "        try:\n",
    "            outfitter_name = re.findall(r'((?<=Outfitter:\\\\n).+(?=\\\\n\\\\n\\\\n))', str(outfitter))[0]\n",
    "        except:\n",
    "            outfitter_name = \"None\"\n",
    "            \n",
    "        # Getting last 3 teams\n",
    "        teams = []\n",
    "        \n",
    "        try:\n",
    "            teamsss = soup.find('div', attrs={'class':'responsive-table'})\n",
    "            for team in teamsss.find_all('a', attrs={'class':'vereinprofil_tooltip'}):\n",
    "                teams.append(team.text.strip())\n",
    "        except:\n",
    "            None\n",
    "                    \n",
    "        try:\n",
    "            last = teams[5]\n",
    "        except:\n",
    "            last = \"No_team\"\n",
    "            \n",
    "        try:\n",
    "            prev = teams[2]\n",
    "        except:\n",
    "            prev = \"No_team\"\n",
    "        \n",
    "        try:\n",
    "            prev_prev = teams[8]\n",
    "        except:\n",
    "            prev_prev = \"No_team\"\n",
    "                    \n",
    "        returner['current_value'].append(current_value)\n",
    "        returner['highest_value'].append(highest_value)\n",
    "        returner['outfitter'].append(outfitter_name)\n",
    "        returner['last_team'].append(last)\n",
    "        returner['prev_team'].append(prev)\n",
    "        returner['prev_prev_team'].append(prev_prev)\n",
    "        returner['link'].append(each_link)\n",
    "                    \n",
    "    return returner"
   ]
  },
  {
   "cell_type": "markdown",
   "metadata": {},
   "source": [
    "## Obtaining data by parts"
   ]
  },
  {
   "cell_type": "code",
   "execution_count": null,
   "metadata": {},
   "outputs": [],
   "source": [
    "sample_1 = sampled_players.iloc[0:179]\n",
    "sample_2 = sampled_players.iloc[180:359]\n",
    "sample_3 = sampled_players.iloc[360:539]\n",
    "sample_4 = sampled_players.iloc[540:719]\n",
    "sample_5 = sampled_players.iloc[720:899]\n",
    "sample_6 = sampled_players.iloc[900:1079]\n",
    "sample_7 = sampled_players.iloc[1080:]"
   ]
  },
  {
   "cell_type": "code",
   "execution_count": null,
   "metadata": {},
   "outputs": [],
   "source": [
    "several_features_1 = obtain_several_from_profile(sample_1)"
   ]
  },
  {
   "cell_type": "code",
   "execution_count": null,
   "metadata": {},
   "outputs": [],
   "source": [
    "several_features_2 = obtain_several_from_profile(sample_2)"
   ]
  },
  {
   "cell_type": "code",
   "execution_count": null,
   "metadata": {},
   "outputs": [],
   "source": [
    "several_features_3 = obtain_several_from_profile(sample_3)"
   ]
  },
  {
   "cell_type": "code",
   "execution_count": null,
   "metadata": {},
   "outputs": [],
   "source": [
    "several_features_4 = obtain_several_from_profile(sample_4)"
   ]
  },
  {
   "cell_type": "code",
   "execution_count": null,
   "metadata": {},
   "outputs": [],
   "source": [
    "several_features_5 = obtain_several_from_profile(sample_5)"
   ]
  },
  {
   "cell_type": "code",
   "execution_count": null,
   "metadata": {},
   "outputs": [],
   "source": [
    "several_features_6 = obtain_several_from_profile(sample_6)"
   ]
  },
  {
   "cell_type": "code",
   "execution_count": null,
   "metadata": {},
   "outputs": [],
   "source": [
    "df_1 = pd.DataFrame(several_features_1)\n",
    "df_2 = pd.DataFrame(several_features_2)\n",
    "df_3 = pd.DataFrame(several_features_3)\n",
    "df_4 = pd.DataFrame(several_features_4)\n",
    "df_5 = pd.DataFrame(several_features_5)\n",
    "df_6 = pd.DataFrame(several_features_6)\n",
    "df_7 = pd.DataFrame(several_features_7)\n",
    "df_8 = pd.DataFrame(several_features_8)"
   ]
  },
  {
   "cell_type": "code",
   "execution_count": null,
   "metadata": {},
   "outputs": [],
   "source": [
    "df_1.to_csv(r'/Users/gonzaloferreiro/Documents/GA_Materials/DS_Inmersive/DSI8-lessons/projects/project-capstone/Moving_forward/Back up files/Parts of several features/df_1',index=False)\n",
    "df_2.to_csv(r'/Users/gonzaloferreiro/Documents/GA_Materials/DS_Inmersive/DSI8-lessons/projects/project-capstone/Moving_forward/Back up files/Parts of several features/df_2',index=False)\n",
    "df_3.to_csv(r'/Users/gonzaloferreiro/Documents/GA_Materials/DS_Inmersive/DSI8-lessons/projects/project-capstone/Moving_forward/Back up files/Parts of several features/df_3',index=False)\n",
    "df_4.to_csv(r'/Users/gonzaloferreiro/Documents/GA_Materials/DS_Inmersive/DSI8-lessons/projects/project-capstone/Moving_forward/Back up files/Parts of several features/df_4',index=False)\n",
    "df_5.to_csv(r'/Users/gonzaloferreiro/Documents/GA_Materials/DS_Inmersive/DSI8-lessons/projects/project-capstone/Moving_forward/Back up files/Parts of several features/df_5',index=False)\n",
    "df_6.to_csv(r'/Users/gonzaloferreiro/Documents/GA_Materials/DS_Inmersive/DSI8-lessons/projects/project-capstone/Moving_forward/Back up files/Parts of several features/df_6',index=False)\n",
    "df_7.to_csv(r'/Users/gonzaloferreiro/Documents/GA_Materials/DS_Inmersive/DSI8-lessons/projects/project-capstone/Moving_forward/Back up files/Parts of several features/df_7',index=False)\n",
    "df_8.to_csv(r'/Users/gonzaloferreiro/Documents/GA_Materials/DS_Inmersive/DSI8-lessons/projects/project-capstone/Moving_forward/Back up files/Parts of several features/df_8',index=False)"
   ]
  },
  {
   "cell_type": "code",
   "execution_count": null,
   "metadata": {},
   "outputs": [],
   "source": [
    "several_features_7 = obtain_several_from_profile(sample_7)"
   ]
  },
  {
   "cell_type": "code",
   "execution_count": null,
   "metadata": {},
   "outputs": [],
   "source": [
    "sample_8 = sampled_players.iloc[[179,359,539,719,899,1079]]"
   ]
  },
  {
   "cell_type": "code",
   "execution_count": null,
   "metadata": {},
   "outputs": [],
   "source": [
    "several_features_8 = obtain_several_from_profile(sample_8)"
   ]
  },
  {
   "cell_type": "markdown",
   "metadata": {},
   "source": [
    "## Concatenating and first cleaning"
   ]
  },
  {
   "cell_type": "code",
   "execution_count": null,
   "metadata": {},
   "outputs": [],
   "source": [
    "final_dataset = pd.concat([df_1,df_2,df_3,df_4,df_5,df_6,df_7,df_8],axis=0)"
   ]
  },
  {
   "cell_type": "code",
   "execution_count": null,
   "metadata": {},
   "outputs": [],
   "source": [
    "final_dataset.head()"
   ]
  },
  {
   "cell_type": "code",
   "execution_count": null,
   "metadata": {},
   "outputs": [],
   "source": [
    "final_dataset.shape"
   ]
  },
  {
   "cell_type": "markdown",
   "metadata": {},
   "source": [
    "#### Checking for duplicates"
   ]
  },
  {
   "cell_type": "code",
   "execution_count": null,
   "metadata": {},
   "outputs": [],
   "source": [
    "duplicates = final_dataset[final_dataset.groupby('link')['link'].transform('size') > 1]"
   ]
  },
  {
   "cell_type": "code",
   "execution_count": null,
   "metadata": {},
   "outputs": [],
   "source": [
    "duplicates.head()"
   ]
  },
  {
   "cell_type": "markdown",
   "metadata": {},
   "source": [
    "#### Saving final dataset"
   ]
  },
  {
   "cell_type": "code",
   "execution_count": null,
   "metadata": {},
   "outputs": [],
   "source": [
    "final_dataset.to_csv(r'/Users/gonzaloferreiro/Documents/GA_Materials/DS_Inmersive/DSI8-lessons/projects/project-capstone/Moving_forward/Final_datasets/final_several_features_VALUEEE.csv',index=False)"
   ]
  },
  {
   "cell_type": "code",
   "execution_count": null,
   "metadata": {},
   "outputs": [],
   "source": [
    "test_loading = pd.read_csv('/Users/gonzaloferreiro/Documents/GA_Materials/DS_Inmersive/DSI8-lessons/projects/project-capstone/Moving_forward/Final_datasets/final_several_features_VALUEEE.csv')"
   ]
  },
  {
   "cell_type": "code",
   "execution_count": null,
   "metadata": {},
   "outputs": [],
   "source": [
    "final_dataset.head()"
   ]
  },
  {
   "cell_type": "code",
   "execution_count": null,
   "metadata": {},
   "outputs": [],
   "source": [
    "test_loading.head()"
   ]
  }
 ],
 "metadata": {
  "kernelspec": {
   "display_name": "Python 3",
   "language": "python",
   "name": "python3"
  },
  "language_info": {
   "codemirror_mode": {
    "name": "ipython",
    "version": 3
   },
   "file_extension": ".py",
   "mimetype": "text/x-python",
   "name": "python",
   "nbconvert_exporter": "python",
   "pygments_lexer": "ipython3",
   "version": "3.6.8"
  },
  "notify_time": "5"
 },
 "nbformat": 4,
 "nbformat_minor": 2
}
