{
 "cells": [
  {
   "cell_type": "code",
   "execution_count": 14,
   "metadata": {},
   "outputs": [],
   "source": [
    "import requests\n",
    "import bs4\n",
    "from bs4 import BeautifulSoup\n",
    "from tqdm import tqdm_notebook\n",
    "import numpy as np\n",
    "import re\n",
    "import pandas as pd\n",
    "import souper_v2\n",
    "import time"
   ]
  },
  {
   "cell_type": "code",
   "execution_count": 7,
   "metadata": {},
   "outputs": [],
   "source": [
    "sampled_players = pd.read_csv('/Users/gonzaloferreiro/Documents/GA_Materials/DS_Inmersive/DSI8-lessons/projects/project-capstone/Moving_forward/Final_datasets/final_list_of_sampled_players.csv')"
   ]
  },
  {
   "cell_type": "code",
   "execution_count": 8,
   "metadata": {},
   "outputs": [
    {
     "data": {
      "text/html": [
       "<div>\n",
       "<style scoped>\n",
       "    .dataframe tbody tr th:only-of-type {\n",
       "        vertical-align: middle;\n",
       "    }\n",
       "\n",
       "    .dataframe tbody tr th {\n",
       "        vertical-align: top;\n",
       "    }\n",
       "\n",
       "    .dataframe thead th {\n",
       "        text-align: right;\n",
       "    }\n",
       "</style>\n",
       "<table border=\"1\" class=\"dataframe\">\n",
       "  <thead>\n",
       "    <tr style=\"text-align: right;\">\n",
       "      <th></th>\n",
       "      <th>player</th>\n",
       "      <th>lastname</th>\n",
       "      <th>team</th>\n",
       "      <th>link_tm</th>\n",
       "      <th>link_ws</th>\n",
       "    </tr>\n",
       "  </thead>\n",
       "  <tbody>\n",
       "    <tr>\n",
       "      <th>0</th>\n",
       "      <td>Max Clark</td>\n",
       "      <td>Clark</td>\n",
       "      <td>Vitesse</td>\n",
       "      <td>/max-clark/profil/spieler/183291</td>\n",
       "      <td>/Players/313996/Show/Max-Clark</td>\n",
       "    </tr>\n",
       "    <tr>\n",
       "      <th>1</th>\n",
       "      <td>Sergio Postigo</td>\n",
       "      <td>Postigo</td>\n",
       "      <td>Levante</td>\n",
       "      <td>/sergio-postigo/profil/spieler/158791</td>\n",
       "      <td>/Players/109896/Show/Sergio-Postigo</td>\n",
       "    </tr>\n",
       "    <tr>\n",
       "      <th>2</th>\n",
       "      <td>Stanislav Iljutcenko</td>\n",
       "      <td>Iljutcenko</td>\n",
       "      <td>Duisburg</td>\n",
       "      <td>/stanislav-iljutcenko/profil/spieler/191292</td>\n",
       "      <td>/Players/132901/Show/Stanislav-Iljutcenko</td>\n",
       "    </tr>\n",
       "    <tr>\n",
       "      <th>3</th>\n",
       "      <td>Iván Marcone</td>\n",
       "      <td>Marcone</td>\n",
       "      <td>Boca Juniors</td>\n",
       "      <td>/ivan-marcone/profil/spieler/90451</td>\n",
       "      <td>/Players/125246/Show/Iván-Marcone</td>\n",
       "    </tr>\n",
       "    <tr>\n",
       "      <th>4</th>\n",
       "      <td>Florent Mollet</td>\n",
       "      <td>Mollet</td>\n",
       "      <td>Montpellier</td>\n",
       "      <td>/florent-mollet/profil/spieler/222859</td>\n",
       "      <td>/Players/114169/Show/Florent-Mollet</td>\n",
       "    </tr>\n",
       "  </tbody>\n",
       "</table>\n",
       "</div>"
      ],
      "text/plain": [
       "                 player    lastname          team  \\\n",
       "0             Max Clark       Clark       Vitesse   \n",
       "1        Sergio Postigo     Postigo       Levante   \n",
       "2  Stanislav Iljutcenko  Iljutcenko      Duisburg   \n",
       "3          Iván Marcone     Marcone  Boca Juniors   \n",
       "4        Florent Mollet      Mollet   Montpellier   \n",
       "\n",
       "                                       link_tm  \\\n",
       "0             /max-clark/profil/spieler/183291   \n",
       "1        /sergio-postigo/profil/spieler/158791   \n",
       "2  /stanislav-iljutcenko/profil/spieler/191292   \n",
       "3           /ivan-marcone/profil/spieler/90451   \n",
       "4        /florent-mollet/profil/spieler/222859   \n",
       "\n",
       "                                     link_ws  \n",
       "0             /Players/313996/Show/Max-Clark  \n",
       "1        /Players/109896/Show/Sergio-Postigo  \n",
       "2  /Players/132901/Show/Stanislav-Iljutcenko  \n",
       "3          /Players/125246/Show/Iván-Marcone  \n",
       "4        /Players/114169/Show/Florent-Mollet  "
      ]
     },
     "execution_count": 8,
     "metadata": {},
     "output_type": "execute_result"
    }
   ],
   "source": [
    "sampled_players.head()"
   ]
  },
  {
   "cell_type": "code",
   "execution_count": 9,
   "metadata": {},
   "outputs": [
    {
     "data": {
      "text/plain": [
       "(1200, 5)"
      ]
     },
     "execution_count": 9,
     "metadata": {},
     "output_type": "execute_result"
    }
   ],
   "source": [
    "sampled_players.shape"
   ]
  },
  {
   "cell_type": "code",
   "execution_count": 10,
   "metadata": {},
   "outputs": [],
   "source": [
    "sp = souper_v2.souper()"
   ]
  },
  {
   "cell_type": "code",
   "execution_count": 11,
   "metadata": {
    "code_folding": []
   },
   "outputs": [],
   "source": [
    "def get_google_results_webdriver(list_players):\n",
    "\n",
    "    g_results = {'link':[], 'search':[], 'results':[]}\n",
    "    pattern = re.compile(r'(?<=About ).+(?= results)')\n",
    "\n",
    "    for each in tqdm_notebook(range(len(list_players.player))):\n",
    "        each_team = list_players.team[each].replace(\" \",\"+\")\n",
    "        each_name = list_players.player[each].replace(\" \",\"+\")\n",
    "        each_search = each_name + \"+\" + each_team\n",
    "        url = \"https://www.google.com/search?q={}\".format(each_search)\n",
    "        soup = sp.get_soup(url)\n",
    "        results = soup.find('div', attrs={'id':'resultStats'}).text.strip()\n",
    "        results = re.findall(pattern, results)\n",
    "    \n",
    "        try:\n",
    "            results.replace(\",\",\"\")\n",
    "        except:\n",
    "            pass\n",
    "        g_results['link'].append(list_players.link_tm[each])\n",
    "        g_results['search'].append(each_search)\n",
    "        g_results['results'].append(results[0])\n",
    "        \n",
    "    return g_results"
   ]
  },
  {
   "cell_type": "code",
   "execution_count": 12,
   "metadata": {
    "code_folding": []
   },
   "outputs": [],
   "source": [
    "def get_google_results(list_players):\n",
    "\n",
    "    g_results = {'link':[], 'search': [], 'results':[]}\n",
    "    pattern = re.compile(r'(?<=About ).+(?= results)')\n",
    "\n",
    "    for each in tqdm_notebook(range(len(list_players.player))):\n",
    "        each_team = list_players.team[each].replace(\" \",\"+\")\n",
    "        each_name = list_players.player[each].replace(\" \",\"+\")\n",
    "        each_search = each_name + \"+\" + each_team       \n",
    "        url = \"https://www.google.com/search?q={}\".format(each_search)\n",
    "        r = requests.get(url)\n",
    "        soup = BeautifulSoup(r.text,'html.parser')\n",
    "        \n",
    "        try:\n",
    "            results = soup.find('div', attrs={'id':'resultStats'}).text.strip()\n",
    "            results = re.findall(pattern, results)\n",
    "        except:\n",
    "            time.sleep(20)\n",
    "            r = requests.get(url)\n",
    "            soup = BeautifulSoup(r.text,'html.parser')\n",
    "            try:\n",
    "                results = soup.find('div', attrs={'id':'resultStats'}).text.strip()\n",
    "                results = re.findall(pattern, results)\n",
    "            except:\n",
    "                results = np.nan\n",
    "\n",
    "        try:\n",
    "            results.replace(\",\",\"\")\n",
    "        except:\n",
    "            pass\n",
    "        \n",
    "        g_results['link'].append(list_players.link_tm[each])\n",
    "        g_results['search'].append(each_search)\n",
    "        try:\n",
    "            g_results['results'].append(results[0])\n",
    "        except:\n",
    "            g_results['results'].append(results)\n",
    "        \n",
    "    return g_results"
   ]
  },
  {
   "cell_type": "code",
   "execution_count": 19,
   "metadata": {},
   "outputs": [
    {
     "data": {
      "application/vnd.jupyter.widget-view+json": {
       "model_id": "034be5895fde471bbf2efd423c6effe1",
       "version_major": 2,
       "version_minor": 0
      },
      "text/plain": [
       "HBox(children=(IntProgress(value=0, max=1200), HTML(value='')))"
      ]
     },
     "metadata": {},
     "output_type": "display_data"
    }
   ],
   "source": [
    "results_df = get_google_results(sampled_players)"
   ]
  },
  {
   "cell_type": "code",
   "execution_count": 36,
   "metadata": {},
   "outputs": [],
   "source": [
    "test = pd.DataFrame(results_df)"
   ]
  },
  {
   "cell_type": "code",
   "execution_count": 37,
   "metadata": {},
   "outputs": [],
   "source": [
    "test['results'] = test.results.map(lambda x: str(x).replace(',',''))"
   ]
  },
  {
   "cell_type": "code",
   "execution_count": 38,
   "metadata": {},
   "outputs": [],
   "source": [
    "test['results'] = test.results.map(lambda x: str(x).replace('nan','0'))"
   ]
  },
  {
   "cell_type": "code",
   "execution_count": 39,
   "metadata": {},
   "outputs": [],
   "source": [
    "test['results'] = pd.to_numeric(test['results'])"
   ]
  },
  {
   "cell_type": "code",
   "execution_count": 40,
   "metadata": {},
   "outputs": [
    {
     "data": {
      "text/html": [
       "<div>\n",
       "<style scoped>\n",
       "    .dataframe tbody tr th:only-of-type {\n",
       "        vertical-align: middle;\n",
       "    }\n",
       "\n",
       "    .dataframe tbody tr th {\n",
       "        vertical-align: top;\n",
       "    }\n",
       "\n",
       "    .dataframe thead th {\n",
       "        text-align: right;\n",
       "    }\n",
       "</style>\n",
       "<table border=\"1\" class=\"dataframe\">\n",
       "  <thead>\n",
       "    <tr style=\"text-align: right;\">\n",
       "      <th></th>\n",
       "      <th>link</th>\n",
       "      <th>search</th>\n",
       "      <th>results</th>\n",
       "    </tr>\n",
       "  </thead>\n",
       "  <tbody>\n",
       "    <tr>\n",
       "      <th>0</th>\n",
       "      <td>/max-clark/profil/spieler/183291</td>\n",
       "      <td>Max+Clark+Vitesse</td>\n",
       "      <td>1290000</td>\n",
       "    </tr>\n",
       "    <tr>\n",
       "      <th>1</th>\n",
       "      <td>/sergio-postigo/profil/spieler/158791</td>\n",
       "      <td>Sergio+Postigo+Levante</td>\n",
       "      <td>173000</td>\n",
       "    </tr>\n",
       "    <tr>\n",
       "      <th>2</th>\n",
       "      <td>/stanislav-iljutcenko/profil/spieler/191292</td>\n",
       "      <td>Stanislav+Iljutcenko+Duisburg</td>\n",
       "      <td>67900</td>\n",
       "    </tr>\n",
       "    <tr>\n",
       "      <th>3</th>\n",
       "      <td>/ivan-marcone/profil/spieler/90451</td>\n",
       "      <td>Iván+Marcone+Boca+Juniors</td>\n",
       "      <td>183000</td>\n",
       "    </tr>\n",
       "    <tr>\n",
       "      <th>4</th>\n",
       "      <td>/florent-mollet/profil/spieler/222859</td>\n",
       "      <td>Florent+Mollet+Montpellier</td>\n",
       "      <td>190000</td>\n",
       "    </tr>\n",
       "  </tbody>\n",
       "</table>\n",
       "</div>"
      ],
      "text/plain": [
       "                                          link                         search  \\\n",
       "0             /max-clark/profil/spieler/183291              Max+Clark+Vitesse   \n",
       "1        /sergio-postigo/profil/spieler/158791         Sergio+Postigo+Levante   \n",
       "2  /stanislav-iljutcenko/profil/spieler/191292  Stanislav+Iljutcenko+Duisburg   \n",
       "3           /ivan-marcone/profil/spieler/90451      Iván+Marcone+Boca+Juniors   \n",
       "4        /florent-mollet/profil/spieler/222859     Florent+Mollet+Montpellier   \n",
       "\n",
       "   results  \n",
       "0  1290000  \n",
       "1   173000  \n",
       "2    67900  \n",
       "3   183000  \n",
       "4   190000  "
      ]
     },
     "execution_count": 40,
     "metadata": {},
     "output_type": "execute_result"
    }
   ],
   "source": [
    "test.head()"
   ]
  },
  {
   "cell_type": "code",
   "execution_count": 42,
   "metadata": {},
   "outputs": [
    {
     "data": {
      "text/plain": [
       "(1200, 3)"
      ]
     },
     "execution_count": 42,
     "metadata": {},
     "output_type": "execute_result"
    }
   ],
   "source": [
    "test.shape"
   ]
  },
  {
   "cell_type": "code",
   "execution_count": 44,
   "metadata": {},
   "outputs": [],
   "source": [
    "test.to_csv(r'/Users/gonzaloferreiro/Documents/GA_Materials/DS_Inmersive/DSI8-lessons/projects/project-capstone/Moving_forward/Final_datasets/google_results_def_v2.csv',index=False)\n"
   ]
  },
  {
   "cell_type": "code",
   "execution_count": 48,
   "metadata": {},
   "outputs": [],
   "source": [
    "test_reader = pd.read_csv('/Users/gonzaloferreiro/Documents/GA_Materials/DS_Inmersive/DSI8-lessons/projects/project-capstone/Moving_forward/Final_datasets/google_results_def_v2.csv')\n"
   ]
  },
  {
   "cell_type": "code",
   "execution_count": 49,
   "metadata": {},
   "outputs": [
    {
     "data": {
      "text/plain": [
       "(1200, 3)"
      ]
     },
     "execution_count": 49,
     "metadata": {},
     "output_type": "execute_result"
    }
   ],
   "source": [
    "test_reader.shape"
   ]
  },
  {
   "cell_type": "code",
   "execution_count": 50,
   "metadata": {},
   "outputs": [
    {
     "data": {
      "text/html": [
       "<div>\n",
       "<style scoped>\n",
       "    .dataframe tbody tr th:only-of-type {\n",
       "        vertical-align: middle;\n",
       "    }\n",
       "\n",
       "    .dataframe tbody tr th {\n",
       "        vertical-align: top;\n",
       "    }\n",
       "\n",
       "    .dataframe thead th {\n",
       "        text-align: right;\n",
       "    }\n",
       "</style>\n",
       "<table border=\"1\" class=\"dataframe\">\n",
       "  <thead>\n",
       "    <tr style=\"text-align: right;\">\n",
       "      <th></th>\n",
       "      <th>link</th>\n",
       "      <th>search</th>\n",
       "      <th>results</th>\n",
       "    </tr>\n",
       "  </thead>\n",
       "  <tbody>\n",
       "    <tr>\n",
       "      <th>0</th>\n",
       "      <td>/max-clark/profil/spieler/183291</td>\n",
       "      <td>Max+Clark+Vitesse</td>\n",
       "      <td>1290000</td>\n",
       "    </tr>\n",
       "    <tr>\n",
       "      <th>1</th>\n",
       "      <td>/sergio-postigo/profil/spieler/158791</td>\n",
       "      <td>Sergio+Postigo+Levante</td>\n",
       "      <td>173000</td>\n",
       "    </tr>\n",
       "    <tr>\n",
       "      <th>2</th>\n",
       "      <td>/stanislav-iljutcenko/profil/spieler/191292</td>\n",
       "      <td>Stanislav+Iljutcenko+Duisburg</td>\n",
       "      <td>67900</td>\n",
       "    </tr>\n",
       "    <tr>\n",
       "      <th>3</th>\n",
       "      <td>/ivan-marcone/profil/spieler/90451</td>\n",
       "      <td>Iván+Marcone+Boca+Juniors</td>\n",
       "      <td>183000</td>\n",
       "    </tr>\n",
       "    <tr>\n",
       "      <th>4</th>\n",
       "      <td>/florent-mollet/profil/spieler/222859</td>\n",
       "      <td>Florent+Mollet+Montpellier</td>\n",
       "      <td>190000</td>\n",
       "    </tr>\n",
       "  </tbody>\n",
       "</table>\n",
       "</div>"
      ],
      "text/plain": [
       "                                          link                         search  \\\n",
       "0             /max-clark/profil/spieler/183291              Max+Clark+Vitesse   \n",
       "1        /sergio-postigo/profil/spieler/158791         Sergio+Postigo+Levante   \n",
       "2  /stanislav-iljutcenko/profil/spieler/191292  Stanislav+Iljutcenko+Duisburg   \n",
       "3           /ivan-marcone/profil/spieler/90451      Iván+Marcone+Boca+Juniors   \n",
       "4        /florent-mollet/profil/spieler/222859     Florent+Mollet+Montpellier   \n",
       "\n",
       "   results  \n",
       "0  1290000  \n",
       "1   173000  \n",
       "2    67900  \n",
       "3   183000  \n",
       "4   190000  "
      ]
     },
     "execution_count": 50,
     "metadata": {},
     "output_type": "execute_result"
    }
   ],
   "source": [
    "test_reader.head()"
   ]
  }
 ],
 "metadata": {
  "kernelspec": {
   "display_name": "Python 3",
   "language": "python",
   "name": "python3"
  },
  "language_info": {
   "codemirror_mode": {
    "name": "ipython",
    "version": 3
   },
   "file_extension": ".py",
   "mimetype": "text/x-python",
   "name": "python",
   "nbconvert_exporter": "python",
   "pygments_lexer": "ipython3",
   "version": "3.6.8"
  }
 },
 "nbformat": 4,
 "nbformat_minor": 2
}
