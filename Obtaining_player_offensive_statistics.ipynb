{
 "cells": [
  {
   "cell_type": "code",
   "execution_count": 1,
   "metadata": {},
   "outputs": [],
   "source": [
    "import pandas as pd\n",
    "import numpy as np\n",
    "import time\n",
    "import re\n",
    "import souper_v2\n",
    "from tqdm import tqdm_notebook\n",
    "from torrequest import TorRequest\n",
    "from bs4 import BeautifulSoup\n",
    "from retrying import retry\n",
    "from selenium.common.exceptions import TimeoutException\n",
    "import time"
   ]
  },
  {
   "cell_type": "code",
   "execution_count": 2,
   "metadata": {},
   "outputs": [],
   "source": [
    "sampled_players = pd.read_csv('/Users/gonzaloferreiro/Documents/GA_Materials/DS_Inmersive/DSI8-lessons/projects/project-capstone/Moving_forward/Final_datasets/final_list_of_sampled_players.csv')"
   ]
  },
  {
   "cell_type": "code",
   "execution_count": 3,
   "metadata": {},
   "outputs": [],
   "source": [
    "sp = souper_v2.souper()"
   ]
  },
  {
   "cell_type": "code",
   "execution_count": 4,
   "metadata": {},
   "outputs": [],
   "source": [
    "sample_1 = sampled_players.iloc[0:179]\n",
    "sample_2 = sampled_players.iloc[180:359]\n",
    "sample_3 = sampled_players.iloc[360:539]\n",
    "sample_4 = sampled_players.iloc[540:719]\n",
    "sample_5 = sampled_players.iloc[720:899]\n",
    "sample_6 = sampled_players.iloc[900:1079]\n",
    "sample_7 = sampled_players.iloc[1080:]\n",
    "sample_8 = sampled_players.iloc[[179,359,539,719,899,1079]]"
   ]
  },
  {
   "cell_type": "markdown",
   "metadata": {},
   "source": [
    "## Whoscored scrapping"
   ]
  },
  {
   "cell_type": "markdown",
   "metadata": {},
   "source": [
    "**Obtaining players offensive statistics**"
   ]
  },
  {
   "cell_type": "code",
   "execution_count": 5,
   "metadata": {},
   "outputs": [
    {
     "data": {
      "text/html": [
       "<div>\n",
       "<style scoped>\n",
       "    .dataframe tbody tr th:only-of-type {\n",
       "        vertical-align: middle;\n",
       "    }\n",
       "\n",
       "    .dataframe tbody tr th {\n",
       "        vertical-align: top;\n",
       "    }\n",
       "\n",
       "    .dataframe thead th {\n",
       "        text-align: right;\n",
       "    }\n",
       "</style>\n",
       "<table border=\"1\" class=\"dataframe\">\n",
       "  <thead>\n",
       "    <tr style=\"text-align: right;\">\n",
       "      <th></th>\n",
       "      <th>player</th>\n",
       "      <th>lastname</th>\n",
       "      <th>team</th>\n",
       "      <th>link_tm</th>\n",
       "      <th>link_ws</th>\n",
       "    </tr>\n",
       "  </thead>\n",
       "  <tbody>\n",
       "    <tr>\n",
       "      <th>0</th>\n",
       "      <td>Max Clark</td>\n",
       "      <td>Clark</td>\n",
       "      <td>Vitesse</td>\n",
       "      <td>/max-clark/profil/spieler/183291</td>\n",
       "      <td>/Players/313996/Show/Max-Clark</td>\n",
       "    </tr>\n",
       "    <tr>\n",
       "      <th>1</th>\n",
       "      <td>Sergio Postigo</td>\n",
       "      <td>Postigo</td>\n",
       "      <td>Levante</td>\n",
       "      <td>/sergio-postigo/profil/spieler/158791</td>\n",
       "      <td>/Players/109896/Show/Sergio-Postigo</td>\n",
       "    </tr>\n",
       "    <tr>\n",
       "      <th>2</th>\n",
       "      <td>Stanislav Iljutcenko</td>\n",
       "      <td>Iljutcenko</td>\n",
       "      <td>Duisburg</td>\n",
       "      <td>/stanislav-iljutcenko/profil/spieler/191292</td>\n",
       "      <td>/Players/132901/Show/Stanislav-Iljutcenko</td>\n",
       "    </tr>\n",
       "    <tr>\n",
       "      <th>3</th>\n",
       "      <td>Iván Marcone</td>\n",
       "      <td>Marcone</td>\n",
       "      <td>Boca Juniors</td>\n",
       "      <td>/ivan-marcone/profil/spieler/90451</td>\n",
       "      <td>/Players/125246/Show/Iván-Marcone</td>\n",
       "    </tr>\n",
       "    <tr>\n",
       "      <th>4</th>\n",
       "      <td>Florent Mollet</td>\n",
       "      <td>Mollet</td>\n",
       "      <td>Montpellier</td>\n",
       "      <td>/florent-mollet/profil/spieler/222859</td>\n",
       "      <td>/Players/114169/Show/Florent-Mollet</td>\n",
       "    </tr>\n",
       "  </tbody>\n",
       "</table>\n",
       "</div>"
      ],
      "text/plain": [
       "                 player    lastname          team  \\\n",
       "0             Max Clark       Clark       Vitesse   \n",
       "1        Sergio Postigo     Postigo       Levante   \n",
       "2  Stanislav Iljutcenko  Iljutcenko      Duisburg   \n",
       "3          Iván Marcone     Marcone  Boca Juniors   \n",
       "4        Florent Mollet      Mollet   Montpellier   \n",
       "\n",
       "                                       link_tm  \\\n",
       "0             /max-clark/profil/spieler/183291   \n",
       "1        /sergio-postigo/profil/spieler/158791   \n",
       "2  /stanislav-iljutcenko/profil/spieler/191292   \n",
       "3           /ivan-marcone/profil/spieler/90451   \n",
       "4        /florent-mollet/profil/spieler/222859   \n",
       "\n",
       "                                     link_ws  \n",
       "0             /Players/313996/Show/Max-Clark  \n",
       "1        /Players/109896/Show/Sergio-Postigo  \n",
       "2  /Players/132901/Show/Stanislav-Iljutcenko  \n",
       "3          /Players/125246/Show/Iván-Marcone  \n",
       "4        /Players/114169/Show/Florent-Mollet  "
      ]
     },
     "execution_count": 5,
     "metadata": {},
     "output_type": "execute_result"
    }
   ],
   "source": [
    "sampled_players.head()"
   ]
  },
  {
   "cell_type": "code",
   "execution_count": 6,
   "metadata": {},
   "outputs": [],
   "source": [
    "def extract_player_offensive(players_df):\n",
    "    \n",
    "    links = players_df.link_ws\n",
    "    teams = players_df.team\n",
    "    \n",
    "    player_info = {'keypasses': [],\n",
    "                   'dribbles': [],\n",
    "                   'fouled': [],\n",
    "                   'offsidesdone': [],\n",
    "                   'disposeseed': [],\n",
    "                   'badcontrol': [],\n",
    "                   'team': [],\n",
    "                   'link': []\n",
    "                  } \n",
    "\n",
    "    for each_link, each_team in tqdm_notebook(zip(links,teams)):\n",
    "        if \"Show\" in each_link:\n",
    "            new_link = each_link.replace(\"Show\",\"History\")\n",
    "            URL = 'https://www.whoscored.com' + new_link\n",
    "            \n",
    "            try:\n",
    "                soup = sp.get_soup(URL, click=True, element='//*[@id=\"player-tournament-stats-options\"]/li[3]/a')\n",
    "            except TimeoutException as ex:\n",
    "                time.sleep(30)\n",
    "                soup = sp.get_soup(URL, click=True, element='//*[@id=\"player-tournament-stats-options\"]/li[3]/a')\n",
    "            \n",
    "            print(URL)\n",
    "\n",
    "            amount = len([each.text.strip() for each in soup.find_all('td', attrs={'class':'keyPassPerGame'})])\n",
    "\n",
    "            player_info['keypasses'] += [each.text.strip() for each in soup.find_all('td', attrs={'class':'keyPassPerGame'})]\n",
    "\n",
    "            player_info['dribbles'] += [each.text.strip() for each in soup.find_all('td', attrs={'class':'dribbleWonPerGame'})]\n",
    "\n",
    "            player_info['fouled'] += [each.text.strip() for each in soup.find_all('td', attrs={'class':'foulGivenPerGame'})]\n",
    "\n",
    "            player_info['offsidesdone'] += [each.text.strip() for each in soup.find_all('td', attrs={'class':'offsideGivenPerGame'})]\n",
    "\n",
    "            player_info['disposeseed'] += [each.text.strip() for each in soup.find_all('td', attrs={'class':'dispossessedPerGame'})]\n",
    "\n",
    "            player_info['badcontrol'] += [each.text.strip() for each in soup.find_all('td', attrs={'class':'turnoverPerGame'})]\n",
    "\n",
    "            player_info['link'] += [each_link for x in range(0,amount)]\n",
    "\n",
    "            player_info['team'] += [each_team for x in range(0,amount)]\n",
    "\n",
    "    return player_info"
   ]
  },
  {
   "cell_type": "code",
   "execution_count": null,
   "metadata": {
    "scrolled": true
   },
   "outputs": [],
   "source": [
    "sample_data_1 = extract_player_offensive(sample_1)"
   ]
  },
  {
   "cell_type": "code",
   "execution_count": null,
   "metadata": {},
   "outputs": [],
   "source": [
    "sample_data_2 = extract_player_offensive(sample_2)"
   ]
  },
  {
   "cell_type": "code",
   "execution_count": null,
   "metadata": {},
   "outputs": [],
   "source": [
    "df_1 = pd.DataFrame(sample_data_1)\n",
    "df_2 = pd.DataFrame(sample_data_2)"
   ]
  },
  {
   "cell_type": "code",
   "execution_count": null,
   "metadata": {},
   "outputs": [],
   "source": [
    "df_1.to_csv(r'/Users/gonzaloferreiro/Documents/GA_Materials/DS_Inmersive/DSI8-lessons/projects/project-capstone/Moving_forward/Back up files/Parts of statistics/Off_stats_1',index=False)\n",
    "df_2.to_csv(r'/Users/gonzaloferreiro/Documents/GA_Materials/DS_Inmersive/DSI8-lessons/projects/project-capstone/Moving_forward/Back up files/Parts of statistics/Off_stats_2',index=False)"
   ]
  },
  {
   "cell_type": "code",
   "execution_count": null,
   "metadata": {},
   "outputs": [],
   "source": [
    "sample_data_3 = extract_player_offensive(sample_3)"
   ]
  },
  {
   "cell_type": "code",
   "execution_count": null,
   "metadata": {},
   "outputs": [],
   "source": [
    "sample_data_4 = extract_player_offensive(sample_4)"
   ]
  },
  {
   "cell_type": "code",
   "execution_count": null,
   "metadata": {},
   "outputs": [],
   "source": [
    "sample_data_5 = extract_player_offensive(sample_5)"
   ]
  },
  {
   "cell_type": "code",
   "execution_count": null,
   "metadata": {
    "scrolled": false
   },
   "outputs": [],
   "source": [
    "sample_data_6 = extract_player_offensive(sample_6)"
   ]
  },
  {
   "cell_type": "code",
   "execution_count": 11,
   "metadata": {},
   "outputs": [],
   "source": [
    "df_3 = pd.DataFrame(sample_data_3)\n",
    "df_4 = pd.DataFrame(sample_data_4)\n",
    "df_5 = pd.DataFrame(sample_data_5)\n",
    "df_6 = pd.DataFrame(sample_data_6)"
   ]
  },
  {
   "cell_type": "code",
   "execution_count": 12,
   "metadata": {},
   "outputs": [],
   "source": [
    "df_3.to_csv(r'/Users/gonzaloferreiro/Documents/GA_Materials/DS_Inmersive/DSI8-lessons/projects/project-capstone/Moving_forward/Back up files/Parts of statistics/Off_stats_3',index=False)\n",
    "df_4.to_csv(r'/Users/gonzaloferreiro/Documents/GA_Materials/DS_Inmersive/DSI8-lessons/projects/project-capstone/Moving_forward/Back up files/Parts of statistics/Off_stats_4',index=False)\n",
    "df_5.to_csv(r'/Users/gonzaloferreiro/Documents/GA_Materials/DS_Inmersive/DSI8-lessons/projects/project-capstone/Moving_forward/Back up files/Parts of statistics/Off_stats_5',index=False)\n",
    "df_6.to_csv(r'/Users/gonzaloferreiro/Documents/GA_Materials/DS_Inmersive/DSI8-lessons/projects/project-capstone/Moving_forward/Back up files/Parts of statistics/Off_stats_6',index=False)"
   ]
  },
  {
   "cell_type": "code",
   "execution_count": null,
   "metadata": {},
   "outputs": [],
   "source": [
    "sample_data_7 = extract_player_offensive(sample_7)"
   ]
  },
  {
   "cell_type": "code",
   "execution_count": null,
   "metadata": {},
   "outputs": [],
   "source": [
    "sample_data_8 = extract_player_offensive(sample_8)"
   ]
  },
  {
   "cell_type": "code",
   "execution_count": 26,
   "metadata": {},
   "outputs": [],
   "source": [
    "df_7 = pd.DataFrame(sample_data_7)\n",
    "df_8 = pd.DataFrame(sample_data_8)"
   ]
  },
  {
   "cell_type": "code",
   "execution_count": 27,
   "metadata": {},
   "outputs": [],
   "source": [
    "df_7.to_csv(r'/Users/gonzaloferreiro/Documents/GA_Materials/DS_Inmersive/DSI8-lessons/projects/project-capstone/Moving_forward/Back up files/Parts of statistics/Off_stats_7',index=False)\n",
    "df_8.to_csv(r'/Users/gonzaloferreiro/Documents/GA_Materials/DS_Inmersive/DSI8-lessons/projects/project-capstone/Moving_forward/Back up files/Parts of statistics/Off_stats_8',index=False)"
   ]
  },
  {
   "cell_type": "markdown",
   "metadata": {},
   "source": [
    "### Saving and cleaning"
   ]
  },
  {
   "cell_type": "code",
   "execution_count": 28,
   "metadata": {},
   "outputs": [],
   "source": [
    "test_load = pd.read_csv('/Users/gonzaloferreiro/Documents/GA_Materials/DS_Inmersive/DSI8-lessons/projects/project-capstone/Moving_forward/Final_datasets/Offensive_stats')"
   ]
  },
  {
   "cell_type": "code",
   "execution_count": 29,
   "metadata": {},
   "outputs": [
    {
     "data": {
      "text/plain": [
       "(6202, 8)"
      ]
     },
     "execution_count": 29,
     "metadata": {},
     "output_type": "execute_result"
    }
   ],
   "source": [
    "test_load.shape"
   ]
  },
  {
   "cell_type": "code",
   "execution_count": 30,
   "metadata": {},
   "outputs": [],
   "source": [
    "partial_final_dataset = pd.concat([test_load,df_7,df_8],axis=0)"
   ]
  },
  {
   "cell_type": "code",
   "execution_count": 31,
   "metadata": {},
   "outputs": [
    {
     "data": {
      "text/html": [
       "<div>\n",
       "<style scoped>\n",
       "    .dataframe tbody tr th:only-of-type {\n",
       "        vertical-align: middle;\n",
       "    }\n",
       "\n",
       "    .dataframe tbody tr th {\n",
       "        vertical-align: top;\n",
       "    }\n",
       "\n",
       "    .dataframe thead th {\n",
       "        text-align: right;\n",
       "    }\n",
       "</style>\n",
       "<table border=\"1\" class=\"dataframe\">\n",
       "  <thead>\n",
       "    <tr style=\"text-align: right;\">\n",
       "      <th></th>\n",
       "      <th>keypasses</th>\n",
       "      <th>dribbles</th>\n",
       "      <th>fouled</th>\n",
       "      <th>offsidesdone</th>\n",
       "      <th>disposeseed</th>\n",
       "      <th>badcontrol</th>\n",
       "      <th>team</th>\n",
       "      <th>link</th>\n",
       "    </tr>\n",
       "  </thead>\n",
       "  <tbody>\n",
       "    <tr>\n",
       "      <th>0</th>\n",
       "      <td>1</td>\n",
       "      <td>0.3</td>\n",
       "      <td>0.6</td>\n",
       "      <td>-</td>\n",
       "      <td>0.8</td>\n",
       "      <td>0.9</td>\n",
       "      <td>Vitesse</td>\n",
       "      <td>/Players/313996/Show/Max-Clark</td>\n",
       "    </tr>\n",
       "    <tr>\n",
       "      <th>1</th>\n",
       "      <td>0.5</td>\n",
       "      <td>0.6</td>\n",
       "      <td>0.6</td>\n",
       "      <td>-</td>\n",
       "      <td>0.4</td>\n",
       "      <td>0.8</td>\n",
       "      <td>Vitesse</td>\n",
       "      <td>/Players/313996/Show/Max-Clark</td>\n",
       "    </tr>\n",
       "    <tr>\n",
       "      <th>2</th>\n",
       "      <td>0.2</td>\n",
       "      <td>-</td>\n",
       "      <td>0.2</td>\n",
       "      <td>-</td>\n",
       "      <td>0.1</td>\n",
       "      <td>0.3</td>\n",
       "      <td>Levante</td>\n",
       "      <td>/Players/109896/Show/Sergio-Postigo</td>\n",
       "    </tr>\n",
       "    <tr>\n",
       "      <th>3</th>\n",
       "      <td>0.2</td>\n",
       "      <td>0.3</td>\n",
       "      <td>0.5</td>\n",
       "      <td>-</td>\n",
       "      <td>0.1</td>\n",
       "      <td>0.4</td>\n",
       "      <td>Levante</td>\n",
       "      <td>/Players/109896/Show/Sergio-Postigo</td>\n",
       "    </tr>\n",
       "    <tr>\n",
       "      <th>4</th>\n",
       "      <td>0.9</td>\n",
       "      <td>0.2</td>\n",
       "      <td>1.3</td>\n",
       "      <td>0.3</td>\n",
       "      <td>0.9</td>\n",
       "      <td>1.6</td>\n",
       "      <td>Duisburg</td>\n",
       "      <td>/Players/132901/Show/Stanislav-Iljutcenko</td>\n",
       "    </tr>\n",
       "  </tbody>\n",
       "</table>\n",
       "</div>"
      ],
      "text/plain": [
       "  keypasses dribbles fouled offsidesdone disposeseed badcontrol      team  \\\n",
       "0         1      0.3    0.6            -         0.8        0.9   Vitesse   \n",
       "1       0.5      0.6    0.6            -         0.4        0.8   Vitesse   \n",
       "2       0.2        -    0.2            -         0.1        0.3   Levante   \n",
       "3       0.2      0.3    0.5            -         0.1        0.4   Levante   \n",
       "4       0.9      0.2    1.3          0.3         0.9        1.6  Duisburg   \n",
       "\n",
       "                                        link  \n",
       "0             /Players/313996/Show/Max-Clark  \n",
       "1             /Players/313996/Show/Max-Clark  \n",
       "2        /Players/109896/Show/Sergio-Postigo  \n",
       "3        /Players/109896/Show/Sergio-Postigo  \n",
       "4  /Players/132901/Show/Stanislav-Iljutcenko  "
      ]
     },
     "execution_count": 31,
     "metadata": {},
     "output_type": "execute_result"
    }
   ],
   "source": [
    "partial_final_dataset.head()"
   ]
  },
  {
   "cell_type": "code",
   "execution_count": 32,
   "metadata": {},
   "outputs": [
    {
     "data": {
      "text/plain": [
       "(6944, 8)"
      ]
     },
     "execution_count": 32,
     "metadata": {},
     "output_type": "execute_result"
    }
   ],
   "source": [
    "partial_final_dataset.shape"
   ]
  },
  {
   "cell_type": "code",
   "execution_count": 33,
   "metadata": {},
   "outputs": [],
   "source": [
    "partial_final_dataset.to_csv(r'/Users/gonzaloferreiro/Documents/GA_Materials/DS_Inmersive/DSI8-lessons/projects/project-capstone/Moving_forward/Final_datasets/Offensive_stats',index=False)\n"
   ]
  },
  {
   "cell_type": "code",
   "execution_count": 34,
   "metadata": {},
   "outputs": [],
   "source": [
    "test_load = pd.read_csv('/Users/gonzaloferreiro/Documents/GA_Materials/DS_Inmersive/DSI8-lessons/projects/project-capstone/Moving_forward/Final_datasets/Offensive_stats')"
   ]
  },
  {
   "cell_type": "code",
   "execution_count": 35,
   "metadata": {},
   "outputs": [
    {
     "data": {
      "text/html": [
       "<div>\n",
       "<style scoped>\n",
       "    .dataframe tbody tr th:only-of-type {\n",
       "        vertical-align: middle;\n",
       "    }\n",
       "\n",
       "    .dataframe tbody tr th {\n",
       "        vertical-align: top;\n",
       "    }\n",
       "\n",
       "    .dataframe thead th {\n",
       "        text-align: right;\n",
       "    }\n",
       "</style>\n",
       "<table border=\"1\" class=\"dataframe\">\n",
       "  <thead>\n",
       "    <tr style=\"text-align: right;\">\n",
       "      <th></th>\n",
       "      <th>keypasses</th>\n",
       "      <th>dribbles</th>\n",
       "      <th>fouled</th>\n",
       "      <th>offsidesdone</th>\n",
       "      <th>disposeseed</th>\n",
       "      <th>badcontrol</th>\n",
       "      <th>team</th>\n",
       "      <th>link</th>\n",
       "    </tr>\n",
       "  </thead>\n",
       "  <tbody>\n",
       "    <tr>\n",
       "      <th>0</th>\n",
       "      <td>1</td>\n",
       "      <td>0.3</td>\n",
       "      <td>0.6</td>\n",
       "      <td>-</td>\n",
       "      <td>0.8</td>\n",
       "      <td>0.9</td>\n",
       "      <td>Vitesse</td>\n",
       "      <td>/Players/313996/Show/Max-Clark</td>\n",
       "    </tr>\n",
       "    <tr>\n",
       "      <th>1</th>\n",
       "      <td>0.5</td>\n",
       "      <td>0.6</td>\n",
       "      <td>0.6</td>\n",
       "      <td>-</td>\n",
       "      <td>0.4</td>\n",
       "      <td>0.8</td>\n",
       "      <td>Vitesse</td>\n",
       "      <td>/Players/313996/Show/Max-Clark</td>\n",
       "    </tr>\n",
       "    <tr>\n",
       "      <th>2</th>\n",
       "      <td>0.2</td>\n",
       "      <td>-</td>\n",
       "      <td>0.2</td>\n",
       "      <td>-</td>\n",
       "      <td>0.1</td>\n",
       "      <td>0.3</td>\n",
       "      <td>Levante</td>\n",
       "      <td>/Players/109896/Show/Sergio-Postigo</td>\n",
       "    </tr>\n",
       "    <tr>\n",
       "      <th>3</th>\n",
       "      <td>0.2</td>\n",
       "      <td>0.3</td>\n",
       "      <td>0.5</td>\n",
       "      <td>-</td>\n",
       "      <td>0.1</td>\n",
       "      <td>0.4</td>\n",
       "      <td>Levante</td>\n",
       "      <td>/Players/109896/Show/Sergio-Postigo</td>\n",
       "    </tr>\n",
       "    <tr>\n",
       "      <th>4</th>\n",
       "      <td>0.9</td>\n",
       "      <td>0.2</td>\n",
       "      <td>1.3</td>\n",
       "      <td>0.3</td>\n",
       "      <td>0.9</td>\n",
       "      <td>1.6</td>\n",
       "      <td>Duisburg</td>\n",
       "      <td>/Players/132901/Show/Stanislav-Iljutcenko</td>\n",
       "    </tr>\n",
       "  </tbody>\n",
       "</table>\n",
       "</div>"
      ],
      "text/plain": [
       "  keypasses dribbles fouled offsidesdone disposeseed badcontrol      team  \\\n",
       "0         1      0.3    0.6            -         0.8        0.9   Vitesse   \n",
       "1       0.5      0.6    0.6            -         0.4        0.8   Vitesse   \n",
       "2       0.2        -    0.2            -         0.1        0.3   Levante   \n",
       "3       0.2      0.3    0.5            -         0.1        0.4   Levante   \n",
       "4       0.9      0.2    1.3          0.3         0.9        1.6  Duisburg   \n",
       "\n",
       "                                        link  \n",
       "0             /Players/313996/Show/Max-Clark  \n",
       "1             /Players/313996/Show/Max-Clark  \n",
       "2        /Players/109896/Show/Sergio-Postigo  \n",
       "3        /Players/109896/Show/Sergio-Postigo  \n",
       "4  /Players/132901/Show/Stanislav-Iljutcenko  "
      ]
     },
     "execution_count": 35,
     "metadata": {},
     "output_type": "execute_result"
    }
   ],
   "source": [
    "test_load.head()"
   ]
  },
  {
   "cell_type": "code",
   "execution_count": 36,
   "metadata": {},
   "outputs": [
    {
     "data": {
      "text/plain": [
       "(6944, 8)"
      ]
     },
     "execution_count": 36,
     "metadata": {},
     "output_type": "execute_result"
    }
   ],
   "source": [
    "test_load.shape"
   ]
  }
 ],
 "metadata": {
  "kernelspec": {
   "display_name": "Python 3",
   "language": "python",
   "name": "python3"
  },
  "language_info": {
   "codemirror_mode": {
    "name": "ipython",
    "version": 3
   },
   "file_extension": ".py",
   "mimetype": "text/x-python",
   "name": "python",
   "nbconvert_exporter": "python",
   "pygments_lexer": "ipython3",
   "version": "3.6.8"
  },
  "notify_time": "5"
 },
 "nbformat": 4,
 "nbformat_minor": 2
}
