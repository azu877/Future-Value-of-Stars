{
 "cells": [
  {
   "cell_type": "code",
   "execution_count": null,
   "metadata": {},
   "outputs": [],
   "source": [
    "import pandas as pd\n",
    "import numpy as np\n",
    "import time\n",
    "import re\n",
    "import souper_v2\n",
    "from tqdm import tqdm_notebook\n",
    "from torrequest import TorRequest\n",
    "from bs4 import BeautifulSoup\n",
    "from retrying import retry\n",
    "from selenium.common.exceptions import TimeoutException\n",
    "import time"
   ]
  },
  {
   "cell_type": "code",
   "execution_count": null,
   "metadata": {},
   "outputs": [],
   "source": [
    "sampled_players = pd.read_csv('/Users/gonzaloferreiro/Documents/GA_Materials/DS_Inmersive/DSI8-lessons/projects/project-capstone/Moving_forward/Final_datasets/final_list_of_sampled_players.csv')"
   ]
  },
  {
   "cell_type": "code",
   "execution_count": null,
   "metadata": {},
   "outputs": [],
   "source": [
    "sp = souper_v2.souper()"
   ]
  },
  {
   "cell_type": "code",
   "execution_count": null,
   "metadata": {},
   "outputs": [],
   "source": [
    "@retry(wait_fixed=3000)\n",
    "def get_soup(URL):\n",
    "    with TorRequest() as tr:\n",
    "        tr.reset_identity()\n",
    "        headers = {\"User-Agent\":'Mozilla/5.0 (X11; Linux x86_64; rv:7.0.1) Gecko/20100101 Firefox/7.7'}\n",
    "        r = tr.get(URL, headers=headers)\n",
    "        soup = BeautifulSoup(r.text, 'html.parser')\n",
    "        return soup"
   ]
  },
  {
   "cell_type": "code",
   "execution_count": null,
   "metadata": {},
   "outputs": [],
   "source": [
    "sample_1 = sampled_players.iloc[0:179]\n",
    "sample_2 = sampled_players.iloc[180:359]\n",
    "sample_3 = sampled_players.iloc[360:539]\n",
    "sample_4 = sampled_players.iloc[540:719]\n",
    "sample_5 = sampled_players.iloc[720:899]\n",
    "sample_6 = sampled_players.iloc[900:1079]\n",
    "sample_7 = sampled_players.iloc[1080:]\n",
    "sample_8 = sampled_players.iloc[[179,359,539,719,899,1079]]"
   ]
  },
  {
   "cell_type": "markdown",
   "metadata": {},
   "source": [
    "### Whoscored scrapping"
   ]
  },
  {
   "cell_type": "markdown",
   "metadata": {},
   "source": [
    "**Obtaining players summary statistics**"
   ]
  },
  {
   "cell_type": "code",
   "execution_count": null,
   "metadata": {},
   "outputs": [],
   "source": [
    "sampled_players.head()"
   ]
  },
  {
   "cell_type": "code",
   "execution_count": null,
   "metadata": {},
   "outputs": [],
   "source": [
    "def extract_player_summary(players_df):\n",
    "    \n",
    "    links = players_df.link_ws\n",
    "    teams = players_df.team\n",
    "    \n",
    "    player_info = {'link': [],\n",
    "                   'team': [],\n",
    "                   'mins': [],\n",
    "                   'goals': [],\n",
    "                   'assist': [],\n",
    "                   'yellow': [],\n",
    "                   'red': [],\n",
    "                   'shots': [],\n",
    "                   'passes': [],\n",
    "                   'aerial': [],\n",
    "                   'mom': [],\n",
    "                   'rating': [],\n",
    "                   'season': []\n",
    "                  } \n",
    "\n",
    "    for each_link, each_team in tqdm_notebook(zip(links,teams)):\n",
    "        if \"Show\" in each_link:\n",
    "            new_link = each_link.replace(\"Show\",\"History\")\n",
    "            URL = 'https://www.whoscored.com' + new_link\n",
    "            \n",
    "            try:\n",
    "                soup = sp.get_soup(URL)\n",
    "            except TimeoutException as ex:\n",
    "                time.sleep(30)\n",
    "                soup = sp.get_soup(URL)\n",
    "                \n",
    "            print(URL)\n",
    "            \n",
    "            amount = len([each.text.strip() for each in soup.find_all('td', attrs={'class':'rank tournament'})])\n",
    "\n",
    "            player_info['mins'] += [each.text.strip() for each in soup.find_all('td', attrs={'class':'minsPlayed'})]\n",
    "\n",
    "            player_info['goals'] += [each.text.strip() for each in soup.find_all('td', attrs={'class':'goal'})]\n",
    "\n",
    "            player_info['assist'] += [each.text.strip() for each in soup.find_all('td', attrs={'class':'assistTotal'})]\n",
    "\n",
    "            player_info['yellow'] += [each.text.strip() for each in soup.find_all('td', attrs={'class':'yellowCard'})]\n",
    "\n",
    "            player_info['red'] += [each.text.strip() for each in soup.find_all('td', attrs={'class':'redCard'})]\n",
    "\n",
    "            player_info['shots'] += [each.text.strip() for each in soup.find_all('td', attrs={'class':'shotsPerGame'})]\n",
    "\n",
    "            player_info['passes'] += [each.text.strip() for each in soup.find_all('td', attrs={'class':'passSuccess'})]\n",
    "\n",
    "            player_info['aerial'] += [each.text.strip() for each in soup.find_all('td', attrs={'class':'aerialWonPerGame'})]\n",
    "\n",
    "            player_info['mom'] += [each.text.strip() for each in soup.find_all('td', attrs={'class':'manOfTheMatch'})]\n",
    "\n",
    "            player_info['rating'] += [each.text.strip() for each in soup.find_all('td', attrs={'class':'rating'})[0:-1]]\n",
    "\n",
    "            player_info['season'] += [each.text.strip() for each in soup.find_all('td', attrs={'class':'rank tournament'})]\n",
    "\n",
    "            player_info['link'] += [each_link for x in range(0,amount)]\n",
    "\n",
    "            player_info['team'] += [each_team for x in range(0,amount)]\n",
    "\n",
    "    return player_info"
   ]
  },
  {
   "cell_type": "markdown",
   "metadata": {},
   "source": [
    "### Obtaining data by parts"
   ]
  },
  {
   "cell_type": "code",
   "execution_count": null,
   "metadata": {
    "scrolled": false
   },
   "outputs": [],
   "source": [
    "sample_data_1 = extract_player_summary(sample_1)"
   ]
  },
  {
   "cell_type": "code",
   "execution_count": null,
   "metadata": {},
   "outputs": [],
   "source": [
    "sample_data_2 = extract_player_summary(sample_2)"
   ]
  },
  {
   "cell_type": "code",
   "execution_count": null,
   "metadata": {},
   "outputs": [],
   "source": [
    "df_1 = pd.DataFrame(sample_data_1)\n",
    "df_2 = pd.DataFrame(sample_data_2)"
   ]
  },
  {
   "cell_type": "code",
   "execution_count": null,
   "metadata": {},
   "outputs": [],
   "source": [
    "df_1.to_csv(r'/Users/gonzaloferreiro/Documents/GA_Materials/DS_Inmersive/DSI8-lessons/projects/project-capstone/Moving_forward/Back up files/Parts of statistics/Summary_stats_1',index=False)\n",
    "df_2.to_csv(r'/Users/gonzaloferreiro/Documents/GA_Materials/DS_Inmersive/DSI8-lessons/projects/project-capstone/Moving_forward/Back up files/Parts of statistics/Summary_stats_2',index=False)"
   ]
  },
  {
   "cell_type": "code",
   "execution_count": null,
   "metadata": {},
   "outputs": [],
   "source": [
    "sample_data_3 = extract_player_summary(sample_3)"
   ]
  },
  {
   "cell_type": "code",
   "execution_count": null,
   "metadata": {},
   "outputs": [],
   "source": [
    "sample_data_4 = extract_player_summary(sample_4)"
   ]
  },
  {
   "cell_type": "code",
   "execution_count": null,
   "metadata": {
    "scrolled": false
   },
   "outputs": [],
   "source": [
    "sample_data_5 = extract_player_summary(sample_5)"
   ]
  },
  {
   "cell_type": "code",
   "execution_count": null,
   "metadata": {},
   "outputs": [],
   "source": [
    "df_3 = pd.DataFrame(sample_data_3)\n",
    "df_4 = pd.DataFrame(sample_data_4)\n",
    "df_5 = pd.DataFrame(sample_data_5)"
   ]
  },
  {
   "cell_type": "code",
   "execution_count": null,
   "metadata": {},
   "outputs": [],
   "source": [
    "df_3.to_csv(r'/Users/gonzaloferreiro/Documents/GA_Materials/DS_Inmersive/DSI8-lessons/projects/project-capstone/Moving_forward/Back up files/Parts of statistics/Summary_stats_3',index=False)\n",
    "df_4.to_csv(r'/Users/gonzaloferreiro/Documents/GA_Materials/DS_Inmersive/DSI8-lessons/projects/project-capstone/Moving_forward/Back up files/Parts of statistics/Summary_stats_4',index=False)\n",
    "df_5.to_csv(r'/Users/gonzaloferreiro/Documents/GA_Materials/DS_Inmersive/DSI8-lessons/projects/project-capstone/Moving_forward/Back up files/Parts of statistics/Summary_stats_5',index=False)"
   ]
  },
  {
   "cell_type": "code",
   "execution_count": null,
   "metadata": {},
   "outputs": [],
   "source": [
    "sample_data_7 = extract_player_summary(sample_7)"
   ]
  },
  {
   "cell_type": "code",
   "execution_count": null,
   "metadata": {},
   "outputs": [],
   "source": [
    "sample_data_8 = extract_player_summary(sample_8)"
   ]
  },
  {
   "cell_type": "code",
   "execution_count": null,
   "metadata": {},
   "outputs": [],
   "source": [
    "df_7 = pd.DataFrame(sample_data_7)\n",
    "df_8 = pd.DataFrame(sample_data_8)"
   ]
  },
  {
   "cell_type": "code",
   "execution_count": null,
   "metadata": {},
   "outputs": [],
   "source": [
    "df_7.to_csv(r'/Users/gonzaloferreiro/Documents/GA_Materials/DS_Inmersive/DSI8-lessons/projects/project-capstone/Moving_forward/Back up files/Parts of statistics/Summary_stats_7',index=False)\n",
    "df_8.to_csv(r'/Users/gonzaloferreiro/Documents/GA_Materials/DS_Inmersive/DSI8-lessons/projects/project-capstone/Moving_forward/Back up files/Parts of statistics/Summary_stats_8',index=False)\n"
   ]
  },
  {
   "cell_type": "code",
   "execution_count": null,
   "metadata": {},
   "outputs": [],
   "source": [
    "sample_data_6 = extract_player_summary(sample_6)"
   ]
  },
  {
   "cell_type": "code",
   "execution_count": null,
   "metadata": {},
   "outputs": [],
   "source": [
    "df_6 = pd.DataFrame(sample_data_6)"
   ]
  },
  {
   "cell_type": "code",
   "execution_count": null,
   "metadata": {},
   "outputs": [],
   "source": [
    "df_6.to_csv(r'/Users/gonzaloferreiro/Documents/GA_Materials/DS_Inmersive/DSI8-lessons/projects/project-capstone/Moving_forward/Back up files/Parts of statistics/Summary_stats_6',index=False)"
   ]
  },
  {
   "cell_type": "markdown",
   "metadata": {},
   "source": [
    "### Saving and cleaning"
   ]
  },
  {
   "cell_type": "code",
   "execution_count": null,
   "metadata": {},
   "outputs": [],
   "source": [
    "test_load = pd.read_csv('/Users/gonzaloferreiro/Documents/GA_Materials/DS_Inmersive/DSI8-lessons/projects/project-capstone/Moving_forward/Final_datasets/Summary_stats')\n"
   ]
  },
  {
   "cell_type": "code",
   "execution_count": null,
   "metadata": {},
   "outputs": [],
   "source": [
    "test_load.shape"
   ]
  },
  {
   "cell_type": "code",
   "execution_count": null,
   "metadata": {},
   "outputs": [],
   "source": [
    "partial_final_dataset = pd.concat([test_load, df_6],axis=0)"
   ]
  },
  {
   "cell_type": "code",
   "execution_count": null,
   "metadata": {},
   "outputs": [],
   "source": [
    "partial_final_dataset.head()"
   ]
  },
  {
   "cell_type": "code",
   "execution_count": null,
   "metadata": {},
   "outputs": [],
   "source": [
    "partial_final_dataset.to_csv(r'/Users/gonzaloferreiro/Documents/GA_Materials/DS_Inmersive/DSI8-lessons/projects/project-capstone/Moving_forward/Final_datasets/Summary_stats',index=False)\n"
   ]
  },
  {
   "cell_type": "code",
   "execution_count": null,
   "metadata": {},
   "outputs": [],
   "source": [
    "partial_final_dataset.shape"
   ]
  },
  {
   "cell_type": "code",
   "execution_count": null,
   "metadata": {},
   "outputs": [],
   "source": [
    "test_load = pd.read_csv('/Users/gonzaloferreiro/Documents/GA_Materials/DS_Inmersive/DSI8-lessons/projects/project-capstone/Moving_forward/Final_datasets/Summary_stats')\n"
   ]
  },
  {
   "cell_type": "code",
   "execution_count": null,
   "metadata": {},
   "outputs": [],
   "source": [
    "test_load.head()"
   ]
  },
  {
   "cell_type": "code",
   "execution_count": null,
   "metadata": {},
   "outputs": [],
   "source": [
    "test_load.shape"
   ]
  }
 ],
 "metadata": {
  "kernelspec": {
   "display_name": "Python 3",
   "language": "python",
   "name": "python3"
  },
  "language_info": {
   "codemirror_mode": {
    "name": "ipython",
    "version": 3
   },
   "file_extension": ".py",
   "mimetype": "text/x-python",
   "name": "python",
   "nbconvert_exporter": "python",
   "pygments_lexer": "ipython3",
   "version": "3.6.8"
  },
  "notify_time": "5"
 },
 "nbformat": 4,
 "nbformat_minor": 2
}
