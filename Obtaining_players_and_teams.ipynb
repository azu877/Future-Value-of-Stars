{
 "cells": [
  {
   "cell_type": "code",
   "execution_count": 54,
   "metadata": {},
   "outputs": [],
   "source": [
    "import pandas as pd\n",
    "import re\n",
    "import numpy as np\n",
    "import souper_v2"
   ]
  },
  {
   "cell_type": "markdown",
   "metadata": {
    "heading_collapsed": true
   },
   "source": [
    "## Loading base leagues"
   ]
  },
  {
   "cell_type": "code",
   "execution_count": 55,
   "metadata": {
    "hidden": true
   },
   "outputs": [],
   "source": [
    "URLs_whoscored = {'Primera División (ARG)': 'https://www.whoscored.com/Regions/11/Tournaments/68/Argentina-Primera-Division',\n",
    "                 'Premier League (ENG)':'https://www.whoscored.com/Regions/252/Tournaments/2/England-Premier-League',\n",
    "                 'Liga NOS (POR)': 'https://www.whoscored.com/Regions/177/Tournaments/21/Portugal-Liga-NOS',\n",
    "                 'Super Lig (TUR)': 'https://www.whoscored.com/Regions/225/Tournaments/17/Turkey-Super-Lig',\n",
    "                 'Serie A (ITA)': 'https://www.whoscored.com/Regions/108/Tournaments/5/Italy-Serie-A',\n",
    "                 'Eredivise (NET)': 'https://www.whoscored.com/Regions/155/Tournaments/13/Netherlands-Eredivisie',\n",
    "                 'Championship (ENG)': 'https://www.whoscored.com/Regions/252/Tournaments/7/England-Championship',\n",
    "                 'La Liga (SPA)': 'https://www.whoscored.com/Regions/206/Tournaments/4/Spain-La-Liga',\n",
    "                 'Premier Liga (RUS)': 'https://www.whoscored.com/Regions/182/Tournaments/77/Russia-Premier-League',\n",
    "                 'Bundesliga (GER)': 'https://www.whoscored.com/Regions/81/Tournaments/3/Germany-Bundesliga',\n",
    "                 'Ligue 1 (FRA)': 'https://www.whoscored.com/Regions/74/Tournaments/22/France-Ligue-1',\n",
    "                 'Bundesliga 2 (GER)': 'https://www.whoscored.com/Regions/81/Tournaments/6/Germany-Bundesliga-II',\n",
    "                 'La Liga 2 (SPA)': 'https://www.whoscored.com/Regions/206/Tournaments/63/Spain-Segunda-Division',\n",
    "                 'Super League (CHI)': 'https://www.whoscored.com/Regions/45/Tournaments/162/China-Super-league',\n",
    "                 'MLS (USA)': 'https://www.whoscored.com/Regions/233/Tournaments/85/USA-Major-League-Soccer'}"
   ]
  },
  {
   "cell_type": "code",
   "execution_count": 56,
   "metadata": {
    "hidden": true
   },
   "outputs": [],
   "source": [
    "URLs_transfermkt = {'Primera División (ARG)': 'https://www.transfermarkt.co.uk/primera-division/startseite/wettbewerb/AR1N',\n",
    "                 'Premier League (ENG)':'https://www.transfermarkt.co.uk/premier-league/startseite/wettbewerb/GB1',\n",
    "                 'Liga NOS (POR)': 'https://www.transfermarkt.co.uk/liga-nos/startseite/wettbewerb/PO1',\n",
    "                 'Super Lig (TUR)': 'https://www.transfermarkt.co.uk/super-lig/startseite/wettbewerb/TR1',\n",
    "                 'Serie A (ITA)': 'https://www.transfermarkt.co.uk/serie-a/startseite/wettbewerb/IT1',\n",
    "                 'Eredivise (NET)': 'https://www.transfermarkt.co.uk/eredivisie/startseite/wettbewerb/NL1',\n",
    "                 'Championship (ENG)': 'https://www.transfermarkt.co.uk/championship/startseite/wettbewerb/GB2',\n",
    "                 'La Liga (SPA)': 'https://www.transfermarkt.co.uk/laliga/startseite/wettbewerb/ES1',\n",
    "                 'Premier Liga (RUS)': 'https://www.transfermarkt.co.uk/premier-liga/startseite/wettbewerb/RU1',\n",
    "                 'Bundesliga (GER)': 'https://www.transfermarkt.co.uk/bundesliga/startseite/wettbewerb/L1',\n",
    "                 'Ligue 1 (FRA)': 'https://www.transfermarkt.co.uk/ligue-1/startseite/wettbewerb/FR1',\n",
    "                 'Bundesliga 2 (GER)': 'https://www.transfermarkt.co.uk/2-bundesliga/startseite/wettbewerb/L2',\n",
    "                 'La Liga 2 (SPA)': 'https://www.transfermarkt.co.uk/laliga2/startseite/wettbewerb/ES2',\n",
    "                 'Super League (CHI)': 'https://www.transfermarkt.co.uk/chinese-super-league/startseite/wettbewerb/CSL',\n",
    "                 'MLS (USA)': 'https://www.transfermarkt.co.uk/major-league-soccer/startseite/wettbewerb/MLS1'}"
   ]
  },
  {
   "cell_type": "code",
   "execution_count": 57,
   "metadata": {
    "hidden": true
   },
   "outputs": [],
   "source": [
    "sp = souper_v2.souper()"
   ]
  },
  {
   "cell_type": "code",
   "execution_count": 58,
   "metadata": {
    "code_folding": [
     0
    ],
    "hidden": true
   },
   "outputs": [],
   "source": [
    "# Backup of original simplier function to get_soup\n",
    "def get_soup(URL):\n",
    "    driver = webdriver.Chrome(ChromeDriverManager().install())\n",
    "    wait = WebDriverWait(driver, 10)\n",
    "    driver.get(URL)\n",
    "    if len(driver.find_elements_by_css_selector(\"[name=ROBOTS]\")) > 0:\n",
    "        driver.get(URL)\n",
    "    soup = BeautifulSoup(driver.page_source)\n",
    "    driver.close()\n",
    "    return soup"
   ]
  },
  {
   "cell_type": "markdown",
   "metadata": {
    "heading_collapsed": true
   },
   "source": [
    "## Base functions"
   ]
  },
  {
   "cell_type": "code",
   "execution_count": 59,
   "metadata": {
    "hidden": true
   },
   "outputs": [],
   "source": [
    "def extract_teams_or_players(soup, league_or_team, whoscore, team):\n",
    "    \n",
    "    returner_df = pd.DataFrame()\n",
    "    links = []\n",
    "    teams_or_players = []\n",
    "    league_or_team_list = []\n",
    "    \n",
    "    if whoscore:\n",
    "        \n",
    "        if team:\n",
    "            team_pattern = re.compile(r'(?<=\\>).+(?=<)')\n",
    "            link_pattern = re.compile(r'/Team.+(?=\" )')\n",
    "\n",
    "            for each in soup.find_all('a', attrs={'class':'team-link'}):\n",
    "\n",
    "                try:\n",
    "                    team_or_player = re.findall(team_pattern, str(each))[0]\n",
    "                    link = re.findall(link_pattern, str(each))[0]\n",
    "                    team_or_player = team.strip()\n",
    "                    link = link.strip()\n",
    "                    teams_or_players.append(team_or_player)\n",
    "                    links.append(link)\n",
    "                    league_or_team_list.append(league_or_team)\n",
    "\n",
    "                except:\n",
    "                    None\n",
    "                    \n",
    "        else:\n",
    "            player_pattern = re.compile(r'(?<=\\\">).+(?= </a>)')\n",
    "            link_pattern = re.compile(r'(?<=\\ href=\").+(?=\">)')\n",
    "            \n",
    "            for each in soup.find_all('a', attrs={'class':'player-link'}):\n",
    "            \n",
    "                try:\n",
    "                    team_or_player = re.findall(player_pattern, str(each))[0]\n",
    "                    link = re.findall(link_pattern, str(each))[0]\n",
    "                    team_or_player = team_or_player.strip()\n",
    "                    link = link.strip()\n",
    "                    teams_or_players.append(team_or_player)\n",
    "                    links.append(link)\n",
    "                    league_or_team_list.append(league_or_team)\n",
    "                    \n",
    "                except:\n",
    "                    None\n",
    "                \n",
    "    else:\n",
    "        \n",
    "        if team:\n",
    "            team_pattern = re.compile(r'(?<=\\ alt=\").+(?=\" class)')\n",
    "            link_pattern = re.compile(r'(?<=\\ href=\").+[startseite].+(?=/saison_id/)')\n",
    "\n",
    "            for each in soup.find_all('a', attrs={'class':'vereinprofil_tooltip tooltipstered'}):\n",
    "            \n",
    "                if 'startseite' in str(each):\n",
    "\n",
    "                    try:\n",
    "                        team_or_player = re.findall(team_pattern, str(each))[0]\n",
    "                        link = re.findall(link_pattern, str(each))[0]\n",
    "                        team_or_player = team_or_player.strip()\n",
    "                        link = link.strip()\n",
    "                        teams_or_players.append(team_or_player)\n",
    "                        links.append(link)\n",
    "                        league_or_team_list.append(league_or_team)\n",
    "\n",
    "                    except:\n",
    "                        None\n",
    "        \n",
    "        else:\n",
    "            player_pattern = re.compile(r'(?<=\\\">).+(?=</a>)')\n",
    "            link_pattern = re.compile(r'(?<=\\ href=\").+(?=\" id=)')\n",
    "\n",
    "            for each in soup.find_all('a', attrs={'class': 'spielprofil_tooltip tooltipstered'}):\n",
    "\n",
    "                try:\n",
    "                    team_or_player = re.findall(player_pattern, str(each))[0]\n",
    "                    link = re.findall(link_pattern, str(each))[0]\n",
    "                    team_or_player = team_or_player.strip()\n",
    "                    link = link.strip()\n",
    "                    teams_or_players.append(team_or_player)\n",
    "                    links.append(link)\n",
    "                    league_or_team_list.append(league_or_team)\n",
    "\n",
    "                except:\n",
    "                    None\n",
    "    \n",
    "    if team:\n",
    "        returner_df['league'] = league_or_team_list\n",
    "        returner_df['teams'] = teams_or_players\n",
    "    else:\n",
    "        returner_df['team'] = league_or_team_list\n",
    "        returner_df['player'] = teams_or_players\n",
    "        \n",
    "    returner_df['link'] = links\n",
    "    returner_df = returner_df.drop_duplicates(subset='link', keep=\"last\")\n",
    "\n",
    "    return returner_df"
   ]
  },
  {
   "cell_type": "code",
   "execution_count": 60,
   "metadata": {
    "hidden": true
   },
   "outputs": [],
   "source": [
    "def get_players(teams_df, team=False):\n",
    "    \n",
    "    players_detail_df = pd.DataFrame()\n",
    "    \n",
    "    for each in list(teams_df.index):\n",
    "        \n",
    "        URL = 'https://www.whoscored.com' + teams_df.ws_link[each]\n",
    "        whoscore = True\n",
    "        soup = sp.get_soup(URL)\n",
    "        players = extract_teams_or_players(soup, teams_df.team[each], whoscore, team)\n",
    "        players_detail_df = pd.concat([players_detail_df, players], axis=0, sort=True)\n",
    "        print(\"Complete ws \" + teams_df.team[each])\n",
    "        \n",
    "        URL = 'https://www.transfermarkt.co.uk' + teams_df.tm_link[each]\n",
    "        whoscore = False\n",
    "        soup = sp.get_soup(URL)\n",
    "        players = extract_teams_or_players(soup, teams_df.team[each], whoscore, team)\n",
    "        players_detail_df = pd.concat([players_detail_df, players], axis=0, sort=True)\n",
    "        print(\"Complete tm \" + teams_df.team[each])\n",
    "        \n",
    "    return players_detail_df"
   ]
  },
  {
   "cell_type": "code",
   "execution_count": 61,
   "metadata": {
    "hidden": true
   },
   "outputs": [],
   "source": [
    "def get_teams(URLs_dict, whoscore=True, team=True):\n",
    "    \n",
    "    teams_detail_df = pd.DataFrame()\n",
    "    \n",
    "    for each in range(len(URLs_dict.keys())):\n",
    "        \n",
    "        soup = sp.get_soup(list(URLs_dict.values())[each])\n",
    "        league = list(URLs_dict.keys())[each]\n",
    "        teams = extract_teams_or_players(soup, league, whoscore, team)\n",
    "        teams_detail_df = pd.concat([teams_detail_df, teams], axis=0, sort=True)\n",
    "        \n",
    "        print(\"Complete \" + league)\n",
    "        \n",
    "    return teams_detail_df"
   ]
  },
  {
   "cell_type": "markdown",
   "metadata": {
    "heading_collapsed": true
   },
   "source": [
    "## Obtaining teams from transfermkt and whoscored"
   ]
  },
  {
   "cell_type": "code",
   "execution_count": null,
   "metadata": {
    "hidden": true
   },
   "outputs": [],
   "source": [
    "teams_transfermkt = get_teams(URLs_transfermkt, whoscore=False)"
   ]
  },
  {
   "cell_type": "code",
   "execution_count": 168,
   "metadata": {
    "hidden": true
   },
   "outputs": [],
   "source": [
    "teams_transfermkt.to_csv(r'/Users/gonzaloferreiro/Documents/GA_Materials/DS_Inmersive/DSI8-lessons/projects/project-capstone/Moving_forward/teams_transfermarket.csv',index=False)"
   ]
  },
  {
   "cell_type": "code",
   "execution_count": null,
   "metadata": {
    "hidden": true
   },
   "outputs": [],
   "source": [
    "teams_whoscored = get_teams(URLs_whoscored, whoscore=True)"
   ]
  },
  {
   "cell_type": "code",
   "execution_count": 358,
   "metadata": {
    "hidden": true
   },
   "outputs": [],
   "source": [
    "teams_whoscored.to_csv(r'/Users/gonzaloferreiro/Documents/GA_Materials/DS_Inmersive/DSI8-lessons/projects/project-capstone/Moving_forward/teams_whoscored.csv',index=False)"
   ]
  },
  {
   "cell_type": "markdown",
   "metadata": {
    "heading_collapsed": true
   },
   "source": [
    "## Getting unique list of teams"
   ]
  },
  {
   "cell_type": "code",
   "execution_count": 63,
   "metadata": {
    "hidden": true
   },
   "outputs": [],
   "source": [
    "whoscored_teams = pd.read_csv('/Users/gonzaloferreiro/Documents/GA_Materials/DS_Inmersive/DSI8-lessons/projects/project-capstone/Moving_forward/Old and others/teams_whoscored.csv')\n"
   ]
  },
  {
   "cell_type": "code",
   "execution_count": 24,
   "metadata": {
    "hidden": true
   },
   "outputs": [],
   "source": [
    "transfermkt_teams = pd.read_csv('/Users/gonzaloferreiro/Documents/GA_Materials/DS_Inmersive/DSI8-lessons/projects/project-capstone/Moving_forward/Old and others/teams_transfermarket.csv')\n"
   ]
  },
  {
   "cell_type": "code",
   "execution_count": 25,
   "metadata": {
    "hidden": true
   },
   "outputs": [],
   "source": [
    "def repetead_words(ws_teams, tm_teams):\n",
    "    \n",
    "    repeated = {'word': [], 'league': []}\n",
    "    leagues = list(ws_teams.league.unique())\n",
    "    returner = {}\n",
    "        \n",
    "    for tm_league in tm_teams.league.unique():\n",
    "        for tm in tm_teams.teams[tm_teams.league==tm_league]:\n",
    "            tm_team_words = tm.split()\n",
    "            repeated['word'] += tm_team_words\n",
    "            repeated['league'] += [tm_league for i in range(len(tm_team_words))]\n",
    "    \n",
    "    for ws_league in ws_teams.league.unique():\n",
    "        for ws in ws_teams.teams[ws_teams.league==ws_league]:\n",
    "            ws_team_words = ws.split()\n",
    "            repeated['word'] += ws_team_words\n",
    "            repeated['league'] += [ws_league for i in range(len(ws_team_words))]    \n",
    "    \n",
    "    rep = pd.DataFrame(repeated)\n",
    "    \n",
    "    for each in leagues:\n",
    "        returner[each] = list(rep.word[rep.league == each].value_counts()[rep.word[rep.league == each].value_counts() > 2].keys())\n",
    "    \n",
    "    return returner"
   ]
  },
  {
   "cell_type": "code",
   "execution_count": 35,
   "metadata": {
    "hidden": true
   },
   "outputs": [],
   "source": [
    "transfermkt_teams.teams = transfermkt_teams.teams.map(lambda v: 'Espanyol' if v == 'RCD Espanyol Barcelona' else v)\n",
    "transfermkt_teams.teams = transfermkt_teams.teams.map(lambda v: 'ManCity' if v == 'Manchester City' else v)\n",
    "whoscored_teams.teams = whoscored_teams.teams.map(lambda v: 'ManCity' if v == 'Manchester City' else v)\n",
    "transfermkt_teams.teams = transfermkt_teams.teams.map(lambda v: 'ManUn' if v == 'Manchester United' else v)\n",
    "whoscored_teams.teams = whoscored_teams.teams.map(lambda v: 'ManUn' if v == 'Manchester United' else v)"
   ]
  },
  {
   "cell_type": "code",
   "execution_count": 36,
   "metadata": {
    "hidden": true
   },
   "outputs": [],
   "source": [
    "def unique_list_of_teams(ws_teams, tm_teams):\n",
    "    \n",
    "    merged_df = {'league': [], 'team': [], 'ws_link': [], 'tm_link': []}\n",
    "    \n",
    "    rep = repetead_words(ws_teams,tm_teams)\n",
    "    \n",
    "    for ws in range(len(ws_teams.teams)):\n",
    "        ws_team_words = ws_teams.teams[ws].split()\n",
    "        remove_words_ws = rep[ws_teams.league[ws]]\n",
    "        ws_team_words = [x for x in ws_team_words if x not in remove_words_ws]\n",
    "        for tm in range(len(tm_teams.teams)):\n",
    "            if ws_teams.teams[ws] == tm_teams.teams[tm] and tm_teams.league[tm] == ws_teams.league[ws]:\n",
    "                merged_df['league'].append(ws_teams.league[ws])\n",
    "                merged_df['team'].append(ws_teams.teams[ws])\n",
    "                merged_df['ws_link'].append(ws_teams.links[ws])\n",
    "                merged_df['tm_link'].append(tm_teams.link[tm])\n",
    "            else:\n",
    "                tm_team_words = tm_teams.teams[tm].split()\n",
    "                remove_words_tm = rep[tm_teams.league[tm]]\n",
    "                tm_team_words = [x for x in tm_team_words if x not in remove_words_tm]\n",
    "                for each_word in ws_team_words:\n",
    "                    if each_word != \"\" and each_word in tm_team_words:\n",
    "                        if tm_teams.league[tm] == ws_teams.league[ws]:                        \n",
    "                            merged_df['league'].append(ws_teams.league[ws])\n",
    "                            merged_df['team'].append(ws_teams.teams[ws])\n",
    "                            merged_df['ws_link'].append(ws_teams.links[ws])\n",
    "                            merged_df['tm_link'].append(tm_teams.link[tm])\n",
    "    \n",
    "    merged_df = pd.DataFrame(merged_df)\n",
    "    merged_df.drop_duplicates(inplace=True)\n",
    "    merged_df.drop_duplicates(subset='ws_link',keep=False,inplace=True)\n",
    "    merged_df.drop_duplicates(subset='tm_link',keep=False,inplace=True)\n",
    "    return merged_df             "
   ]
  },
  {
   "cell_type": "code",
   "execution_count": 37,
   "metadata": {
    "hidden": true
   },
   "outputs": [],
   "source": [
    "final_list_of_teams = unique_list_of_teams(whoscored_teams,transfermkt_teams)"
   ]
  },
  {
   "cell_type": "code",
   "execution_count": 38,
   "metadata": {
    "hidden": true
   },
   "outputs": [
    {
     "data": {
      "text/plain": [
       "(266, 4)"
      ]
     },
     "execution_count": 38,
     "metadata": {},
     "output_type": "execute_result"
    }
   ],
   "source": [
    "final_list_of_teams.shape"
   ]
  },
  {
   "cell_type": "code",
   "execution_count": 39,
   "metadata": {
    "hidden": true
   },
   "outputs": [
    {
     "data": {
      "text/plain": [
       "/Teams/189/Show/England-Brentford       1\n",
       "/Teams/1730/Show/Germany-Augsburg       1\n",
       "/Teams/1120/Show/USA-Colorado-Rapids    1\n",
       "/Teams/2200/Show/Turkey-Kayserispor     1\n",
       "/Teams/227/Show/Turkey-Antalyaspor      1\n",
       "Name: ws_link, dtype: int64"
      ]
     },
     "execution_count": 39,
     "metadata": {},
     "output_type": "execute_result"
    }
   ],
   "source": [
    "final_list_of_teams.ws_link.value_counts().head()"
   ]
  },
  {
   "cell_type": "code",
   "execution_count": 40,
   "metadata": {
    "hidden": true,
    "scrolled": true
   },
   "outputs": [
    {
     "data": {
      "text/plain": [
       "Championship (ENG)        24\n",
       "MLS (USA)                 21\n",
       "Serie A (ITA)             20\n",
       "Premier League (ENG)      20\n",
       "Primera División (ARG)    19\n",
       "Eredivise (NET)           18\n",
       "La Liga (SPA)             18\n",
       "Bundesliga 2 (GER)        17\n",
       "Ligue 1 (FRA)             17\n",
       "Premier Liga (RUS)        16\n",
       "La Liga 2 (SPA)           16\n",
       "Bundesliga (GER)          15\n",
       "Liga NOS (POR)            15\n",
       "Super Lig (TUR)           15\n",
       "Super League (CHI)        15\n",
       "Name: league, dtype: int64"
      ]
     },
     "execution_count": 40,
     "metadata": {},
     "output_type": "execute_result"
    }
   ],
   "source": [
    "final_list_of_teams.league.value_counts()"
   ]
  },
  {
   "cell_type": "code",
   "execution_count": 41,
   "metadata": {
    "hidden": true
   },
   "outputs": [],
   "source": [
    "final_list_of_teams.to_csv(r'/Users/gonzaloferreiro/Documents/GA_Materials/DS_Inmersive/DSI8-lessons/projects/project-capstone/Moving_forward/final_list_of_teams.csv',index=False)\n"
   ]
  },
  {
   "cell_type": "markdown",
   "metadata": {},
   "source": [
    "## Obtaining final list of players"
   ]
  },
  {
   "cell_type": "markdown",
   "metadata": {
    "heading_collapsed": true
   },
   "source": [
    "### Initial sampling"
   ]
  },
  {
   "cell_type": "code",
   "execution_count": 64,
   "metadata": {
    "hidden": true
   },
   "outputs": [],
   "source": [
    "final_teams = pd.read_csv('/Users/gonzaloferreiro/Documents/GA_Materials/DS_Inmersive/DSI8-lessons/projects/project-capstone/Moving_forward/final_list_of_teams.csv')\n"
   ]
  },
  {
   "cell_type": "code",
   "execution_count": 65,
   "metadata": {
    "hidden": true
   },
   "outputs": [
    {
     "data": {
      "text/plain": [
       "(266, 4)"
      ]
     },
     "execution_count": 65,
     "metadata": {},
     "output_type": "execute_result"
    }
   ],
   "source": [
    "final_teams.shape"
   ]
  },
  {
   "cell_type": "code",
   "execution_count": 66,
   "metadata": {
    "hidden": true
   },
   "outputs": [
    {
     "data": {
      "text/html": [
       "<div>\n",
       "<style scoped>\n",
       "    .dataframe tbody tr th:only-of-type {\n",
       "        vertical-align: middle;\n",
       "    }\n",
       "\n",
       "    .dataframe tbody tr th {\n",
       "        vertical-align: top;\n",
       "    }\n",
       "\n",
       "    .dataframe thead th {\n",
       "        text-align: right;\n",
       "    }\n",
       "</style>\n",
       "<table border=\"1\" class=\"dataframe\">\n",
       "  <thead>\n",
       "    <tr style=\"text-align: right;\">\n",
       "      <th></th>\n",
       "      <th>league</th>\n",
       "      <th>team</th>\n",
       "      <th>ws_link</th>\n",
       "      <th>tm_link</th>\n",
       "    </tr>\n",
       "  </thead>\n",
       "  <tbody>\n",
       "    <tr>\n",
       "      <th>0</th>\n",
       "      <td>Primera División (ARG)</td>\n",
       "      <td>Estudiantes</td>\n",
       "      <td>/Teams/901/Show/Argentina-Estudiantes</td>\n",
       "      <td>/estudiantes-de-la-plata/startseite/verein/288</td>\n",
       "    </tr>\n",
       "    <tr>\n",
       "      <th>1</th>\n",
       "      <td>Primera División (ARG)</td>\n",
       "      <td>San Lorenzo</td>\n",
       "      <td>/Teams/906/Show/Argentina-San-Lorenzo</td>\n",
       "      <td>/club-atletico-san-lorenzo-de-almagro/startsei...</td>\n",
       "    </tr>\n",
       "    <tr>\n",
       "      <th>2</th>\n",
       "      <td>Primera División (ARG)</td>\n",
       "      <td>Gimnasia LP</td>\n",
       "      <td>/Teams/896/Show/Argentina-Gimnasia-LP</td>\n",
       "      <td>/club-de-gimnasia-y-esgrima-la-plata/startseit...</td>\n",
       "    </tr>\n",
       "    <tr>\n",
       "      <th>3</th>\n",
       "      <td>Primera División (ARG)</td>\n",
       "      <td>Banfield</td>\n",
       "      <td>/Teams/1303/Show/Argentina-Banfield</td>\n",
       "      <td>/club-atletico-banfield/startseite/verein/830</td>\n",
       "    </tr>\n",
       "    <tr>\n",
       "      <th>4</th>\n",
       "      <td>Primera División (ARG)</td>\n",
       "      <td>Newells Old Boys</td>\n",
       "      <td>/Teams/902/Show/Argentina-Newells-Old-Boys</td>\n",
       "      <td>/club-atletico-newells-old-boys/startseite/ver...</td>\n",
       "    </tr>\n",
       "  </tbody>\n",
       "</table>\n",
       "</div>"
      ],
      "text/plain": [
       "                   league              team  \\\n",
       "0  Primera División (ARG)       Estudiantes   \n",
       "1  Primera División (ARG)       San Lorenzo   \n",
       "2  Primera División (ARG)       Gimnasia LP   \n",
       "3  Primera División (ARG)          Banfield   \n",
       "4  Primera División (ARG)  Newells Old Boys   \n",
       "\n",
       "                                      ws_link  \\\n",
       "0       /Teams/901/Show/Argentina-Estudiantes   \n",
       "1       /Teams/906/Show/Argentina-San-Lorenzo   \n",
       "2       /Teams/896/Show/Argentina-Gimnasia-LP   \n",
       "3         /Teams/1303/Show/Argentina-Banfield   \n",
       "4  /Teams/902/Show/Argentina-Newells-Old-Boys   \n",
       "\n",
       "                                             tm_link  \n",
       "0     /estudiantes-de-la-plata/startseite/verein/288  \n",
       "1  /club-atletico-san-lorenzo-de-almagro/startsei...  \n",
       "2  /club-de-gimnasia-y-esgrima-la-plata/startseit...  \n",
       "3      /club-atletico-banfield/startseite/verein/830  \n",
       "4  /club-atletico-newells-old-boys/startseite/ver...  "
      ]
     },
     "execution_count": 66,
     "metadata": {},
     "output_type": "execute_result"
    }
   ],
   "source": [
    "final_teams.head()"
   ]
  },
  {
   "cell_type": "code",
   "execution_count": 67,
   "metadata": {
    "hidden": true
   },
   "outputs": [],
   "source": [
    "# Sampling list of teams\n",
    "\n",
    "teams_model = final_teams.sample(150)"
   ]
  },
  {
   "cell_type": "markdown",
   "metadata": {
    "heading_collapsed": true
   },
   "source": [
    "### Checking for teams missed in sampling"
   ]
  },
  {
   "cell_type": "code",
   "execution_count": 95,
   "metadata": {
    "hidden": true
   },
   "outputs": [],
   "source": [
    "resting_teams_index = [x for x in list(final_teams.index) if x not in list(teams_model.index)]"
   ]
  },
  {
   "cell_type": "code",
   "execution_count": 96,
   "metadata": {
    "hidden": true
   },
   "outputs": [],
   "source": [
    "resting_teams = final_teams.iloc[resting_teams_index]"
   ]
  },
  {
   "cell_type": "code",
   "execution_count": 97,
   "metadata": {
    "hidden": true
   },
   "outputs": [
    {
     "data": {
      "text/plain": [
       "(116, 4)"
      ]
     },
     "execution_count": 97,
     "metadata": {},
     "output_type": "execute_result"
    }
   ],
   "source": [
    "resting_teams.shape"
   ]
  },
  {
   "cell_type": "code",
   "execution_count": 98,
   "metadata": {
    "hidden": true
   },
   "outputs": [
    {
     "data": {
      "text/plain": [
       "(150, 4)"
      ]
     },
     "execution_count": 98,
     "metadata": {},
     "output_type": "execute_result"
    }
   ],
   "source": [
    "teams_model.shape"
   ]
  },
  {
   "cell_type": "code",
   "execution_count": 99,
   "metadata": {
    "hidden": true
   },
   "outputs": [
    {
     "data": {
      "text/plain": [
       "(266, 4)"
      ]
     },
     "execution_count": 99,
     "metadata": {},
     "output_type": "execute_result"
    }
   ],
   "source": [
    "final_teams.shape"
   ]
  },
  {
   "cell_type": "markdown",
   "metadata": {
    "heading_collapsed": true
   },
   "source": [
    "### Resampling some more teams"
   ]
  },
  {
   "cell_type": "code",
   "execution_count": 100,
   "metadata": {
    "hidden": true
   },
   "outputs": [],
   "source": [
    "teams_model_2 = resting_teams.sample(50)"
   ]
  },
  {
   "cell_type": "markdown",
   "metadata": {
    "hidden": true
   },
   "source": [
    "#### Final run to get players"
   ]
  },
  {
   "cell_type": "code",
   "execution_count": null,
   "metadata": {
    "hidden": true
   },
   "outputs": [],
   "source": [
    "players_model = get_players(teams_model)"
   ]
  },
  {
   "cell_type": "code",
   "execution_count": null,
   "metadata": {
    "hidden": true
   },
   "outputs": [],
   "source": [
    "players_model_2 = get_players(teams_model_2)"
   ]
  },
  {
   "cell_type": "markdown",
   "metadata": {
    "hidden": true
   },
   "source": [
    "#### Checking data obtained"
   ]
  },
  {
   "cell_type": "code",
   "execution_count": 71,
   "metadata": {
    "hidden": true,
    "scrolled": false
   },
   "outputs": [],
   "source": [
    "players_model.reset_index(inplace=True, drop=True)"
   ]
  },
  {
   "cell_type": "code",
   "execution_count": 72,
   "metadata": {
    "hidden": true
   },
   "outputs": [
    {
     "data": {
      "text/plain": [
       "(8072, 3)"
      ]
     },
     "execution_count": 72,
     "metadata": {},
     "output_type": "execute_result"
    }
   ],
   "source": [
    "players_model.shape"
   ]
  },
  {
   "cell_type": "code",
   "execution_count": 73,
   "metadata": {
    "hidden": true
   },
   "outputs": [
    {
     "data": {
      "text/html": [
       "<div>\n",
       "<style scoped>\n",
       "    .dataframe tbody tr th:only-of-type {\n",
       "        vertical-align: middle;\n",
       "    }\n",
       "\n",
       "    .dataframe tbody tr th {\n",
       "        vertical-align: top;\n",
       "    }\n",
       "\n",
       "    .dataframe thead th {\n",
       "        text-align: right;\n",
       "    }\n",
       "</style>\n",
       "<table border=\"1\" class=\"dataframe\">\n",
       "  <thead>\n",
       "    <tr style=\"text-align: right;\">\n",
       "      <th></th>\n",
       "      <th>link</th>\n",
       "      <th>player</th>\n",
       "      <th>team</th>\n",
       "    </tr>\n",
       "  </thead>\n",
       "  <tbody>\n",
       "    <tr>\n",
       "      <th>0</th>\n",
       "      <td>/Players/26428/Show/Kei-Kamara</td>\n",
       "      <td>Kei Kamara</td>\n",
       "      <td>Colorado Rapids</td>\n",
       "    </tr>\n",
       "    <tr>\n",
       "      <th>1</th>\n",
       "      <td>/Players/72738/Show/Danny-Wilson</td>\n",
       "      <td>Danny Wilson</td>\n",
       "      <td>Colorado Rapids</td>\n",
       "    </tr>\n",
       "    <tr>\n",
       "      <th>2</th>\n",
       "      <td>/Players/13776/Show/Benny-Feilhaber</td>\n",
       "      <td>Benny Feilhaber</td>\n",
       "      <td>Colorado Rapids</td>\n",
       "    </tr>\n",
       "    <tr>\n",
       "      <th>3</th>\n",
       "      <td>/Players/97070/Show/Diego-Rubio</td>\n",
       "      <td>Diego Rubio</td>\n",
       "      <td>Colorado Rapids</td>\n",
       "    </tr>\n",
       "    <tr>\n",
       "      <th>4</th>\n",
       "      <td>/Players/126909/Show/Kellyn-Acosta</td>\n",
       "      <td>Kellyn Acosta</td>\n",
       "      <td>Colorado Rapids</td>\n",
       "    </tr>\n",
       "  </tbody>\n",
       "</table>\n",
       "</div>"
      ],
      "text/plain": [
       "                                  link           player             team\n",
       "0       /Players/26428/Show/Kei-Kamara       Kei Kamara  Colorado Rapids\n",
       "1     /Players/72738/Show/Danny-Wilson     Danny Wilson  Colorado Rapids\n",
       "2  /Players/13776/Show/Benny-Feilhaber  Benny Feilhaber  Colorado Rapids\n",
       "3      /Players/97070/Show/Diego-Rubio      Diego Rubio  Colorado Rapids\n",
       "4   /Players/126909/Show/Kellyn-Acosta    Kellyn Acosta  Colorado Rapids"
      ]
     },
     "execution_count": 73,
     "metadata": {},
     "output_type": "execute_result"
    }
   ],
   "source": [
    "players_model.head()"
   ]
  },
  {
   "cell_type": "code",
   "execution_count": 102,
   "metadata": {
    "hidden": true
   },
   "outputs": [],
   "source": [
    "players_model_2.reset_index(inplace=True, drop=True)"
   ]
  },
  {
   "cell_type": "code",
   "execution_count": 103,
   "metadata": {
    "hidden": true
   },
   "outputs": [
    {
     "data": {
      "text/plain": [
       "(2758, 3)"
      ]
     },
     "execution_count": 103,
     "metadata": {},
     "output_type": "execute_result"
    }
   ],
   "source": [
    "players_model_2.shape"
   ]
  },
  {
   "cell_type": "code",
   "execution_count": 104,
   "metadata": {
    "hidden": true
   },
   "outputs": [
    {
     "data": {
      "text/plain": [
       "(2758, 3)"
      ]
     },
     "execution_count": 104,
     "metadata": {},
     "output_type": "execute_result"
    }
   ],
   "source": [
    "players_model_2.shape"
   ]
  },
  {
   "cell_type": "markdown",
   "metadata": {
    "hidden": true
   },
   "source": [
    "#### Final list of players"
   ]
  },
  {
   "cell_type": "code",
   "execution_count": 106,
   "metadata": {
    "hidden": true
   },
   "outputs": [],
   "source": [
    "final_players = pd.concat([players_model,players_model_2], axis=0)"
   ]
  },
  {
   "cell_type": "code",
   "execution_count": 107,
   "metadata": {
    "hidden": true
   },
   "outputs": [
    {
     "data": {
      "text/plain": [
       "(10830, 3)"
      ]
     },
     "execution_count": 107,
     "metadata": {},
     "output_type": "execute_result"
    }
   ],
   "source": [
    "final_players.shape"
   ]
  },
  {
   "cell_type": "code",
   "execution_count": 108,
   "metadata": {
    "hidden": true
   },
   "outputs": [],
   "source": [
    "final_players.to_csv(r'/Users/gonzaloferreiro/Documents/GA_Materials/DS_Inmersive/DSI8-lessons/projects/project-capstone/Moving_forward/final_players_pre_cleaning.csv',index=False)\n"
   ]
  },
  {
   "cell_type": "code",
   "execution_count": 167,
   "metadata": {
    "hidden": true
   },
   "outputs": [],
   "source": [
    "lastname = [x.split()[-1] for x in final_players.player]"
   ]
  },
  {
   "cell_type": "code",
   "execution_count": 168,
   "metadata": {
    "hidden": true
   },
   "outputs": [],
   "source": [
    "final_players['lastname'] = lastname"
   ]
  },
  {
   "cell_type": "code",
   "execution_count": 170,
   "metadata": {
    "hidden": true
   },
   "outputs": [],
   "source": [
    "final_players_ws = final_players[final_players.link.str.contains('Show')]"
   ]
  },
  {
   "cell_type": "code",
   "execution_count": 171,
   "metadata": {
    "hidden": true
   },
   "outputs": [],
   "source": [
    "final_players_tm = final_players[final_players.link.str.contains('profil')]"
   ]
  },
  {
   "cell_type": "code",
   "execution_count": 172,
   "metadata": {
    "hidden": true
   },
   "outputs": [
    {
     "data": {
      "text/html": [
       "<div>\n",
       "<style scoped>\n",
       "    .dataframe tbody tr th:only-of-type {\n",
       "        vertical-align: middle;\n",
       "    }\n",
       "\n",
       "    .dataframe tbody tr th {\n",
       "        vertical-align: top;\n",
       "    }\n",
       "\n",
       "    .dataframe thead th {\n",
       "        text-align: right;\n",
       "    }\n",
       "</style>\n",
       "<table border=\"1\" class=\"dataframe\">\n",
       "  <thead>\n",
       "    <tr style=\"text-align: right;\">\n",
       "      <th></th>\n",
       "      <th>link</th>\n",
       "      <th>player</th>\n",
       "      <th>team</th>\n",
       "      <th>lastname</th>\n",
       "    </tr>\n",
       "  </thead>\n",
       "  <tbody>\n",
       "    <tr>\n",
       "      <th>21</th>\n",
       "      <td>/tim-howard/profil/spieler/4267</td>\n",
       "      <td>T. Howard</td>\n",
       "      <td>Colorado Rapids</td>\n",
       "      <td>Howard</td>\n",
       "    </tr>\n",
       "    <tr>\n",
       "      <th>22</th>\n",
       "      <td>/andre-rawls/profil/spieler/354887</td>\n",
       "      <td>A. Rawls</td>\n",
       "      <td>Colorado Rapids</td>\n",
       "      <td>Rawls</td>\n",
       "    </tr>\n",
       "    <tr>\n",
       "      <th>23</th>\n",
       "      <td>/danny-wilson/profil/spieler/103819</td>\n",
       "      <td>D. Wilson</td>\n",
       "      <td>Colorado Rapids</td>\n",
       "      <td>Wilson</td>\n",
       "    </tr>\n",
       "    <tr>\n",
       "      <th>24</th>\n",
       "      <td>/lalas-abubakar/profil/spieler/482611</td>\n",
       "      <td>L. Abubakar</td>\n",
       "      <td>Colorado Rapids</td>\n",
       "      <td>Abubakar</td>\n",
       "    </tr>\n",
       "    <tr>\n",
       "      <th>25</th>\n",
       "      <td>/axel-sjoberg/profil/spieler/113116</td>\n",
       "      <td>A. Sjöberg</td>\n",
       "      <td>Colorado Rapids</td>\n",
       "      <td>Sjöberg</td>\n",
       "    </tr>\n",
       "  </tbody>\n",
       "</table>\n",
       "</div>"
      ],
      "text/plain": [
       "                                     link       player             team  \\\n",
       "21        /tim-howard/profil/spieler/4267    T. Howard  Colorado Rapids   \n",
       "22     /andre-rawls/profil/spieler/354887     A. Rawls  Colorado Rapids   \n",
       "23    /danny-wilson/profil/spieler/103819    D. Wilson  Colorado Rapids   \n",
       "24  /lalas-abubakar/profil/spieler/482611  L. Abubakar  Colorado Rapids   \n",
       "25    /axel-sjoberg/profil/spieler/113116   A. Sjöberg  Colorado Rapids   \n",
       "\n",
       "    lastname  \n",
       "21    Howard  \n",
       "22     Rawls  \n",
       "23    Wilson  \n",
       "24  Abubakar  \n",
       "25   Sjöberg  "
      ]
     },
     "execution_count": 172,
     "metadata": {},
     "output_type": "execute_result"
    }
   ],
   "source": [
    "final_players_tm.head()"
   ]
  },
  {
   "cell_type": "code",
   "execution_count": 173,
   "metadata": {
    "hidden": true
   },
   "outputs": [
    {
     "data": {
      "text/plain": [
       "(5458, 4)"
      ]
     },
     "execution_count": 173,
     "metadata": {},
     "output_type": "execute_result"
    }
   ],
   "source": [
    "final_players_tm.shape"
   ]
  },
  {
   "cell_type": "code",
   "execution_count": 174,
   "metadata": {
    "hidden": true
   },
   "outputs": [
    {
     "data": {
      "text/plain": [
       "(5372, 4)"
      ]
     },
     "execution_count": 174,
     "metadata": {},
     "output_type": "execute_result"
    }
   ],
   "source": [
    "final_players_ws.shape"
   ]
  },
  {
   "cell_type": "code",
   "execution_count": 197,
   "metadata": {
    "hidden": true
   },
   "outputs": [],
   "source": [
    "joint_players = pd.merge(final_players_tm, final_players_ws,\n",
    "                        how='inner', left_on=['lastname','team'], right_on = ['lastname','team'])"
   ]
  },
  {
   "cell_type": "code",
   "execution_count": 198,
   "metadata": {
    "hidden": true
   },
   "outputs": [
    {
     "data": {
      "text/html": [
       "<div>\n",
       "<style scoped>\n",
       "    .dataframe tbody tr th:only-of-type {\n",
       "        vertical-align: middle;\n",
       "    }\n",
       "\n",
       "    .dataframe tbody tr th {\n",
       "        vertical-align: top;\n",
       "    }\n",
       "\n",
       "    .dataframe thead th {\n",
       "        text-align: right;\n",
       "    }\n",
       "</style>\n",
       "<table border=\"1\" class=\"dataframe\">\n",
       "  <thead>\n",
       "    <tr style=\"text-align: right;\">\n",
       "      <th></th>\n",
       "      <th>link_x</th>\n",
       "      <th>player_x</th>\n",
       "      <th>team</th>\n",
       "      <th>lastname</th>\n",
       "      <th>link_y</th>\n",
       "      <th>player_y</th>\n",
       "    </tr>\n",
       "  </thead>\n",
       "  <tbody>\n",
       "    <tr>\n",
       "      <th>0</th>\n",
       "      <td>/tim-howard/profil/spieler/4267</td>\n",
       "      <td>T. Howard</td>\n",
       "      <td>Colorado Rapids</td>\n",
       "      <td>Howard</td>\n",
       "      <td>/Players/5582/Show/Tim-Howard</td>\n",
       "      <td>Tim Howard</td>\n",
       "    </tr>\n",
       "    <tr>\n",
       "      <th>1</th>\n",
       "      <td>/danny-wilson/profil/spieler/103819</td>\n",
       "      <td>D. Wilson</td>\n",
       "      <td>Colorado Rapids</td>\n",
       "      <td>Wilson</td>\n",
       "      <td>/Players/72738/Show/Danny-Wilson</td>\n",
       "      <td>Danny Wilson</td>\n",
       "    </tr>\n",
       "    <tr>\n",
       "      <th>2</th>\n",
       "      <td>/axel-sjoberg/profil/spieler/113116</td>\n",
       "      <td>A. Sjöberg</td>\n",
       "      <td>Colorado Rapids</td>\n",
       "      <td>Sjöberg</td>\n",
       "      <td>/Players/270583/Show/Axel-Sjöberg</td>\n",
       "      <td>Axel Sjöberg</td>\n",
       "    </tr>\n",
       "    <tr>\n",
       "      <th>3</th>\n",
       "      <td>/kofi-opare/profil/spieler/256357</td>\n",
       "      <td>K. Opare</td>\n",
       "      <td>Colorado Rapids</td>\n",
       "      <td>Opare</td>\n",
       "      <td>/Players/126723/Show/Kofi-Opare</td>\n",
       "      <td>Kofi Opare</td>\n",
       "    </tr>\n",
       "    <tr>\n",
       "      <th>4</th>\n",
       "      <td>/deklan-wynne/profil/spieler/298228</td>\n",
       "      <td>D. Wynne</td>\n",
       "      <td>Colorado Rapids</td>\n",
       "      <td>Wynne</td>\n",
       "      <td>/Players/354258/Show/Deklan-Wynne</td>\n",
       "      <td>Deklan Wynne</td>\n",
       "    </tr>\n",
       "  </tbody>\n",
       "</table>\n",
       "</div>"
      ],
      "text/plain": [
       "                                link_x    player_x             team lastname  \\\n",
       "0      /tim-howard/profil/spieler/4267   T. Howard  Colorado Rapids   Howard   \n",
       "1  /danny-wilson/profil/spieler/103819   D. Wilson  Colorado Rapids   Wilson   \n",
       "2  /axel-sjoberg/profil/spieler/113116  A. Sjöberg  Colorado Rapids  Sjöberg   \n",
       "3    /kofi-opare/profil/spieler/256357    K. Opare  Colorado Rapids    Opare   \n",
       "4  /deklan-wynne/profil/spieler/298228    D. Wynne  Colorado Rapids    Wynne   \n",
       "\n",
       "                              link_y      player_y  \n",
       "0      /Players/5582/Show/Tim-Howard    Tim Howard  \n",
       "1   /Players/72738/Show/Danny-Wilson  Danny Wilson  \n",
       "2  /Players/270583/Show/Axel-Sjöberg  Axel Sjöberg  \n",
       "3    /Players/126723/Show/Kofi-Opare    Kofi Opare  \n",
       "4  /Players/354258/Show/Deklan-Wynne  Deklan Wynne  "
      ]
     },
     "execution_count": 198,
     "metadata": {},
     "output_type": "execute_result"
    }
   ],
   "source": [
    "joint_players.head()"
   ]
  },
  {
   "cell_type": "code",
   "execution_count": 199,
   "metadata": {
    "hidden": true
   },
   "outputs": [],
   "source": [
    "final_joint_players = joint_players.drop_duplicates(subset=['lastname','team'], keep=False)"
   ]
  },
  {
   "cell_type": "code",
   "execution_count": 208,
   "metadata": {
    "hidden": true
   },
   "outputs": [
    {
     "data": {
      "text/plain": [
       "(4189, 5)"
      ]
     },
     "execution_count": 208,
     "metadata": {},
     "output_type": "execute_result"
    }
   ],
   "source": [
    "final_joint_players.shape"
   ]
  },
  {
   "cell_type": "code",
   "execution_count": 200,
   "metadata": {
    "hidden": true
   },
   "outputs": [],
   "source": [
    "final_joint_players.drop('player_x',axis=1,inplace=True)"
   ]
  },
  {
   "cell_type": "code",
   "execution_count": 201,
   "metadata": {
    "hidden": true
   },
   "outputs": [],
   "source": [
    "final_joint_players.columns = ['link_tm','team','lastname','link_ws','player']"
   ]
  },
  {
   "cell_type": "code",
   "execution_count": 202,
   "metadata": {
    "hidden": true
   },
   "outputs": [
    {
     "data": {
      "text/html": [
       "<div>\n",
       "<style scoped>\n",
       "    .dataframe tbody tr th:only-of-type {\n",
       "        vertical-align: middle;\n",
       "    }\n",
       "\n",
       "    .dataframe tbody tr th {\n",
       "        vertical-align: top;\n",
       "    }\n",
       "\n",
       "    .dataframe thead th {\n",
       "        text-align: right;\n",
       "    }\n",
       "</style>\n",
       "<table border=\"1\" class=\"dataframe\">\n",
       "  <thead>\n",
       "    <tr style=\"text-align: right;\">\n",
       "      <th></th>\n",
       "      <th>link_tm</th>\n",
       "      <th>team</th>\n",
       "      <th>lastname</th>\n",
       "      <th>link_ws</th>\n",
       "      <th>player</th>\n",
       "    </tr>\n",
       "  </thead>\n",
       "  <tbody>\n",
       "    <tr>\n",
       "      <th>0</th>\n",
       "      <td>/tim-howard/profil/spieler/4267</td>\n",
       "      <td>Colorado Rapids</td>\n",
       "      <td>Howard</td>\n",
       "      <td>/Players/5582/Show/Tim-Howard</td>\n",
       "      <td>Tim Howard</td>\n",
       "    </tr>\n",
       "    <tr>\n",
       "      <th>1</th>\n",
       "      <td>/danny-wilson/profil/spieler/103819</td>\n",
       "      <td>Colorado Rapids</td>\n",
       "      <td>Wilson</td>\n",
       "      <td>/Players/72738/Show/Danny-Wilson</td>\n",
       "      <td>Danny Wilson</td>\n",
       "    </tr>\n",
       "    <tr>\n",
       "      <th>2</th>\n",
       "      <td>/axel-sjoberg/profil/spieler/113116</td>\n",
       "      <td>Colorado Rapids</td>\n",
       "      <td>Sjöberg</td>\n",
       "      <td>/Players/270583/Show/Axel-Sjöberg</td>\n",
       "      <td>Axel Sjöberg</td>\n",
       "    </tr>\n",
       "    <tr>\n",
       "      <th>3</th>\n",
       "      <td>/kofi-opare/profil/spieler/256357</td>\n",
       "      <td>Colorado Rapids</td>\n",
       "      <td>Opare</td>\n",
       "      <td>/Players/126723/Show/Kofi-Opare</td>\n",
       "      <td>Kofi Opare</td>\n",
       "    </tr>\n",
       "    <tr>\n",
       "      <th>4</th>\n",
       "      <td>/deklan-wynne/profil/spieler/298228</td>\n",
       "      <td>Colorado Rapids</td>\n",
       "      <td>Wynne</td>\n",
       "      <td>/Players/354258/Show/Deklan-Wynne</td>\n",
       "      <td>Deklan Wynne</td>\n",
       "    </tr>\n",
       "  </tbody>\n",
       "</table>\n",
       "</div>"
      ],
      "text/plain": [
       "                               link_tm             team lastname  \\\n",
       "0      /tim-howard/profil/spieler/4267  Colorado Rapids   Howard   \n",
       "1  /danny-wilson/profil/spieler/103819  Colorado Rapids   Wilson   \n",
       "2  /axel-sjoberg/profil/spieler/113116  Colorado Rapids  Sjöberg   \n",
       "3    /kofi-opare/profil/spieler/256357  Colorado Rapids    Opare   \n",
       "4  /deklan-wynne/profil/spieler/298228  Colorado Rapids    Wynne   \n",
       "\n",
       "                             link_ws        player  \n",
       "0      /Players/5582/Show/Tim-Howard    Tim Howard  \n",
       "1   /Players/72738/Show/Danny-Wilson  Danny Wilson  \n",
       "2  /Players/270583/Show/Axel-Sjöberg  Axel Sjöberg  \n",
       "3    /Players/126723/Show/Kofi-Opare    Kofi Opare  \n",
       "4  /Players/354258/Show/Deklan-Wynne  Deklan Wynne  "
      ]
     },
     "execution_count": 202,
     "metadata": {},
     "output_type": "execute_result"
    }
   ],
   "source": [
    "final_joint_players.head()"
   ]
  },
  {
   "cell_type": "code",
   "execution_count": 204,
   "metadata": {
    "hidden": true
   },
   "outputs": [],
   "source": [
    "final_joint_players = final_joint_players[['player','lastname','team','link_tm','link_ws']]"
   ]
  },
  {
   "cell_type": "code",
   "execution_count": 205,
   "metadata": {
    "hidden": true
   },
   "outputs": [
    {
     "data": {
      "text/html": [
       "<div>\n",
       "<style scoped>\n",
       "    .dataframe tbody tr th:only-of-type {\n",
       "        vertical-align: middle;\n",
       "    }\n",
       "\n",
       "    .dataframe tbody tr th {\n",
       "        vertical-align: top;\n",
       "    }\n",
       "\n",
       "    .dataframe thead th {\n",
       "        text-align: right;\n",
       "    }\n",
       "</style>\n",
       "<table border=\"1\" class=\"dataframe\">\n",
       "  <thead>\n",
       "    <tr style=\"text-align: right;\">\n",
       "      <th></th>\n",
       "      <th>player</th>\n",
       "      <th>lastname</th>\n",
       "      <th>team</th>\n",
       "      <th>link_tm</th>\n",
       "      <th>link_ws</th>\n",
       "    </tr>\n",
       "  </thead>\n",
       "  <tbody>\n",
       "    <tr>\n",
       "      <th>0</th>\n",
       "      <td>Tim Howard</td>\n",
       "      <td>Howard</td>\n",
       "      <td>Colorado Rapids</td>\n",
       "      <td>/tim-howard/profil/spieler/4267</td>\n",
       "      <td>/Players/5582/Show/Tim-Howard</td>\n",
       "    </tr>\n",
       "    <tr>\n",
       "      <th>1</th>\n",
       "      <td>Danny Wilson</td>\n",
       "      <td>Wilson</td>\n",
       "      <td>Colorado Rapids</td>\n",
       "      <td>/danny-wilson/profil/spieler/103819</td>\n",
       "      <td>/Players/72738/Show/Danny-Wilson</td>\n",
       "    </tr>\n",
       "    <tr>\n",
       "      <th>2</th>\n",
       "      <td>Axel Sjöberg</td>\n",
       "      <td>Sjöberg</td>\n",
       "      <td>Colorado Rapids</td>\n",
       "      <td>/axel-sjoberg/profil/spieler/113116</td>\n",
       "      <td>/Players/270583/Show/Axel-Sjöberg</td>\n",
       "    </tr>\n",
       "    <tr>\n",
       "      <th>3</th>\n",
       "      <td>Kofi Opare</td>\n",
       "      <td>Opare</td>\n",
       "      <td>Colorado Rapids</td>\n",
       "      <td>/kofi-opare/profil/spieler/256357</td>\n",
       "      <td>/Players/126723/Show/Kofi-Opare</td>\n",
       "    </tr>\n",
       "    <tr>\n",
       "      <th>4</th>\n",
       "      <td>Deklan Wynne</td>\n",
       "      <td>Wynne</td>\n",
       "      <td>Colorado Rapids</td>\n",
       "      <td>/deklan-wynne/profil/spieler/298228</td>\n",
       "      <td>/Players/354258/Show/Deklan-Wynne</td>\n",
       "    </tr>\n",
       "  </tbody>\n",
       "</table>\n",
       "</div>"
      ],
      "text/plain": [
       "         player lastname             team  \\\n",
       "0    Tim Howard   Howard  Colorado Rapids   \n",
       "1  Danny Wilson   Wilson  Colorado Rapids   \n",
       "2  Axel Sjöberg  Sjöberg  Colorado Rapids   \n",
       "3    Kofi Opare    Opare  Colorado Rapids   \n",
       "4  Deklan Wynne    Wynne  Colorado Rapids   \n",
       "\n",
       "                               link_tm                            link_ws  \n",
       "0      /tim-howard/profil/spieler/4267      /Players/5582/Show/Tim-Howard  \n",
       "1  /danny-wilson/profil/spieler/103819   /Players/72738/Show/Danny-Wilson  \n",
       "2  /axel-sjoberg/profil/spieler/113116  /Players/270583/Show/Axel-Sjöberg  \n",
       "3    /kofi-opare/profil/spieler/256357    /Players/126723/Show/Kofi-Opare  \n",
       "4  /deklan-wynne/profil/spieler/298228  /Players/354258/Show/Deklan-Wynne  "
      ]
     },
     "execution_count": 205,
     "metadata": {},
     "output_type": "execute_result"
    }
   ],
   "source": [
    "final_joint_players.head()"
   ]
  },
  {
   "cell_type": "code",
   "execution_count": 234,
   "metadata": {
    "hidden": true
   },
   "outputs": [],
   "source": [
    "sampled_players = final_joint_players.sample(1200, random_state=12)"
   ]
  },
  {
   "cell_type": "code",
   "execution_count": 206,
   "metadata": {
    "hidden": true
   },
   "outputs": [],
   "source": [
    "final_joint_players.to_csv(r'/Users/gonzaloferreiro/Documents/GA_Materials/DS_Inmersive/DSI8-lessons/projects/project-capstone/Moving_forward/final_players_post_cleaning.csv',index=False)\n"
   ]
  },
  {
   "cell_type": "code",
   "execution_count": 236,
   "metadata": {
    "hidden": true
   },
   "outputs": [],
   "source": [
    "sampled_players.to_csv(r'/Users/gonzaloferreiro/Documents/GA_Materials/DS_Inmersive/DSI8-lessons/projects/project-capstone/Moving_forward/final_list_of_sampled_players.csv',index=False)"
   ]
  }
 ],
 "metadata": {
  "kernelspec": {
   "display_name": "Python 3",
   "language": "python",
   "name": "python3"
  },
  "language_info": {
   "codemirror_mode": {
    "name": "ipython",
    "version": 3
   },
   "file_extension": ".py",
   "mimetype": "text/x-python",
   "name": "python",
   "nbconvert_exporter": "python",
   "pygments_lexer": "ipython3",
   "version": "3.6.8"
  }
 },
 "nbformat": 4,
 "nbformat_minor": 2
}
