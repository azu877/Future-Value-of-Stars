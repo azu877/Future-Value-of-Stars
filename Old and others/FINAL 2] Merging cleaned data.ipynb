{
 "cells": [
  {
   "cell_type": "code",
   "execution_count": null,
   "metadata": {},
   "outputs": [],
   "source": [
    "import numpy as np\n",
    "import pandas as pd\n",
    "import seaborn as sns\n",
    "import matplotlib.pyplot as plt\n",
    "import scipy.stats as scistats\n",
    "from sklearn.metrics import r2_score\n",
    "from sklearn.linear_model import (LinearRegression, \n",
    "                                  Ridge, Lasso, RidgeCV, LassoCV, \n",
    "                                  ElasticNetCV, ElasticNet, \n",
    "                                  TheilSenRegressor, RANSACRegressor, HuberRegressor)\n",
    "from sklearn.ensemble import BaggingRegressor\n",
    "from sklearn.tree import DecisionTreeRegressor\n",
    "from sklearn.model_selection import train_test_split, cross_val_score, GridSearchCV\n",
    "from sklearn.preprocessing import StandardScaler\n",
    "import statsmodels.api as sm\n",
    "from statsmodels.sandbox.regression.predstd import wls_prediction_std\n",
    "from sklearn.svm import SVR, LinearSVR\n",
    "import re\n",
    "import warnings\n",
    "#warnings.filterwarnings('ignore')\n",
    "scaler = StandardScaler()"
   ]
  },
  {
   "cell_type": "code",
   "execution_count": null,
   "metadata": {},
   "outputs": [],
   "source": [
    "# Base dataset\n",
    "players_and_teams = pd.read_csv('Final_datasets/Cleaned_data/Players_and_teams.csv') # Done"
   ]
  },
  {
   "cell_type": "code",
   "execution_count": null,
   "metadata": {},
   "outputs": [],
   "source": [
    "# Basic info and stats\n",
    "basic_info = pd.read_csv('Final_datasets/Cleaned_data/Basic_info.csv') # Done\n",
    "players_app_and_rank = pd.read_csv('Final_datasets/Cleaned_data/Appearences_with_ranking.csv') # Done\n",
    "injuries_and_age = pd.read_csv('Final_datasets/Cleaned_data/Injuries_and_age.csv') # Done"
   ]
  },
  {
   "cell_type": "code",
   "execution_count": null,
   "metadata": {},
   "outputs": [],
   "source": [
    "# Market value\n",
    "market_value = pd.read_csv('Final_datasets/Cleaned_data/Market_value.csv')"
   ]
  },
  {
   "cell_type": "code",
   "execution_count": null,
   "metadata": {},
   "outputs": [],
   "source": [
    "market_value"
   ]
  },
  {
   "cell_type": "code",
   "execution_count": null,
   "metadata": {},
   "outputs": [],
   "source": [
    "# Brand value\n",
    "google_results = pd.read_csv('Final_datasets/Cleaned_data/final_google_results_cleaned.csv') # Done\n",
    "twitter_thing = pd.read_csv('Final_datasets/Cleaned_data/final_twitter_cleaned.csv') # Done"
   ]
  },
  {
   "cell_type": "code",
   "execution_count": null,
   "metadata": {},
   "outputs": [],
   "source": [
    "# Stats\n",
    "stats = pd.read_csv('Final_datasets/Cleaned_data/final_stats_merged.csv') # Done"
   ]
  },
  {
   "cell_type": "code",
   "execution_count": null,
   "metadata": {},
   "outputs": [],
   "source": [
    "# Awards\n",
    "awards = pd.read_csv('Final_datasets/Cleaned_data/Awards_def.csv') # Done"
   ]
  },
  {
   "cell_type": "markdown",
   "metadata": {},
   "source": [
    "### Mega merging"
   ]
  },
  {
   "cell_type": "code",
   "execution_count": 306,
   "metadata": {},
   "outputs": [
    {
     "data": {
      "text/html": [
       "<div>\n",
       "<style scoped>\n",
       "    .dataframe tbody tr th:only-of-type {\n",
       "        vertical-align: middle;\n",
       "    }\n",
       "\n",
       "    .dataframe tbody tr th {\n",
       "        vertical-align: top;\n",
       "    }\n",
       "\n",
       "    .dataframe thead th {\n",
       "        text-align: right;\n",
       "    }\n",
       "</style>\n",
       "<table border=\"1\" class=\"dataframe\">\n",
       "  <thead>\n",
       "    <tr style=\"text-align: right;\">\n",
       "      <th></th>\n",
       "      <th>player</th>\n",
       "      <th>lastname</th>\n",
       "      <th>team</th>\n",
       "      <th>team_clas</th>\n",
       "      <th>league</th>\n",
       "      <th>team_country</th>\n",
       "      <th>player_link_tm</th>\n",
       "      <th>player_link_ws</th>\n",
       "      <th>team_ws_link</th>\n",
       "      <th>team_tm_link</th>\n",
       "    </tr>\n",
       "  </thead>\n",
       "  <tbody>\n",
       "    <tr>\n",
       "      <th>0</th>\n",
       "      <td>Max Clark</td>\n",
       "      <td>Clark</td>\n",
       "      <td>Vitesse</td>\n",
       "      <td>Above 200</td>\n",
       "      <td>Eredivise (NET)</td>\n",
       "      <td>NET</td>\n",
       "      <td>/max-clark/profil/spieler/183291</td>\n",
       "      <td>/Players/313996/Show/Max-Clark</td>\n",
       "      <td>/Teams/255/Show/Netherlands-Vitesse</td>\n",
       "      <td>/vitesse-arnheim/startseite/verein/499</td>\n",
       "    </tr>\n",
       "    <tr>\n",
       "      <th>1</th>\n",
       "      <td>Richonell Margaret</td>\n",
       "      <td>Margaret</td>\n",
       "      <td>Vitesse</td>\n",
       "      <td>Above 200</td>\n",
       "      <td>Eredivise (NET)</td>\n",
       "      <td>NET</td>\n",
       "      <td>/richonell-margaret/profil/spieler/465326</td>\n",
       "      <td>/Players/369048/Show/Richonell-Margaret</td>\n",
       "      <td>/Teams/255/Show/Netherlands-Vitesse</td>\n",
       "      <td>/vitesse-arnheim/startseite/verein/499</td>\n",
       "    </tr>\n",
       "    <tr>\n",
       "      <th>2</th>\n",
       "      <td>Tim Matavz</td>\n",
       "      <td>Matavz</td>\n",
       "      <td>Vitesse</td>\n",
       "      <td>Above 200</td>\n",
       "      <td>Eredivise (NET)</td>\n",
       "      <td>NET</td>\n",
       "      <td>/tim-matavz/profil/spieler/50303</td>\n",
       "      <td>/Players/25518/Show/Tim-Matavz</td>\n",
       "      <td>/Teams/255/Show/Netherlands-Vitesse</td>\n",
       "      <td>/vitesse-arnheim/startseite/verein/499</td>\n",
       "    </tr>\n",
       "    <tr>\n",
       "      <th>3</th>\n",
       "      <td>Alexander Büttner</td>\n",
       "      <td>Büttner</td>\n",
       "      <td>Vitesse</td>\n",
       "      <td>Above 200</td>\n",
       "      <td>Eredivise (NET)</td>\n",
       "      <td>NET</td>\n",
       "      <td>/alexander-buttner/profil/spieler/38003</td>\n",
       "      <td>/Players/38147/Show/Alexander-Büttner</td>\n",
       "      <td>/Teams/255/Show/Netherlands-Vitesse</td>\n",
       "      <td>/vitesse-arnheim/startseite/verein/499</td>\n",
       "    </tr>\n",
       "    <tr>\n",
       "      <th>4</th>\n",
       "      <td>Rasmus Thelander</td>\n",
       "      <td>Thelander</td>\n",
       "      <td>Vitesse</td>\n",
       "      <td>Above 200</td>\n",
       "      <td>Eredivise (NET)</td>\n",
       "      <td>NET</td>\n",
       "      <td>/rasmus-thelander/profil/spieler/129092</td>\n",
       "      <td>/Players/81841/Show/Rasmus-Thelander</td>\n",
       "      <td>/Teams/255/Show/Netherlands-Vitesse</td>\n",
       "      <td>/vitesse-arnheim/startseite/verein/499</td>\n",
       "    </tr>\n",
       "  </tbody>\n",
       "</table>\n",
       "</div>"
      ],
      "text/plain": [
       "               player   lastname     team  team_clas           league  \\\n",
       "0           Max Clark      Clark  Vitesse  Above 200  Eredivise (NET)   \n",
       "1  Richonell Margaret   Margaret  Vitesse  Above 200  Eredivise (NET)   \n",
       "2          Tim Matavz     Matavz  Vitesse  Above 200  Eredivise (NET)   \n",
       "3   Alexander Büttner    Büttner  Vitesse  Above 200  Eredivise (NET)   \n",
       "4    Rasmus Thelander  Thelander  Vitesse  Above 200  Eredivise (NET)   \n",
       "\n",
       "  team_country                             player_link_tm  \\\n",
       "0          NET           /max-clark/profil/spieler/183291   \n",
       "1          NET  /richonell-margaret/profil/spieler/465326   \n",
       "2          NET           /tim-matavz/profil/spieler/50303   \n",
       "3          NET    /alexander-buttner/profil/spieler/38003   \n",
       "4          NET    /rasmus-thelander/profil/spieler/129092   \n",
       "\n",
       "                            player_link_ws  \\\n",
       "0           /Players/313996/Show/Max-Clark   \n",
       "1  /Players/369048/Show/Richonell-Margaret   \n",
       "2           /Players/25518/Show/Tim-Matavz   \n",
       "3    /Players/38147/Show/Alexander-Büttner   \n",
       "4     /Players/81841/Show/Rasmus-Thelander   \n",
       "\n",
       "                          team_ws_link                            team_tm_link  \n",
       "0  /Teams/255/Show/Netherlands-Vitesse  /vitesse-arnheim/startseite/verein/499  \n",
       "1  /Teams/255/Show/Netherlands-Vitesse  /vitesse-arnheim/startseite/verein/499  \n",
       "2  /Teams/255/Show/Netherlands-Vitesse  /vitesse-arnheim/startseite/verein/499  \n",
       "3  /Teams/255/Show/Netherlands-Vitesse  /vitesse-arnheim/startseite/verein/499  \n",
       "4  /Teams/255/Show/Netherlands-Vitesse  /vitesse-arnheim/startseite/verein/499  "
      ]
     },
     "execution_count": 306,
     "metadata": {},
     "output_type": "execute_result"
    }
   ],
   "source": [
    "players_and_teams.head()"
   ]
  },
  {
   "cell_type": "code",
   "execution_count": 307,
   "metadata": {},
   "outputs": [
    {
     "data": {
      "text/plain": [
       "(1198, 16)"
      ]
     },
     "execution_count": 307,
     "metadata": {},
     "output_type": "execute_result"
    }
   ],
   "source": [
    "# Merging basedataset with basic info\n",
    "\n",
    "basic_info = basic_info.rename(columns = {'name':'player'})\n",
    "final_dataset = players_and_teams.merge(basic_info, how='inner', on=['player', 'team'])\n",
    "final_dataset.shape"
   ]
  },
  {
   "cell_type": "code",
   "execution_count": 308,
   "metadata": {},
   "outputs": [
    {
     "data": {
      "text/html": [
       "<div>\n",
       "<style scoped>\n",
       "    .dataframe tbody tr th:only-of-type {\n",
       "        vertical-align: middle;\n",
       "    }\n",
       "\n",
       "    .dataframe tbody tr th {\n",
       "        vertical-align: top;\n",
       "    }\n",
       "\n",
       "    .dataframe thead th {\n",
       "        text-align: right;\n",
       "    }\n",
       "</style>\n",
       "<table border=\"1\" class=\"dataframe\">\n",
       "  <thead>\n",
       "    <tr style=\"text-align: right;\">\n",
       "      <th></th>\n",
       "      <th>current_value</th>\n",
       "      <th>highest_value</th>\n",
       "      <th>last_team</th>\n",
       "      <th>prev_team</th>\n",
       "      <th>prev_prev_team</th>\n",
       "      <th>link</th>\n",
       "      <th>value_loss</th>\n",
       "      <th>current_log</th>\n",
       "      <th>double_trans</th>\n",
       "    </tr>\n",
       "  </thead>\n",
       "  <tbody>\n",
       "    <tr>\n",
       "      <th>0</th>\n",
       "      <td>450000</td>\n",
       "      <td>450000</td>\n",
       "      <td>Vitesse</td>\n",
       "      <td>Hull City</td>\n",
       "      <td>Hull U23</td>\n",
       "      <td>/max-clark/profil/spieler/183291</td>\n",
       "      <td>0</td>\n",
       "      <td>13.017003</td>\n",
       "      <td>2.566256</td>\n",
       "    </tr>\n",
       "    <tr>\n",
       "      <th>1</th>\n",
       "      <td>2700000</td>\n",
       "      <td>2700000</td>\n",
       "      <td>Levante</td>\n",
       "      <td>Spezia Calcio</td>\n",
       "      <td>CD Leganés</td>\n",
       "      <td>/sergio-postigo/profil/spieler/158791</td>\n",
       "      <td>0</td>\n",
       "      <td>14.808762</td>\n",
       "      <td>2.695219</td>\n",
       "    </tr>\n",
       "    <tr>\n",
       "      <th>2</th>\n",
       "      <td>540000</td>\n",
       "      <td>630000</td>\n",
       "      <td>MSV Duisburg</td>\n",
       "      <td>VfL Osnabrück</td>\n",
       "      <td>Westf. Rhynern</td>\n",
       "      <td>/stanislav-iljutcenko/profil/spieler/191292</td>\n",
       "      <td>-90000</td>\n",
       "      <td>13.199324</td>\n",
       "      <td>2.580166</td>\n",
       "    </tr>\n",
       "    <tr>\n",
       "      <th>3</th>\n",
       "      <td>6750000</td>\n",
       "      <td>6750000</td>\n",
       "      <td>Boca Juniors</td>\n",
       "      <td>CD Cruz Azul</td>\n",
       "      <td>Lanús</td>\n",
       "      <td>/ivan-marcone/profil/spieler/90451</td>\n",
       "      <td>0</td>\n",
       "      <td>15.725053</td>\n",
       "      <td>2.755255</td>\n",
       "    </tr>\n",
       "    <tr>\n",
       "      <th>4</th>\n",
       "      <td>6300000</td>\n",
       "      <td>6300000</td>\n",
       "      <td>Montpellier</td>\n",
       "      <td>FC Metz</td>\n",
       "      <td>US Créteil</td>\n",
       "      <td>/florent-mollet/profil/spieler/222859</td>\n",
       "      <td>0</td>\n",
       "      <td>15.656060</td>\n",
       "      <td>2.750858</td>\n",
       "    </tr>\n",
       "  </tbody>\n",
       "</table>\n",
       "</div>"
      ],
      "text/plain": [
       "   current_value  highest_value     last_team      prev_team  prev_prev_team  \\\n",
       "0         450000         450000       Vitesse      Hull City        Hull U23   \n",
       "1        2700000        2700000       Levante  Spezia Calcio      CD Leganés   \n",
       "2         540000         630000  MSV Duisburg  VfL Osnabrück  Westf. Rhynern   \n",
       "3        6750000        6750000  Boca Juniors   CD Cruz Azul           Lanús   \n",
       "4        6300000        6300000   Montpellier        FC Metz      US Créteil   \n",
       "\n",
       "                                          link  value_loss  current_log  \\\n",
       "0             /max-clark/profil/spieler/183291           0    13.017003   \n",
       "1        /sergio-postigo/profil/spieler/158791           0    14.808762   \n",
       "2  /stanislav-iljutcenko/profil/spieler/191292      -90000    13.199324   \n",
       "3           /ivan-marcone/profil/spieler/90451           0    15.725053   \n",
       "4        /florent-mollet/profil/spieler/222859           0    15.656060   \n",
       "\n",
       "   double_trans  \n",
       "0      2.566256  \n",
       "1      2.695219  \n",
       "2      2.580166  \n",
       "3      2.755255  \n",
       "4      2.750858  "
      ]
     },
     "execution_count": 308,
     "metadata": {},
     "output_type": "execute_result"
    }
   ],
   "source": [
    "market_value.head()"
   ]
  },
  {
   "cell_type": "code",
   "execution_count": 309,
   "metadata": {},
   "outputs": [],
   "source": [
    "# Merging market value\n",
    "\n",
    "market_value.drop(['last_team','prev_team','prev_prev_team','current_value'],axis=1,inplace=True)\n",
    "market_value=market_value.rename(columns = {'link':'player_link_tm'})\n",
    "final_dataset = final_dataset.merge(market_value, how='inner', on='player_link_tm')"
   ]
  },
  {
   "cell_type": "code",
   "execution_count": 310,
   "metadata": {},
   "outputs": [
    {
     "data": {
      "text/plain": [
       "(1204, 24)"
      ]
     },
     "execution_count": 310,
     "metadata": {},
     "output_type": "execute_result"
    }
   ],
   "source": [
    "# Merging player apps and rank\n",
    "\n",
    "players_app_and_rank.columns = ['player_link_tm', 'nationality', 'minutes', 'type_agent', 'pond_min']\n",
    "final_dataset = final_dataset.merge(players_app_and_rank, how='inner', on='player_link_tm')\n",
    "final_dataset.shape"
   ]
  },
  {
   "cell_type": "code",
   "execution_count": 311,
   "metadata": {},
   "outputs": [
    {
     "data": {
      "text/plain": [
       "(1204, 28)"
      ]
     },
     "execution_count": 311,
     "metadata": {},
     "output_type": "execute_result"
    }
   ],
   "source": [
    "# Merging injuries data\n",
    "\n",
    "injuries_and_age=injuries_and_age.rename(columns = {'link':'player_link_tm'})\n",
    "final_dataset = final_dataset.merge(injuries_and_age, how='inner', on='player_link_tm')\n",
    "final_dataset.shape"
   ]
  },
  {
   "cell_type": "code",
   "execution_count": 312,
   "metadata": {},
   "outputs": [
    {
     "data": {
      "text/plain": [
       "(1212, 31)"
      ]
     },
     "execution_count": 312,
     "metadata": {},
     "output_type": "execute_result"
    }
   ],
   "source": [
    "# Merging google data\n",
    "\n",
    "google_results=google_results.rename(columns = {'link':'player_link_tm'})\n",
    "final_dataset = final_dataset.merge(google_results, how='inner', on='player_link_tm')\n",
    "final_dataset.shape"
   ]
  },
  {
   "cell_type": "code",
   "execution_count": 313,
   "metadata": {},
   "outputs": [
    {
     "data": {
      "text/plain": [
       "(1212, 31)"
      ]
     },
     "execution_count": 313,
     "metadata": {},
     "output_type": "execute_result"
    }
   ],
   "source": [
    "# Some extra cleaning for the twitter data\n",
    "\n",
    "twitter_thing['player_link_clean'] = [str(x).replace('0 ','') for x in twitter_thing.Link]\n",
    "twitter_thing.drop(['Link','Positive','Negative','Neutral','Keyword'], axis=1, inplace=True)\n",
    "final_dataset.shape"
   ]
  },
  {
   "cell_type": "code",
   "execution_count": 314,
   "metadata": {},
   "outputs": [
    {
     "data": {
      "text/plain": [
       "(1212, 32)"
      ]
     },
     "execution_count": 314,
     "metadata": {},
     "output_type": "execute_result"
    }
   ],
   "source": [
    "# Merging twitter data\n",
    "\n",
    "twitter_thing['player_link_ws'] = [re.findall(r'\\S+(?=\\n1)', x)[0] for x in twitter_thing.player_link_clean]\n",
    "twitter_thing.drop('player_link_clean',axis=1,inplace=True)\n",
    "final_dataset = final_dataset.merge(twitter_thing, how='left', on='player_link_ws')\n",
    "final_dataset.shape"
   ]
  },
  {
   "cell_type": "code",
   "execution_count": 315,
   "metadata": {},
   "outputs": [],
   "source": [
    "final_dataset.fillna(value=0, inplace=True)"
   ]
  },
  {
   "cell_type": "code",
   "execution_count": 316,
   "metadata": {},
   "outputs": [
    {
     "data": {
      "text/plain": [
       "(1155, 94)"
      ]
     },
     "execution_count": 316,
     "metadata": {},
     "output_type": "execute_result"
    }
   ],
   "source": [
    "# Merging stats\n",
    "\n",
    "stats=stats.rename(columns = {'link':'player_link_ws'})\n",
    "final_dataset = final_dataset.merge(stats, how='inner', on='player_link_ws')\n",
    "final_dataset.shape"
   ]
  },
  {
   "cell_type": "code",
   "execution_count": 317,
   "metadata": {},
   "outputs": [
    {
     "data": {
      "text/plain": [
       "(1171, 117)"
      ]
     },
     "execution_count": 317,
     "metadata": {},
     "output_type": "execute_result"
    }
   ],
   "source": [
    "# Merging awards\n",
    "\n",
    "awards=awards.rename(columns = {'link':'player_link_tm'})\n",
    "final_dataset = final_dataset.merge(awards, how='inner', on='player_link_tm')\n",
    "final_dataset.shape"
   ]
  },
  {
   "cell_type": "code",
   "execution_count": 318,
   "metadata": {
    "scrolled": true
   },
   "outputs": [
    {
     "data": {
      "text/html": [
       "<div>\n",
       "<style scoped>\n",
       "    .dataframe tbody tr th:only-of-type {\n",
       "        vertical-align: middle;\n",
       "    }\n",
       "\n",
       "    .dataframe tbody tr th {\n",
       "        vertical-align: top;\n",
       "    }\n",
       "\n",
       "    .dataframe thead th {\n",
       "        text-align: right;\n",
       "    }\n",
       "</style>\n",
       "<table border=\"1\" class=\"dataframe\">\n",
       "  <thead>\n",
       "    <tr style=\"text-align: right;\">\n",
       "      <th></th>\n",
       "      <th>player</th>\n",
       "      <th>lastname</th>\n",
       "      <th>team</th>\n",
       "      <th>team_clas</th>\n",
       "      <th>league</th>\n",
       "      <th>team_country</th>\n",
       "      <th>player_link_tm</th>\n",
       "      <th>player_link_ws</th>\n",
       "      <th>team_ws_link</th>\n",
       "      <th>team_tm_link</th>\n",
       "      <th>...</th>\n",
       "      <th>FIFA Club World Cup winner</th>\n",
       "      <th>Olympic medalist</th>\n",
       "      <th>League T2 Runner-up</th>\n",
       "      <th>Second place at the Olympic Games</th>\n",
       "      <th>Third place at the Olympic Games</th>\n",
       "      <th>World Cup participant</th>\n",
       "      <th>World Cup runner-up</th>\n",
       "      <th>World Cup third place</th>\n",
       "      <th>World Cup winner</th>\n",
       "      <th>total_awards</th>\n",
       "    </tr>\n",
       "  </thead>\n",
       "  <tbody>\n",
       "    <tr>\n",
       "      <th>0</th>\n",
       "      <td>Max Clark</td>\n",
       "      <td>Clark</td>\n",
       "      <td>Vitesse</td>\n",
       "      <td>Above 200</td>\n",
       "      <td>Eredivise (NET)</td>\n",
       "      <td>NET</td>\n",
       "      <td>/max-clark/profil/spieler/183291</td>\n",
       "      <td>/Players/313996/Show/Max-Clark</td>\n",
       "      <td>/Teams/255/Show/Netherlands-Vitesse</td>\n",
       "      <td>/vitesse-arnheim/startseite/verein/499</td>\n",
       "      <td>...</td>\n",
       "      <td>0.0</td>\n",
       "      <td>0.0</td>\n",
       "      <td>0.0</td>\n",
       "      <td>0.0</td>\n",
       "      <td>0.0</td>\n",
       "      <td>0.0</td>\n",
       "      <td>0.0</td>\n",
       "      <td>0.0</td>\n",
       "      <td>0.0</td>\n",
       "      <td>0.0</td>\n",
       "    </tr>\n",
       "    <tr>\n",
       "      <th>1</th>\n",
       "      <td>Richonell Margaret</td>\n",
       "      <td>Margaret</td>\n",
       "      <td>Vitesse</td>\n",
       "      <td>Above 200</td>\n",
       "      <td>Eredivise (NET)</td>\n",
       "      <td>NET</td>\n",
       "      <td>/richonell-margaret/profil/spieler/465326</td>\n",
       "      <td>/Players/369048/Show/Richonell-Margaret</td>\n",
       "      <td>/Teams/255/Show/Netherlands-Vitesse</td>\n",
       "      <td>/vitesse-arnheim/startseite/verein/499</td>\n",
       "      <td>...</td>\n",
       "      <td>0.0</td>\n",
       "      <td>0.0</td>\n",
       "      <td>0.0</td>\n",
       "      <td>0.0</td>\n",
       "      <td>0.0</td>\n",
       "      <td>0.0</td>\n",
       "      <td>0.0</td>\n",
       "      <td>0.0</td>\n",
       "      <td>0.0</td>\n",
       "      <td>0.0</td>\n",
       "    </tr>\n",
       "    <tr>\n",
       "      <th>2</th>\n",
       "      <td>Tim Matavz</td>\n",
       "      <td>Matavz</td>\n",
       "      <td>Vitesse</td>\n",
       "      <td>Above 200</td>\n",
       "      <td>Eredivise (NET)</td>\n",
       "      <td>NET</td>\n",
       "      <td>/tim-matavz/profil/spieler/50303</td>\n",
       "      <td>/Players/25518/Show/Tim-Matavz</td>\n",
       "      <td>/Teams/255/Show/Netherlands-Vitesse</td>\n",
       "      <td>/vitesse-arnheim/startseite/verein/499</td>\n",
       "      <td>...</td>\n",
       "      <td>0.0</td>\n",
       "      <td>0.0</td>\n",
       "      <td>0.0</td>\n",
       "      <td>0.0</td>\n",
       "      <td>0.0</td>\n",
       "      <td>1.0</td>\n",
       "      <td>0.0</td>\n",
       "      <td>0.0</td>\n",
       "      <td>0.0</td>\n",
       "      <td>3.0</td>\n",
       "    </tr>\n",
       "    <tr>\n",
       "      <th>3</th>\n",
       "      <td>Alexander Büttner</td>\n",
       "      <td>Büttner</td>\n",
       "      <td>Vitesse</td>\n",
       "      <td>Above 200</td>\n",
       "      <td>Eredivise (NET)</td>\n",
       "      <td>NET</td>\n",
       "      <td>/alexander-buttner/profil/spieler/38003</td>\n",
       "      <td>/Players/38147/Show/Alexander-Büttner</td>\n",
       "      <td>/Teams/255/Show/Netherlands-Vitesse</td>\n",
       "      <td>/vitesse-arnheim/startseite/verein/499</td>\n",
       "      <td>...</td>\n",
       "      <td>0.0</td>\n",
       "      <td>0.0</td>\n",
       "      <td>0.0</td>\n",
       "      <td>0.0</td>\n",
       "      <td>0.0</td>\n",
       "      <td>0.0</td>\n",
       "      <td>0.0</td>\n",
       "      <td>0.0</td>\n",
       "      <td>0.0</td>\n",
       "      <td>3.0</td>\n",
       "    </tr>\n",
       "    <tr>\n",
       "      <th>4</th>\n",
       "      <td>Rasmus Thelander</td>\n",
       "      <td>Thelander</td>\n",
       "      <td>Vitesse</td>\n",
       "      <td>Above 200</td>\n",
       "      <td>Eredivise (NET)</td>\n",
       "      <td>NET</td>\n",
       "      <td>/rasmus-thelander/profil/spieler/129092</td>\n",
       "      <td>/Players/81841/Show/Rasmus-Thelander</td>\n",
       "      <td>/Teams/255/Show/Netherlands-Vitesse</td>\n",
       "      <td>/vitesse-arnheim/startseite/verein/499</td>\n",
       "      <td>...</td>\n",
       "      <td>0.0</td>\n",
       "      <td>0.0</td>\n",
       "      <td>0.0</td>\n",
       "      <td>0.0</td>\n",
       "      <td>0.0</td>\n",
       "      <td>0.0</td>\n",
       "      <td>0.0</td>\n",
       "      <td>0.0</td>\n",
       "      <td>0.0</td>\n",
       "      <td>3.0</td>\n",
       "    </tr>\n",
       "  </tbody>\n",
       "</table>\n",
       "<p>5 rows × 117 columns</p>\n",
       "</div>"
      ],
      "text/plain": [
       "               player   lastname     team  team_clas           league  \\\n",
       "0           Max Clark      Clark  Vitesse  Above 200  Eredivise (NET)   \n",
       "1  Richonell Margaret   Margaret  Vitesse  Above 200  Eredivise (NET)   \n",
       "2          Tim Matavz     Matavz  Vitesse  Above 200  Eredivise (NET)   \n",
       "3   Alexander Büttner    Büttner  Vitesse  Above 200  Eredivise (NET)   \n",
       "4    Rasmus Thelander  Thelander  Vitesse  Above 200  Eredivise (NET)   \n",
       "\n",
       "  team_country                             player_link_tm  \\\n",
       "0          NET           /max-clark/profil/spieler/183291   \n",
       "1          NET  /richonell-margaret/profil/spieler/465326   \n",
       "2          NET           /tim-matavz/profil/spieler/50303   \n",
       "3          NET    /alexander-buttner/profil/spieler/38003   \n",
       "4          NET    /rasmus-thelander/profil/spieler/129092   \n",
       "\n",
       "                            player_link_ws  \\\n",
       "0           /Players/313996/Show/Max-Clark   \n",
       "1  /Players/369048/Show/Richonell-Margaret   \n",
       "2           /Players/25518/Show/Tim-Matavz   \n",
       "3    /Players/38147/Show/Alexander-Büttner   \n",
       "4     /Players/81841/Show/Rasmus-Thelander   \n",
       "\n",
       "                          team_ws_link  \\\n",
       "0  /Teams/255/Show/Netherlands-Vitesse   \n",
       "1  /Teams/255/Show/Netherlands-Vitesse   \n",
       "2  /Teams/255/Show/Netherlands-Vitesse   \n",
       "3  /Teams/255/Show/Netherlands-Vitesse   \n",
       "4  /Teams/255/Show/Netherlands-Vitesse   \n",
       "\n",
       "                             team_tm_link      ...       \\\n",
       "0  /vitesse-arnheim/startseite/verein/499      ...        \n",
       "1  /vitesse-arnheim/startseite/verein/499      ...        \n",
       "2  /vitesse-arnheim/startseite/verein/499      ...        \n",
       "3  /vitesse-arnheim/startseite/verein/499      ...        \n",
       "4  /vitesse-arnheim/startseite/verein/499      ...        \n",
       "\n",
       "  FIFA Club World Cup winner   Olympic medalist   League T2 Runner-up  \\\n",
       "0                         0.0                0.0                  0.0   \n",
       "1                         0.0                0.0                  0.0   \n",
       "2                         0.0                0.0                  0.0   \n",
       "3                         0.0                0.0                  0.0   \n",
       "4                         0.0                0.0                  0.0   \n",
       "\n",
       "  Second place at the Olympic Games  Third place at the Olympic Games   \\\n",
       "0                                0.0                               0.0   \n",
       "1                                0.0                               0.0   \n",
       "2                                0.0                               0.0   \n",
       "3                                0.0                               0.0   \n",
       "4                                0.0                               0.0   \n",
       "\n",
       "   World Cup participant   World Cup runner-up   World Cup third place   \\\n",
       "0                     0.0                   0.0                     0.0   \n",
       "1                     0.0                   0.0                     0.0   \n",
       "2                     1.0                   0.0                     0.0   \n",
       "3                     0.0                   0.0                     0.0   \n",
       "4                     0.0                   0.0                     0.0   \n",
       "\n",
       "   World Cup winner   total_awards  \n",
       "0                0.0           0.0  \n",
       "1                0.0           0.0  \n",
       "2                0.0           3.0  \n",
       "3                0.0           3.0  \n",
       "4                0.0           3.0  \n",
       "\n",
       "[5 rows x 117 columns]"
      ]
     },
     "execution_count": 318,
     "metadata": {},
     "output_type": "execute_result"
    }
   ],
   "source": [
    "final_dataset.head()"
   ]
  },
  {
   "cell_type": "code",
   "execution_count": 319,
   "metadata": {},
   "outputs": [],
   "source": [
    "final_dataset.drop_duplicates(subset=['player_link_tm','player_link_ws'], inplace=True)"
   ]
  },
  {
   "cell_type": "markdown",
   "metadata": {},
   "source": [
    "### Droping and dummifying"
   ]
  },
  {
   "cell_type": "code",
   "execution_count": 320,
   "metadata": {},
   "outputs": [],
   "source": [
    "final_link_ws = final_dataset.pop('player_link_ws')"
   ]
  },
  {
   "cell_type": "code",
   "execution_count": 321,
   "metadata": {},
   "outputs": [],
   "source": [
    "final_link_tm = final_dataset.pop('player_link_tm')"
   ]
  },
  {
   "cell_type": "code",
   "execution_count": 322,
   "metadata": {},
   "outputs": [
    {
     "data": {
      "text/plain": [
       "(1140, 115)"
      ]
     },
     "execution_count": 322,
     "metadata": {},
     "output_type": "execute_result"
    }
   ],
   "source": [
    "final_dataset.shape"
   ]
  },
  {
   "cell_type": "code",
   "execution_count": 323,
   "metadata": {},
   "outputs": [
    {
     "data": {
      "text/html": [
       "<div>\n",
       "<style scoped>\n",
       "    .dataframe tbody tr th:only-of-type {\n",
       "        vertical-align: middle;\n",
       "    }\n",
       "\n",
       "    .dataframe tbody tr th {\n",
       "        vertical-align: top;\n",
       "    }\n",
       "\n",
       "    .dataframe thead th {\n",
       "        text-align: right;\n",
       "    }\n",
       "</style>\n",
       "<table border=\"1\" class=\"dataframe\">\n",
       "  <thead>\n",
       "    <tr style=\"text-align: right;\">\n",
       "      <th></th>\n",
       "      <th>player</th>\n",
       "      <th>lastname</th>\n",
       "      <th>team</th>\n",
       "      <th>team_clas</th>\n",
       "      <th>league</th>\n",
       "      <th>team_country</th>\n",
       "      <th>team_ws_link</th>\n",
       "      <th>team_tm_link</th>\n",
       "      <th>position</th>\n",
       "      <th>height</th>\n",
       "      <th>...</th>\n",
       "      <th>FIFA Club World Cup winner</th>\n",
       "      <th>Olympic medalist</th>\n",
       "      <th>League T2 Runner-up</th>\n",
       "      <th>Second place at the Olympic Games</th>\n",
       "      <th>Third place at the Olympic Games</th>\n",
       "      <th>World Cup participant</th>\n",
       "      <th>World Cup runner-up</th>\n",
       "      <th>World Cup third place</th>\n",
       "      <th>World Cup winner</th>\n",
       "      <th>total_awards</th>\n",
       "    </tr>\n",
       "  </thead>\n",
       "  <tbody>\n",
       "    <tr>\n",
       "      <th>0</th>\n",
       "      <td>Max Clark</td>\n",
       "      <td>Clark</td>\n",
       "      <td>Vitesse</td>\n",
       "      <td>Above 200</td>\n",
       "      <td>Eredivise (NET)</td>\n",
       "      <td>NET</td>\n",
       "      <td>/Teams/255/Show/Netherlands-Vitesse</td>\n",
       "      <td>/vitesse-arnheim/startseite/verein/499</td>\n",
       "      <td>Defender (Left)</td>\n",
       "      <td>180.000000</td>\n",
       "      <td>...</td>\n",
       "      <td>0.0</td>\n",
       "      <td>0.0</td>\n",
       "      <td>0.0</td>\n",
       "      <td>0.0</td>\n",
       "      <td>0.0</td>\n",
       "      <td>0.0</td>\n",
       "      <td>0.0</td>\n",
       "      <td>0.0</td>\n",
       "      <td>0.0</td>\n",
       "      <td>0.0</td>\n",
       "    </tr>\n",
       "    <tr>\n",
       "      <th>1</th>\n",
       "      <td>Richonell Margaret</td>\n",
       "      <td>Margaret</td>\n",
       "      <td>Vitesse</td>\n",
       "      <td>Above 200</td>\n",
       "      <td>Eredivise (NET)</td>\n",
       "      <td>NET</td>\n",
       "      <td>/Teams/255/Show/Netherlands-Vitesse</td>\n",
       "      <td>/vitesse-arnheim/startseite/verein/499</td>\n",
       "      <td>Midfielder</td>\n",
       "      <td>176.828333</td>\n",
       "      <td>...</td>\n",
       "      <td>0.0</td>\n",
       "      <td>0.0</td>\n",
       "      <td>0.0</td>\n",
       "      <td>0.0</td>\n",
       "      <td>0.0</td>\n",
       "      <td>0.0</td>\n",
       "      <td>0.0</td>\n",
       "      <td>0.0</td>\n",
       "      <td>0.0</td>\n",
       "      <td>0.0</td>\n",
       "    </tr>\n",
       "    <tr>\n",
       "      <th>2</th>\n",
       "      <td>Tim Matavz</td>\n",
       "      <td>Matavz</td>\n",
       "      <td>Vitesse</td>\n",
       "      <td>Above 200</td>\n",
       "      <td>Eredivise (NET)</td>\n",
       "      <td>NET</td>\n",
       "      <td>/Teams/255/Show/Netherlands-Vitesse</td>\n",
       "      <td>/vitesse-arnheim/startseite/verein/499</td>\n",
       "      <td>Forward</td>\n",
       "      <td>188.000000</td>\n",
       "      <td>...</td>\n",
       "      <td>0.0</td>\n",
       "      <td>0.0</td>\n",
       "      <td>0.0</td>\n",
       "      <td>0.0</td>\n",
       "      <td>0.0</td>\n",
       "      <td>1.0</td>\n",
       "      <td>0.0</td>\n",
       "      <td>0.0</td>\n",
       "      <td>0.0</td>\n",
       "      <td>3.0</td>\n",
       "    </tr>\n",
       "    <tr>\n",
       "      <th>3</th>\n",
       "      <td>Alexander Büttner</td>\n",
       "      <td>Büttner</td>\n",
       "      <td>Vitesse</td>\n",
       "      <td>Above 200</td>\n",
       "      <td>Eredivise (NET)</td>\n",
       "      <td>NET</td>\n",
       "      <td>/Teams/255/Show/Netherlands-Vitesse</td>\n",
       "      <td>/vitesse-arnheim/startseite/verein/499</td>\n",
       "      <td>Defender (Left)</td>\n",
       "      <td>174.000000</td>\n",
       "      <td>...</td>\n",
       "      <td>0.0</td>\n",
       "      <td>0.0</td>\n",
       "      <td>0.0</td>\n",
       "      <td>0.0</td>\n",
       "      <td>0.0</td>\n",
       "      <td>0.0</td>\n",
       "      <td>0.0</td>\n",
       "      <td>0.0</td>\n",
       "      <td>0.0</td>\n",
       "      <td>3.0</td>\n",
       "    </tr>\n",
       "    <tr>\n",
       "      <th>4</th>\n",
       "      <td>Rasmus Thelander</td>\n",
       "      <td>Thelander</td>\n",
       "      <td>Vitesse</td>\n",
       "      <td>Above 200</td>\n",
       "      <td>Eredivise (NET)</td>\n",
       "      <td>NET</td>\n",
       "      <td>/Teams/255/Show/Netherlands-Vitesse</td>\n",
       "      <td>/vitesse-arnheim/startseite/verein/499</td>\n",
       "      <td>Defender (Centre)</td>\n",
       "      <td>190.000000</td>\n",
       "      <td>...</td>\n",
       "      <td>0.0</td>\n",
       "      <td>0.0</td>\n",
       "      <td>0.0</td>\n",
       "      <td>0.0</td>\n",
       "      <td>0.0</td>\n",
       "      <td>0.0</td>\n",
       "      <td>0.0</td>\n",
       "      <td>0.0</td>\n",
       "      <td>0.0</td>\n",
       "      <td>3.0</td>\n",
       "    </tr>\n",
       "  </tbody>\n",
       "</table>\n",
       "<p>5 rows × 115 columns</p>\n",
       "</div>"
      ],
      "text/plain": [
       "               player   lastname     team  team_clas           league  \\\n",
       "0           Max Clark      Clark  Vitesse  Above 200  Eredivise (NET)   \n",
       "1  Richonell Margaret   Margaret  Vitesse  Above 200  Eredivise (NET)   \n",
       "2          Tim Matavz     Matavz  Vitesse  Above 200  Eredivise (NET)   \n",
       "3   Alexander Büttner    Büttner  Vitesse  Above 200  Eredivise (NET)   \n",
       "4    Rasmus Thelander  Thelander  Vitesse  Above 200  Eredivise (NET)   \n",
       "\n",
       "  team_country                         team_ws_link  \\\n",
       "0          NET  /Teams/255/Show/Netherlands-Vitesse   \n",
       "1          NET  /Teams/255/Show/Netherlands-Vitesse   \n",
       "2          NET  /Teams/255/Show/Netherlands-Vitesse   \n",
       "3          NET  /Teams/255/Show/Netherlands-Vitesse   \n",
       "4          NET  /Teams/255/Show/Netherlands-Vitesse   \n",
       "\n",
       "                             team_tm_link           position      height  \\\n",
       "0  /vitesse-arnheim/startseite/verein/499    Defender (Left)  180.000000   \n",
       "1  /vitesse-arnheim/startseite/verein/499         Midfielder  176.828333   \n",
       "2  /vitesse-arnheim/startseite/verein/499            Forward  188.000000   \n",
       "3  /vitesse-arnheim/startseite/verein/499    Defender (Left)  174.000000   \n",
       "4  /vitesse-arnheim/startseite/verein/499  Defender (Centre)  190.000000   \n",
       "\n",
       "       ...       FIFA Club World Cup winner  Olympic medalist   \\\n",
       "0      ...                               0.0               0.0   \n",
       "1      ...                               0.0               0.0   \n",
       "2      ...                               0.0               0.0   \n",
       "3      ...                               0.0               0.0   \n",
       "4      ...                               0.0               0.0   \n",
       "\n",
       "  League T2 Runner-up  Second place at the Olympic Games   \\\n",
       "0                 0.0                                 0.0   \n",
       "1                 0.0                                 0.0   \n",
       "2                 0.0                                 0.0   \n",
       "3                 0.0                                 0.0   \n",
       "4                 0.0                                 0.0   \n",
       "\n",
       "   Third place at the Olympic Games   World Cup participant   \\\n",
       "0                                0.0                     0.0   \n",
       "1                                0.0                     0.0   \n",
       "2                                0.0                     1.0   \n",
       "3                                0.0                     0.0   \n",
       "4                                0.0                     0.0   \n",
       "\n",
       "   World Cup runner-up   World Cup third place  World Cup winner   \\\n",
       "0                   0.0                     0.0               0.0   \n",
       "1                   0.0                     0.0               0.0   \n",
       "2                   0.0                     0.0               0.0   \n",
       "3                   0.0                     0.0               0.0   \n",
       "4                   0.0                     0.0               0.0   \n",
       "\n",
       "   total_awards  \n",
       "0           0.0  \n",
       "1           0.0  \n",
       "2           3.0  \n",
       "3           3.0  \n",
       "4           3.0  \n",
       "\n",
       "[5 rows x 115 columns]"
      ]
     },
     "execution_count": 323,
     "metadata": {},
     "output_type": "execute_result"
    }
   ],
   "source": [
    "final_dataset.head()"
   ]
  },
  {
   "cell_type": "code",
   "execution_count": 324,
   "metadata": {},
   "outputs": [],
   "source": [
    "final_dataset = final_dataset.rename(columns = {'minutes':'nat_team_min', \n",
    "                                                'pond_min': 'nat_team_min_pond',\n",
    "                                               'results': 'google_res',\n",
    "                                               'res_stand': 'stand_goog_res'})"
   ]
  },
  {
   "cell_type": "code",
   "execution_count": 325,
   "metadata": {},
   "outputs": [],
   "source": [
    "final_dataset.drop(['player','lastname','team','team_country',\n",
    "                   'team_ws_link','team_tm_link','position','nationality','search','last_team_x',\n",
    "                   'last_team_y', 'last_team', 'last_season'], axis=1, inplace=True)"
   ]
  },
  {
   "cell_type": "code",
   "execution_count": 326,
   "metadata": {},
   "outputs": [],
   "source": [
    "numeric_final_features = final_dataset.select_dtypes(np.number)"
   ]
  },
  {
   "cell_type": "code",
   "execution_count": 327,
   "metadata": {},
   "outputs": [],
   "source": [
    "string_final_features = final_dataset.select_dtypes(exclude=np.number)"
   ]
  },
  {
   "cell_type": "code",
   "execution_count": 328,
   "metadata": {},
   "outputs": [],
   "source": [
    "dum_string_final_features = pd.get_dummies(string_final_features, drop_first=True)"
   ]
  },
  {
   "cell_type": "code",
   "execution_count": 329,
   "metadata": {},
   "outputs": [],
   "source": [
    "dum_final = pd.concat([dum_string_final_features, numeric_final_features], axis=1, ignore_index=False)"
   ]
  },
  {
   "cell_type": "code",
   "execution_count": 330,
   "metadata": {},
   "outputs": [
    {
     "data": {
      "text/plain": [
       "(1140, 130)"
      ]
     },
     "execution_count": 330,
     "metadata": {},
     "output_type": "execute_result"
    }
   ],
   "source": [
    "dum_final.shape"
   ]
  },
  {
   "cell_type": "code",
   "execution_count": 331,
   "metadata": {},
   "outputs": [],
   "source": [
    "dum_final.to_csv(r'/Users/gonzaloferreiro/Documents/GA_Materials/DS_Inmersive/DSI8-lessons/projects/project-capstone/Moving_forward/Final_datasets/Working_files/dum_final.csv', index=False)"
   ]
  },
  {
   "cell_type": "code",
   "execution_count": 332,
   "metadata": {},
   "outputs": [],
   "source": [
    "dum_final = pd.read_csv('/Users/gonzaloferreiro/Documents/GA_Materials/DS_Inmersive/DSI8-lessons/projects/project-capstone/Moving_forward/Final_datasets/Working_files/dum_final.csv')"
   ]
  },
  {
   "cell_type": "code",
   "execution_count": 333,
   "metadata": {},
   "outputs": [
    {
     "data": {
      "text/plain": [
       "(1140, 130)"
      ]
     },
     "execution_count": 333,
     "metadata": {},
     "output_type": "execute_result"
    }
   ],
   "source": [
    "dum_final.shape"
   ]
  },
  {
   "cell_type": "markdown",
   "metadata": {},
   "source": [
    "### Models on teams"
   ]
  },
  {
   "cell_type": "markdown",
   "metadata": {},
   "source": [
    "#### Simple linear regression"
   ]
  },
  {
   "cell_type": "code",
   "execution_count": 334,
   "metadata": {},
   "outputs": [],
   "source": [
    "complete_market_value_df = pd.read_csv('Final_datasets/Cleaned_data/Market_value.csv')"
   ]
  },
  {
   "cell_type": "code",
   "execution_count": 335,
   "metadata": {},
   "outputs": [
    {
     "data": {
      "text/html": [
       "<div>\n",
       "<style scoped>\n",
       "    .dataframe tbody tr th:only-of-type {\n",
       "        vertical-align: middle;\n",
       "    }\n",
       "\n",
       "    .dataframe tbody tr th {\n",
       "        vertical-align: top;\n",
       "    }\n",
       "\n",
       "    .dataframe thead th {\n",
       "        text-align: right;\n",
       "    }\n",
       "</style>\n",
       "<table border=\"1\" class=\"dataframe\">\n",
       "  <thead>\n",
       "    <tr style=\"text-align: right;\">\n",
       "      <th></th>\n",
       "      <th>current_value</th>\n",
       "      <th>highest_value</th>\n",
       "      <th>last_team</th>\n",
       "      <th>prev_team</th>\n",
       "      <th>prev_prev_team</th>\n",
       "      <th>link</th>\n",
       "      <th>value_loss</th>\n",
       "      <th>current_log</th>\n",
       "      <th>double_trans</th>\n",
       "    </tr>\n",
       "  </thead>\n",
       "  <tbody>\n",
       "    <tr>\n",
       "      <th>0</th>\n",
       "      <td>450000</td>\n",
       "      <td>450000</td>\n",
       "      <td>Vitesse</td>\n",
       "      <td>Hull City</td>\n",
       "      <td>Hull U23</td>\n",
       "      <td>/max-clark/profil/spieler/183291</td>\n",
       "      <td>0</td>\n",
       "      <td>13.017003</td>\n",
       "      <td>2.566256</td>\n",
       "    </tr>\n",
       "    <tr>\n",
       "      <th>1</th>\n",
       "      <td>2700000</td>\n",
       "      <td>2700000</td>\n",
       "      <td>Levante</td>\n",
       "      <td>Spezia Calcio</td>\n",
       "      <td>CD Leganés</td>\n",
       "      <td>/sergio-postigo/profil/spieler/158791</td>\n",
       "      <td>0</td>\n",
       "      <td>14.808762</td>\n",
       "      <td>2.695219</td>\n",
       "    </tr>\n",
       "    <tr>\n",
       "      <th>2</th>\n",
       "      <td>540000</td>\n",
       "      <td>630000</td>\n",
       "      <td>MSV Duisburg</td>\n",
       "      <td>VfL Osnabrück</td>\n",
       "      <td>Westf. Rhynern</td>\n",
       "      <td>/stanislav-iljutcenko/profil/spieler/191292</td>\n",
       "      <td>-90000</td>\n",
       "      <td>13.199324</td>\n",
       "      <td>2.580166</td>\n",
       "    </tr>\n",
       "    <tr>\n",
       "      <th>3</th>\n",
       "      <td>6750000</td>\n",
       "      <td>6750000</td>\n",
       "      <td>Boca Juniors</td>\n",
       "      <td>CD Cruz Azul</td>\n",
       "      <td>Lanús</td>\n",
       "      <td>/ivan-marcone/profil/spieler/90451</td>\n",
       "      <td>0</td>\n",
       "      <td>15.725053</td>\n",
       "      <td>2.755255</td>\n",
       "    </tr>\n",
       "    <tr>\n",
       "      <th>4</th>\n",
       "      <td>6300000</td>\n",
       "      <td>6300000</td>\n",
       "      <td>Montpellier</td>\n",
       "      <td>FC Metz</td>\n",
       "      <td>US Créteil</td>\n",
       "      <td>/florent-mollet/profil/spieler/222859</td>\n",
       "      <td>0</td>\n",
       "      <td>15.656060</td>\n",
       "      <td>2.750858</td>\n",
       "    </tr>\n",
       "  </tbody>\n",
       "</table>\n",
       "</div>"
      ],
      "text/plain": [
       "   current_value  highest_value     last_team      prev_team  prev_prev_team  \\\n",
       "0         450000         450000       Vitesse      Hull City        Hull U23   \n",
       "1        2700000        2700000       Levante  Spezia Calcio      CD Leganés   \n",
       "2         540000         630000  MSV Duisburg  VfL Osnabrück  Westf. Rhynern   \n",
       "3        6750000        6750000  Boca Juniors   CD Cruz Azul           Lanús   \n",
       "4        6300000        6300000   Montpellier        FC Metz      US Créteil   \n",
       "\n",
       "                                          link  value_loss  current_log  \\\n",
       "0             /max-clark/profil/spieler/183291           0    13.017003   \n",
       "1        /sergio-postigo/profil/spieler/158791           0    14.808762   \n",
       "2  /stanislav-iljutcenko/profil/spieler/191292      -90000    13.199324   \n",
       "3           /ivan-marcone/profil/spieler/90451           0    15.725053   \n",
       "4        /florent-mollet/profil/spieler/222859           0    15.656060   \n",
       "\n",
       "   double_trans  \n",
       "0      2.566256  \n",
       "1      2.695219  \n",
       "2      2.580166  \n",
       "3      2.755255  \n",
       "4      2.750858  "
      ]
     },
     "execution_count": 335,
     "metadata": {},
     "output_type": "execute_result"
    }
   ],
   "source": [
    "complete_market_value_df.head()"
   ]
  },
  {
   "cell_type": "code",
   "execution_count": 336,
   "metadata": {},
   "outputs": [],
   "source": [
    "y_teams = complete_market_value_df.pop('current_log')"
   ]
  },
  {
   "cell_type": "code",
   "execution_count": 337,
   "metadata": {},
   "outputs": [],
   "source": [
    "complete_market_value_df = complete_market_value_df[['last_team','prev_team','prev_prev_team']]"
   ]
  },
  {
   "cell_type": "code",
   "execution_count": 338,
   "metadata": {},
   "outputs": [],
   "source": [
    "dum_complete_market_value_df = pd.get_dummies(complete_market_value_df,drop_first=True)"
   ]
  },
  {
   "cell_type": "code",
   "execution_count": 339,
   "metadata": {},
   "outputs": [
    {
     "data": {
      "text/plain": [
       "(1200, 1639)"
      ]
     },
     "execution_count": 339,
     "metadata": {},
     "output_type": "execute_result"
    }
   ],
   "source": [
    "dum_complete_market_value_df.shape"
   ]
  },
  {
   "cell_type": "code",
   "execution_count": 340,
   "metadata": {},
   "outputs": [],
   "source": [
    "X_train_teams, X_test_teams, y_train_teams, y_test_teams = train_test_split(\n",
    "dum_complete_market_value_df, y_teams, test_size = 0.20, random_state=123)"
   ]
  },
  {
   "cell_type": "code",
   "execution_count": 341,
   "metadata": {},
   "outputs": [],
   "source": [
    "scaler = StandardScaler()\n",
    "X_train_teams = pd.DataFrame(scaler.fit_transform(X_train_teams),columns=X_train_teams.columns)\n",
    "X_test_teams = pd.DataFrame(scaler.transform(X_test_teams),columns=X_train_teams.columns)"
   ]
  },
  {
   "cell_type": "code",
   "execution_count": 342,
   "metadata": {},
   "outputs": [
    {
     "name": "stdout",
     "output_type": "stream",
     "text": [
      "Mean cross-validated training score: -4.447108201402818e+27\n",
      "Training score: 0.8652943787405634\n",
      "Test score: -4.10808403630116e+27\n"
     ]
    }
   ],
   "source": [
    "reg_teams = LinearRegression()\n",
    "\n",
    "scores = cross_val_score(reg_teams, X_train_teams, y_train_teams, cv=5)\n",
    "print('Mean cross-validated training score:', scores.mean())\n",
    "\n",
    "reg_teams.fit(X_train_teams, y_train_teams)\n",
    "print('Training score:', reg_teams.score(X_train_teams, y_train_teams))\n",
    "\n",
    "print('Test score:', reg_teams.score(X_test_teams, y_test_teams))"
   ]
  },
  {
   "cell_type": "markdown",
   "metadata": {
    "heading_collapsed": true
   },
   "source": [
    "#### Ridge"
   ]
  },
  {
   "cell_type": "code",
   "execution_count": 72,
   "metadata": {
    "hidden": true
   },
   "outputs": [],
   "source": [
    "def alpha_scores(model, alpha_values, X_train, y_train):\n",
    "    scores = []\n",
    "    for alpha in alpha_values:\n",
    "        model_ = model(alpha)\n",
    "        scores.append(np.mean(cross_val_score(\n",
    "            model_, X_train, y_train, cv=5)))\n",
    "    return scores"
   ]
  },
  {
   "cell_type": "code",
   "execution_count": 77,
   "metadata": {
    "hidden": true
   },
   "outputs": [
    {
     "data": {
      "image/png": "[encoded data removed]",
      "text/plain": [
       "<Figure size 432x288 with 1 Axes>"
      ]
     },
     "metadata": {
      "needs_background": "light"
     },
     "output_type": "display_data"
    }
   ],
   "source": [
    "alpha_values = np.logspace(2,3,20)\n",
    "scores = alpha_scores(Ridge, alpha_values, X_train_teams, y_train_teams)\n",
    "\n",
    "plt.plot(alpha_values, [score for score in scores], lw=2)\n",
    "plt.ylabel('R2')\n",
    "plt.show()"
   ]
  },
  {
   "cell_type": "code",
   "execution_count": 78,
   "metadata": {
    "hidden": true
   },
   "outputs": [
    {
     "name": "stdout",
     "output_type": "stream",
     "text": [
      "Best alpha: 263.6650898730358\n",
      "Training score: 0.9493207456398254\n",
      "Test score: 0.3282533385099068\n",
      "Mean cross-validated training score: 0.33832415353733525\n"
     ]
    }
   ],
   "source": [
    "model_ridge_teams = RidgeCV(alphas=np.logspace(2,3,20), cv=5)\n",
    "\n",
    "model_ridge_teams.fit(X_train_teams, y_train_teams)\n",
    "\n",
    "print('Best alpha:', model_ridge_teams.alpha_)\n",
    "\n",
    "print('Training score:', model_ridge_teams.score(X_train_teams, y_train_teams))\n",
    "\n",
    "print('Test score:', model_ridge_teams.score(X_test_teams, y_test_teams))\n",
    "\n",
    "scores = cross_val_score(model_ridge_teams, X_train_teams, y_train_teams, cv=5)\n",
    "print('Mean cross-validated training score:', scores.mean())"
   ]
  },
  {
   "cell_type": "markdown",
   "metadata": {},
   "source": [
    "#### Lasso"
   ]
  },
  {
   "cell_type": "code",
   "execution_count": 343,
   "metadata": {},
   "outputs": [
    {
     "data": {
      "image/png": "[encoded data removed]",
      "text/plain": [
       "<Figure size 432x288 with 1 Axes>"
      ]
     },
     "metadata": {
      "needs_background": "light"
     },
     "output_type": "display_data"
    }
   ],
   "source": [
    "alpha_values = np.logspace(-2.5,-1,10)\n",
    "scores = alpha_scores(Lasso, alpha_values, X_train_teams, y_train_teams)\n",
    "\n",
    "plt.plot(alpha_values, [score for score in scores], lw=2)\n",
    "plt.ylabel('R2')\n",
    "plt.show()"
   ]
  },
  {
   "cell_type": "code",
   "execution_count": 344,
   "metadata": {},
   "outputs": [
    {
     "name": "stdout",
     "output_type": "stream",
     "text": [
      "Best alpha: 0.01467799267622069\n",
      "Training score: 0.9029305248882011\n",
      "Test score: 0.3660484124228397\n",
      "Mean cross-validated training score: 0.4064225282091384\n"
     ]
    }
   ],
   "source": [
    "lasso_model_teams = LassoCV(alphas=np.logspace(-2.5,-1,10), cv=5, \n",
    "                      tol=0.1, fit_intercept=True)\n",
    "\n",
    "lasso_model_teams.fit(X_train_teams, y_train_teams)\n",
    "\n",
    "print('Best alpha:', lasso_model_teams.alpha_)\n",
    "\n",
    "print('Training score:', lasso_model_teams.score(X_train_teams, y_train_teams))\n",
    "\n",
    "print('Test score:', lasso_model_teams.score(X_test_teams, y_test_teams))\n",
    "\n",
    "scores = cross_val_score(lasso_model_teams, X_train_teams, y_train_teams, cv=5)\n",
    "print('Mean cross-validated training score:', scores.mean())"
   ]
  },
  {
   "cell_type": "markdown",
   "metadata": {},
   "source": [
    "#### Feature importance"
   ]
  },
  {
   "cell_type": "code",
   "execution_count": 345,
   "metadata": {},
   "outputs": [
    {
     "data": {
      "text/html": [
       "<div>\n",
       "<style scoped>\n",
       "    .dataframe tbody tr th:only-of-type {\n",
       "        vertical-align: middle;\n",
       "    }\n",
       "\n",
       "    .dataframe tbody tr th {\n",
       "        vertical-align: top;\n",
       "    }\n",
       "\n",
       "    .dataframe thead th {\n",
       "        text-align: right;\n",
       "    }\n",
       "</style>\n",
       "<table border=\"1\" class=\"dataframe\">\n",
       "  <thead>\n",
       "    <tr style=\"text-align: right;\">\n",
       "      <th></th>\n",
       "      <th>coef</th>\n",
       "      <th>variable</th>\n",
       "      <th>coef_abs</th>\n",
       "    </tr>\n",
       "  </thead>\n",
       "  <tbody>\n",
       "    <tr>\n",
       "      <th>105</th>\n",
       "      <td>0.237923</td>\n",
       "      <td>last_team_FC Barcelona</td>\n",
       "      <td>0.237923</td>\n",
       "    </tr>\n",
       "    <tr>\n",
       "      <th>21</th>\n",
       "      <td>0.197308</td>\n",
       "      <td>last_team_Arsenal</td>\n",
       "      <td>0.197308</td>\n",
       "    </tr>\n",
       "    <tr>\n",
       "      <th>209</th>\n",
       "      <td>0.197173</td>\n",
       "      <td>last_team_RB Leipzig</td>\n",
       "      <td>0.197173</td>\n",
       "    </tr>\n",
       "    <tr>\n",
       "      <th>166</th>\n",
       "      <td>0.182207</td>\n",
       "      <td>last_team_Liverpool</td>\n",
       "      <td>0.182207</td>\n",
       "    </tr>\n",
       "    <tr>\n",
       "      <th>255</th>\n",
       "      <td>0.176827</td>\n",
       "      <td>last_team_Spurs</td>\n",
       "      <td>0.176827</td>\n",
       "    </tr>\n",
       "  </tbody>\n",
       "</table>\n",
       "</div>"
      ],
      "text/plain": [
       "         coef                variable  coef_abs\n",
       "105  0.237923  last_team_FC Barcelona  0.237923\n",
       "21   0.197308       last_team_Arsenal  0.197308\n",
       "209  0.197173    last_team_RB Leipzig  0.197173\n",
       "166  0.182207     last_team_Liverpool  0.182207\n",
       "255  0.176827         last_team_Spurs  0.176827"
      ]
     },
     "execution_count": 345,
     "metadata": {},
     "output_type": "execute_result"
    }
   ],
   "source": [
    "df_coef_teams = pd.DataFrame({'coef': lasso_model_teams.coef_,\n",
    "                        'variable': X_train_teams.columns,\n",
    "                        'coef_abs': np.abs(lasso_model_teams.coef_)})\n",
    "\n",
    "df_coef_teams.sort_values(by='coef_abs', ascending=False).head()"
   ]
  },
  {
   "cell_type": "code",
   "execution_count": 346,
   "metadata": {},
   "outputs": [
    {
     "data": {
      "image/png": "[encoded data removed]",
      "text/plain": [
       "<Figure size 864x288 with 1 Axes>"
      ]
     },
     "metadata": {
      "needs_background": "light"
     },
     "output_type": "display_data"
    }
   ],
   "source": [
    "df_coef_teams.sort_values(by='coef_abs', ascending=False).head(25). \\\n",
    "plot(kind='bar', x='variable', y='coef_abs',\n",
    "      color='b', figsize=(12,4), label='Feature imp')\n",
    "\n",
    "plt.show()"
   ]
  },
  {
   "cell_type": "code",
   "execution_count": 347,
   "metadata": {},
   "outputs": [
    {
     "data": {
      "image/png": "[encoded data removed]",
      "text/plain": [
       "<Figure size 864x288 with 1 Axes>"
      ]
     },
     "metadata": {
      "needs_background": "light"
     },
     "output_type": "display_data"
    }
   ],
   "source": [
    "df_coef_teams.sort_values(by='coef_abs').head(50). \\\n",
    "plot(kind='bar', x='variable', y='coef_abs',\n",
    "      color='b', figsize=(12,4), label='Feature imp')\n",
    "\n",
    "plt.show()"
   ]
  },
  {
   "cell_type": "code",
   "execution_count": 348,
   "metadata": {},
   "outputs": [],
   "source": [
    "df_coef_teams.sort_values(by='coef_abs', ascending=False, inplace=True)"
   ]
  },
  {
   "cell_type": "code",
   "execution_count": 349,
   "metadata": {},
   "outputs": [],
   "source": [
    "df_coef_teams['order'] = [x for x in range(1,len(df_coef_teams)+1)]"
   ]
  },
  {
   "cell_type": "code",
   "execution_count": 350,
   "metadata": {},
   "outputs": [],
   "source": [
    "shitty_vars_teams = df_coef_teams.variable[df_coef_teams.coef_abs == 0].values"
   ]
  },
  {
   "cell_type": "code",
   "execution_count": 351,
   "metadata": {},
   "outputs": [],
   "source": [
    "cool_vars_teams = list(df_coef_teams.variable[~df_coef_teams.variable.isin(shitty_vars_teams)])"
   ]
  },
  {
   "cell_type": "code",
   "execution_count": 352,
   "metadata": {},
   "outputs": [],
   "source": [
    "cool_cool_vars_teams = df_coef_teams.variable[df_coef_teams.coef_abs > 0.16].values"
   ]
  },
  {
   "cell_type": "code",
   "execution_count": 353,
   "metadata": {},
   "outputs": [],
   "source": [
    "filtered_teams = dum_complete_market_value_df.loc[:,cool_cool_vars_teams]"
   ]
  },
  {
   "cell_type": "code",
   "execution_count": 354,
   "metadata": {},
   "outputs": [
    {
     "data": {
      "text/plain": [
       "(1200, 6)"
      ]
     },
     "execution_count": 354,
     "metadata": {},
     "output_type": "execute_result"
    }
   ],
   "source": [
    "filtered_teams.shape"
   ]
  },
  {
   "cell_type": "markdown",
   "metadata": {},
   "source": [
    "#### Setting up data for mega model"
   ]
  },
  {
   "cell_type": "code",
   "execution_count": 355,
   "metadata": {},
   "outputs": [],
   "source": [
    "for_link = pd.read_csv('Final_datasets/Cleaned_data/Market_value.csv')"
   ]
  },
  {
   "cell_type": "code",
   "execution_count": 356,
   "metadata": {},
   "outputs": [],
   "source": [
    "y_teams_look = pd.concat([y_teams, for_link.link],axis=1)"
   ]
  },
  {
   "cell_type": "code",
   "execution_count": 357,
   "metadata": {},
   "outputs": [],
   "source": [
    "filtered_teams_wlink = filtered_teams.copy()"
   ]
  },
  {
   "cell_type": "code",
   "execution_count": 358,
   "metadata": {},
   "outputs": [],
   "source": [
    "filtered_teams_wlink['link'] = for_link.link"
   ]
  },
  {
   "cell_type": "code",
   "execution_count": 359,
   "metadata": {},
   "outputs": [
    {
     "data": {
      "text/plain": [
       "(1200, 7)"
      ]
     },
     "execution_count": 359,
     "metadata": {},
     "output_type": "execute_result"
    }
   ],
   "source": [
    "filtered_teams_wlink.shape"
   ]
  },
  {
   "cell_type": "markdown",
   "metadata": {},
   "source": [
    "### Complete final dataset"
   ]
  },
  {
   "cell_type": "markdown",
   "metadata": {},
   "source": [
    "#### Linear Regression"
   ]
  },
  {
   "cell_type": "code",
   "execution_count": 360,
   "metadata": {},
   "outputs": [],
   "source": [
    "y_2 = dum_final.pop('double_trans')"
   ]
  },
  {
   "cell_type": "code",
   "execution_count": 361,
   "metadata": {},
   "outputs": [],
   "source": [
    "y = dum_final.pop('current_log')"
   ]
  },
  {
   "cell_type": "code",
   "execution_count": 362,
   "metadata": {},
   "outputs": [],
   "source": [
    "X_train_test = dum_final.drop('highest_value', axis=1)"
   ]
  },
  {
   "cell_type": "code",
   "execution_count": 365,
   "metadata": {},
   "outputs": [],
   "source": [
    "X_train, X_test, y_train, y_test = train_test_split(\n",
    "dum_final, y, test_size = 0.20, random_state=123)"
   ]
  },
  {
   "cell_type": "code",
   "execution_count": 366,
   "metadata": {},
   "outputs": [],
   "source": [
    "scaler = StandardScaler()\n",
    "X_train_std = pd.DataFrame(scaler.fit_transform(X_train),columns=X_train.columns)\n",
    "X_test_std = pd.DataFrame(scaler.transform(X_test),columns=X_train.columns)"
   ]
  },
  {
   "cell_type": "code",
   "execution_count": 369,
   "metadata": {},
   "outputs": [
    {
     "data": {
      "text/plain": [
       "LinearRegression(copy_X=True, fit_intercept=True, n_jobs=None,\n",
       "         normalize=False)"
      ]
     },
     "execution_count": 369,
     "metadata": {},
     "output_type": "execute_result"
    }
   ],
   "source": [
    "test_model = LinearRegression()\n",
    "\n",
    "test_model.fit(X_train, y_train)"
   ]
  },
  {
   "cell_type": "code",
   "execution_count": 370,
   "metadata": {},
   "outputs": [
    {
     "name": "stdout",
     "output_type": "stream",
     "text": [
      "Mean cross-validated training score: -1.8268162697614518e+20\n",
      "Training score: -65343.95229389752\n",
      "Test score: -69859.8905656904\n"
     ]
    }
   ],
   "source": [
    "scores = cross_val_score(test_model, X_train_std, y_train, cv=5)\n",
    "print('Mean cross-validated training score:', scores.mean())\n",
    "\n",
    "print('Training score:', test_model.score(X_train_std, y_train))\n",
    "\n",
    "print('Test score:', test_model.score(X_test_std, y_test))"
   ]
  },
  {
   "cell_type": "code",
   "execution_count": 236,
   "metadata": {},
   "outputs": [],
   "source": [
    "X_train_2, X_test_2, y_train_2, y_test_2 = train_test_split(\n",
    "dum_final, y_2, test_size = 0.20, random_state=123)"
   ]
  },
  {
   "cell_type": "code",
   "execution_count": 237,
   "metadata": {},
   "outputs": [],
   "source": [
    "scaler = StandardScaler()\n",
    "X_train_2_std = pd.DataFrame(scaler.fit_transform(X_train_2),columns=X_train.columns)\n",
    "X_test_2_std = pd.DataFrame(scaler.transform(X_test_2),columns=X_train.columns)"
   ]
  },
  {
   "cell_type": "code",
   "execution_count": 238,
   "metadata": {},
   "outputs": [
    {
     "name": "stdout",
     "output_type": "stream",
     "text": [
      "Mean cross-validated training score: -1.9672789105862974e+20\n",
      "Training score: 0.8024672869657622\n",
      "Test score: 0.6862324823814339\n"
     ]
    }
   ],
   "source": [
    "test_model = LinearRegression()\n",
    "\n",
    "scores = cross_val_score(test_model, X_train_2_std, y_train_2, cv=5)\n",
    "print('Mean cross-validated training score:', scores.mean())\n",
    "\n",
    "test_model.fit(X_train_2_std, y_train_2)\n",
    "print('Training score:', test_model.score(X_train_2_std, y_train_2))\n",
    "\n",
    "print('Test score:', test_model.score(X_test_2_std, y_test_2))"
   ]
  },
  {
   "cell_type": "markdown",
   "metadata": {},
   "source": [
    "#### Ridge"
   ]
  },
  {
   "cell_type": "code",
   "execution_count": 239,
   "metadata": {},
   "outputs": [
    {
     "data": {
      "image/png": "[encoded data removed]",
      "text/plain": [
       "<Figure size 432x288 with 1 Axes>"
      ]
     },
     "metadata": {
      "needs_background": "light"
     },
     "output_type": "display_data"
    }
   ],
   "source": [
    "alpha_values = np.logspace(-1,3,20)\n",
    "scores = alpha_scores(Ridge, alpha_values, X_train, y_train)\n",
    "\n",
    "plt.plot(alpha_values, [score for score in scores], lw=2)\n",
    "plt.ylabel('R2')\n",
    "plt.show()"
   ]
  },
  {
   "cell_type": "code",
   "execution_count": 240,
   "metadata": {},
   "outputs": [
    {
     "name": "stdout",
     "output_type": "stream",
     "text": [
      "Best alpha: 1.8329807108324356\n",
      "Training score: 0.805622211698916\n",
      "Test score: 0.7849917559884695\n",
      "Mean cross-validated training score: 0.7191504114671776\n"
     ]
    }
   ],
   "source": [
    "# Best without standardization\n",
    "\n",
    "model_ridge = RidgeCV(alphas=np.logspace(-1,3,20), cv=5)\n",
    "\n",
    "model_ridge.fit(X_train, y_train)\n",
    "\n",
    "print('Best alpha:', model_ridge.alpha_)\n",
    "\n",
    "print('Training score:', model_ridge.score(X_train, y_train))\n",
    "\n",
    "print('Test score:', model_ridge.score(X_test, y_test))\n",
    "\n",
    "scores = cross_val_score(model_ridge, X_train, y_train, cv=5)\n",
    "print('Mean cross-validated training score:', scores.mean())"
   ]
  },
  {
   "cell_type": "code",
   "execution_count": 241,
   "metadata": {
    "scrolled": true
   },
   "outputs": [
    {
     "data": {
      "image/png": "[encoded data removed]",
      "text/plain": [
       "<Figure size 432x288 with 1 Axes>"
      ]
     },
     "metadata": {
      "needs_background": "light"
     },
     "output_type": "display_data"
    }
   ],
   "source": [
    "alpha_values = np.logspace(-2,2,20)\n",
    "scores = alpha_scores(Ridge, alpha_values, X_train_2, y_train_2)\n",
    "\n",
    "plt.plot(alpha_values, [score for score in scores], lw=2)\n",
    "plt.ylabel('R2')\n",
    "plt.show()"
   ]
  },
  {
   "cell_type": "code",
   "execution_count": 242,
   "metadata": {},
   "outputs": [
    {
     "name": "stdout",
     "output_type": "stream",
     "text": [
      "Best alpha: 2.06913808111479\n",
      "Training score: 0.7853354957856242\n",
      "Test score: 0.758485919583862\n",
      "Mean cross-validated training score: 0.6936531935695541\n"
     ]
    }
   ],
   "source": [
    "model_ridge_2 = RidgeCV(alphas=np.logspace(-2,2,20), cv=5)\n",
    "\n",
    "model_ridge_2.fit(X_train_2, y_train_2)\n",
    "\n",
    "print('Best alpha:', model_ridge_2.alpha_)\n",
    "\n",
    "print('Training score:', model_ridge_2.score(X_train_2, y_train_2))\n",
    "\n",
    "print('Test score:', model_ridge_2.score(X_test_2, y_test_2))\n",
    "\n",
    "scores = cross_val_score(model_ridge_2, X_train_2, y_train_2, cv=5)\n",
    "print('Mean cross-validated training score:', scores.mean())"
   ]
  },
  {
   "cell_type": "markdown",
   "metadata": {},
   "source": [
    "#### Lasso"
   ]
  },
  {
   "cell_type": "markdown",
   "metadata": {},
   "source": [
    "##### Initial models"
   ]
  },
  {
   "cell_type": "code",
   "execution_count": 243,
   "metadata": {},
   "outputs": [
    {
     "data": {
      "image/png": "[encoded data removed]",
      "text/plain": [
       "<Figure size 432x288 with 1 Axes>"
      ]
     },
     "metadata": {
      "needs_background": "light"
     },
     "output_type": "display_data"
    }
   ],
   "source": [
    "alpha_values = np.logspace(-3,-2,20)\n",
    "scores = alpha_scores(Lasso, alpha_values, X_train, y_train)\n",
    "\n",
    "plt.plot(alpha_values, [score for score in scores], lw=2)\n",
    "plt.ylabel('R2')\n",
    "plt.show()"
   ]
  },
  {
   "cell_type": "code",
   "execution_count": 244,
   "metadata": {},
   "outputs": [
    {
     "name": "stdout",
     "output_type": "stream",
     "text": [
      "Best alpha: 0.0038566204211634724\n",
      "Training score: 0.7890218658720036\n",
      "Test score: 0.7792822140130582\n",
      "Mean cross-validated training score: 0.7204723586370236\n"
     ]
    }
   ],
   "source": [
    "lasso_model = LassoCV(alphas=np.logspace(-3,-2,30), cv=5, \n",
    "                      tol=0.1, fit_intercept=True)\n",
    "\n",
    "lasso_model.fit(X_train, y_train)\n",
    "\n",
    "print('Best alpha:', lasso_model.alpha_)\n",
    "\n",
    "print('Training score:', lasso_model.score(X_train, y_train))\n",
    "\n",
    "print('Test score:', lasso_model.score(X_test, y_test))\n",
    "\n",
    "scores = cross_val_score(lasso_model, X_train, y_train, cv=5)\n",
    "print('Mean cross-validated training score:', scores.mean())"
   ]
  },
  {
   "cell_type": "code",
   "execution_count": 245,
   "metadata": {},
   "outputs": [],
   "source": [
    "lasso_pred = lasso_model.predict(X_test)"
   ]
  },
  {
   "cell_type": "code",
   "execution_count": 246,
   "metadata": {},
   "outputs": [],
   "source": [
    "lasso_res = y_test - lasso_pred"
   ]
  },
  {
   "cell_type": "code",
   "execution_count": 247,
   "metadata": {},
   "outputs": [],
   "source": [
    "from statsmodels.graphics.gofplots import qqplot"
   ]
  },
  {
   "cell_type": "code",
   "execution_count": 248,
   "metadata": {},
   "outputs": [
    {
     "data": {
      "image/png": "[encoded data removed]",
      "text/plain": [
       "<Figure size 1080x360 with 2 Axes>"
      ]
     },
     "metadata": {
      "needs_background": "light"
     },
     "output_type": "display_data"
    }
   ],
   "source": [
    "fig, ax = plt.subplots(nrows=1, ncols=2, figsize=(15,5))\n",
    "qqplot(lasso_res, line='s', ax=ax[0]);\n",
    "sns.distplot(lasso_res, ax=ax[1]);\n",
    "plt.show()"
   ]
  },
  {
   "cell_type": "markdown",
   "metadata": {},
   "source": [
    "##### Checking feature importance and filtering a new dataset"
   ]
  },
  {
   "cell_type": "code",
   "execution_count": 249,
   "metadata": {},
   "outputs": [
    {
     "data": {
      "text/html": [
       "<div>\n",
       "<style scoped>\n",
       "    .dataframe tbody tr th:only-of-type {\n",
       "        vertical-align: middle;\n",
       "    }\n",
       "\n",
       "    .dataframe tbody tr th {\n",
       "        vertical-align: top;\n",
       "    }\n",
       "\n",
       "    .dataframe thead th {\n",
       "        text-align: right;\n",
       "    }\n",
       "</style>\n",
       "<table border=\"1\" class=\"dataframe\">\n",
       "  <thead>\n",
       "    <tr style=\"text-align: right;\">\n",
       "      <th></th>\n",
       "      <th>coef</th>\n",
       "      <th>variable</th>\n",
       "      <th>coef_abs</th>\n",
       "    </tr>\n",
       "  </thead>\n",
       "  <tbody>\n",
       "    <tr>\n",
       "      <th>32</th>\n",
       "      <td>-1.967787</td>\n",
       "      <td>age_group_Plus_35</td>\n",
       "      <td>1.967787</td>\n",
       "    </tr>\n",
       "    <tr>\n",
       "      <th>4</th>\n",
       "      <td>-0.769040</td>\n",
       "      <td>league_Bundesliga 2 (GER)</td>\n",
       "      <td>0.769040</td>\n",
       "    </tr>\n",
       "    <tr>\n",
       "      <th>31</th>\n",
       "      <td>-0.747800</td>\n",
       "      <td>age_group_31-34</td>\n",
       "      <td>0.747800</td>\n",
       "    </tr>\n",
       "    <tr>\n",
       "      <th>0</th>\n",
       "      <td>0.597642</td>\n",
       "      <td>team_clas_Top 10</td>\n",
       "      <td>0.597642</td>\n",
       "    </tr>\n",
       "    <tr>\n",
       "      <th>70</th>\n",
       "      <td>0.580727</td>\n",
       "      <td>last_rating</td>\n",
       "      <td>0.580727</td>\n",
       "    </tr>\n",
       "  </tbody>\n",
       "</table>\n",
       "</div>"
      ],
      "text/plain": [
       "        coef                   variable  coef_abs\n",
       "32 -1.967787          age_group_Plus_35  1.967787\n",
       "4  -0.769040  league_Bundesliga 2 (GER)  0.769040\n",
       "31 -0.747800            age_group_31-34  0.747800\n",
       "0   0.597642           team_clas_Top 10  0.597642\n",
       "70  0.580727                last_rating  0.580727"
      ]
     },
     "execution_count": 249,
     "metadata": {},
     "output_type": "execute_result"
    }
   ],
   "source": [
    "df_coef = pd.DataFrame({'coef': lasso_model.coef_,\n",
    "                        'variable': X_train.columns,\n",
    "                        'coef_abs': np.abs(lasso_model.coef_)})\n",
    "\n",
    "df_coef.sort_values(by='coef_abs', ascending=False).head()"
   ]
  },
  {
   "cell_type": "code",
   "execution_count": 250,
   "metadata": {},
   "outputs": [
    {
     "data": {
      "image/png": "[encoded data removed]",
      "text/plain": [
       "<Figure size 864x288 with 1 Axes>"
      ]
     },
     "metadata": {
      "needs_background": "light"
     },
     "output_type": "display_data"
    }
   ],
   "source": [
    "df_coef.sort_values(by='coef_abs', ascending=False).head(25). \\\n",
    "plot(kind='bar', x='variable', y='coef_abs',\n",
    "      color='b', figsize=(12,4), label='Feature imp')\n",
    "\n",
    "plt.show()"
   ]
  },
  {
   "cell_type": "code",
   "execution_count": 251,
   "metadata": {},
   "outputs": [
    {
     "data": {
      "image/png": "[encoded data removed]",
      "text/plain": [
       "<Figure size 864x288 with 1 Axes>"
      ]
     },
     "metadata": {
      "needs_background": "light"
     },
     "output_type": "display_data"
    }
   ],
   "source": [
    "df_coef.sort_values(by='coef_abs').head(50). \\\n",
    "plot(kind='bar', x='variable', y='coef_abs',\n",
    "      color='b', figsize=(12,4), label='Feature imp')\n",
    "\n",
    "plt.show()"
   ]
  },
  {
   "cell_type": "code",
   "execution_count": 252,
   "metadata": {},
   "outputs": [],
   "source": [
    "df_coef.sort_values(by='coef_abs', ascending=False, inplace=True)"
   ]
  },
  {
   "cell_type": "code",
   "execution_count": 253,
   "metadata": {},
   "outputs": [],
   "source": [
    "df_coef['order'] = [x for x in range(1,len(df_coef)+1)]"
   ]
  },
  {
   "cell_type": "code",
   "execution_count": 254,
   "metadata": {},
   "outputs": [],
   "source": [
    "shitty_vars = df_coef.variable[df_coef.coef_abs == 0].values"
   ]
  },
  {
   "cell_type": "code",
   "execution_count": 255,
   "metadata": {},
   "outputs": [],
   "source": [
    "cool_vars = list(df_coef.variable[~df_coef.variable.isin(shitty_vars)])"
   ]
  },
  {
   "cell_type": "code",
   "execution_count": 256,
   "metadata": {},
   "outputs": [],
   "source": [
    "filtered_final_dataset = dum_final.loc[:,cool_vars]"
   ]
  },
  {
   "cell_type": "code",
   "execution_count": 257,
   "metadata": {},
   "outputs": [],
   "source": [
    "filtered_final_dataset.to_csv(r'/Users/gonzaloferreiro/Documents/GA_Materials/DS_Inmersive/DSI8-lessons/projects/project-capstone/Moving_forward/Final_datasets/Working_files/filtered_final_dataset.csv',index=False)"
   ]
  },
  {
   "cell_type": "code",
   "execution_count": 258,
   "metadata": {},
   "outputs": [],
   "source": [
    "filtered_final_dataset = pd.read_csv('/Users/gonzaloferreiro/Documents/GA_Materials/DS_Inmersive/DSI8-lessons/projects/project-capstone/Moving_forward/Final_datasets/Working_files/filtered_final_dataset.csv')"
   ]
  },
  {
   "cell_type": "markdown",
   "metadata": {},
   "source": [
    "##### New simple regression on filtered data"
   ]
  },
  {
   "cell_type": "code",
   "execution_count": 259,
   "metadata": {},
   "outputs": [],
   "source": [
    "X_train_filt, X_test_filt, y_train_filt, y_test_filt = train_test_split(\n",
    "filtered_final_dataset, y, test_size = 0.20, random_state=123)"
   ]
  },
  {
   "cell_type": "code",
   "execution_count": 260,
   "metadata": {},
   "outputs": [],
   "source": [
    "X_train_filt_std = pd.DataFrame(scaler.fit_transform(X_train_filt),columns=X_train_filt.columns)\n",
    "X_test_filt_std = pd.DataFrame(scaler.transform(X_test_filt),columns=X_train_filt.columns)"
   ]
  },
  {
   "cell_type": "code",
   "execution_count": 261,
   "metadata": {},
   "outputs": [
    {
     "name": "stdout",
     "output_type": "stream",
     "text": [
      "Mean cross-validated training score: 0.7377618745583803\n",
      "Training score: 0.7998152411348329\n",
      "Test score: 0.7813708502540039\n"
     ]
    }
   ],
   "source": [
    "test_model = LinearRegression()\n",
    "\n",
    "scores = cross_val_score(test_model, X_train_filt, y_train_filt, cv=5)\n",
    "print('Mean cross-validated training score:', scores.mean())\n",
    "\n",
    "test_model.fit(X_train_filt, y_train_filt)\n",
    "print('Training score:', test_model.score(X_train_filt, y_train_filt))\n",
    "\n",
    "print('Test score:', test_model.score(X_test_filt, y_test_filt))"
   ]
  },
  {
   "cell_type": "code",
   "execution_count": 262,
   "metadata": {},
   "outputs": [
    {
     "name": "stdout",
     "output_type": "stream",
     "text": [
      "Mean cross-validated training score: 0.7377618749044359\n",
      "Training score: 0.7998152411348329\n",
      "Test score: 0.7813708504784668\n"
     ]
    }
   ],
   "source": [
    "test_model_std = LinearRegression()\n",
    "\n",
    "scores = cross_val_score(test_model_std, X_train_filt_std, y_train_filt, cv=5)\n",
    "print('Mean cross-validated training score:', scores.mean())\n",
    "\n",
    "test_model_std.fit(X_train_filt_std, y_train_filt)\n",
    "print('Training score:', test_model_std.score(X_train_filt_std, y_train_filt))\n",
    "\n",
    "print('Test score:', test_model_std.score(X_test_filt_std, y_test_filt))"
   ]
  },
  {
   "cell_type": "markdown",
   "metadata": {},
   "source": [
    "##### New Lasso on filtered data"
   ]
  },
  {
   "cell_type": "code",
   "execution_count": 263,
   "metadata": {},
   "outputs": [
    {
     "data": {
      "image/png": "[encoded data removed]",
      "text/plain": [
       "<Figure size 432x288 with 1 Axes>"
      ]
     },
     "metadata": {
      "needs_background": "light"
     },
     "output_type": "display_data"
    }
   ],
   "source": [
    "# Better with standardization\n",
    "\n",
    "alpha_values = np.logspace(-3,-2,20)\n",
    "scores = alpha_scores(Lasso, alpha_values, X_train_filt_std, y_train_filt)\n",
    "\n",
    "plt.plot(alpha_values, [score for score in scores], lw=2)\n",
    "plt.ylabel('R2')\n",
    "plt.show()"
   ]
  },
  {
   "cell_type": "code",
   "execution_count": 264,
   "metadata": {
    "scrolled": true
   },
   "outputs": [
    {
     "name": "stdout",
     "output_type": "stream",
     "text": [
      "Best alpha: 0.0032903445623126675\n",
      "Training score: 0.7911588248602877\n",
      "Test score: 0.7921819023375072\n",
      "Mean cross-validated training score: 0.7196528083608288\n"
     ]
    }
   ],
   "source": [
    "lasso_cool_model = LassoCV(alphas=np.logspace(-3,-2,30), cv=5, \n",
    "                      tol=0.1, fit_intercept=True)\n",
    "\n",
    "lasso_model.fit(X_train_filt_std, y_train_filt)\n",
    "\n",
    "print('Best alpha:', lasso_model.alpha_)\n",
    "\n",
    "print('Training score:', lasso_model.score(X_train_filt_std, y_train_filt))\n",
    "\n",
    "print('Test score:', lasso_model.score(X_test_filt_std, y_test_filt))\n",
    "\n",
    "scores = cross_val_score(lasso_cool_model, X_train_filt_std, y_train_filt, cv=5)\n",
    "print('Mean cross-validated training score:', scores.mean())"
   ]
  },
  {
   "cell_type": "markdown",
   "metadata": {
    "heading_collapsed": true
   },
   "source": [
    "#### Some neural network thing"
   ]
  },
  {
   "cell_type": "code",
   "execution_count": 180,
   "metadata": {
    "hidden": true
   },
   "outputs": [],
   "source": [
    "from sklearn.neural_network import MLPRegressor"
   ]
  },
  {
   "cell_type": "code",
   "execution_count": 181,
   "metadata": {
    "hidden": true
   },
   "outputs": [],
   "source": [
    "clf = MLPRegressor(max_iter=1000,random_state=1)"
   ]
  },
  {
   "cell_type": "code",
   "execution_count": 182,
   "metadata": {
    "hidden": true
   },
   "outputs": [],
   "source": [
    "from sklearn.model_selection import GridSearchCV"
   ]
  },
  {
   "cell_type": "code",
   "execution_count": 183,
   "metadata": {
    "hidden": true
   },
   "outputs": [
    {
     "name": "stdout",
     "output_type": "stream",
     "text": [
      "Fitting 3 folds for each of 60 candidates, totalling 180 fits\n"
     ]
    },
    {
     "name": "stderr",
     "output_type": "stream",
     "text": [
      "[Parallel(n_jobs=-1)]: Using backend LokyBackend with 4 concurrent workers.\n",
      "[Parallel(n_jobs=-1)]: Done  42 tasks      | elapsed:   17.0s\n",
      "[Parallel(n_jobs=-1)]: Done 180 out of 180 | elapsed:  1.9min finished\n"
     ]
    },
    {
     "name": "stdout",
     "output_type": "stream",
     "text": [
      "0.5252240016623737\n",
      "0.6083681919477029\n",
      "{'activation': 'relu', 'alpha': 10.0, 'hidden_layer_sizes': (2, 2), 'solver': 'lbfgs'}\n"
     ]
    }
   ],
   "source": [
    "parameters = {'solver': ['lbfgs', 'adam'],\n",
    "              'activation': ['identity','tanh', 'relu'],\n",
    "              'alpha': np.logspace(-2,2,5),\n",
    "              'hidden_layer_sizes': [(10,10,10),(2,2)]}\n",
    "\n",
    "nnet = GridSearchCV(clf, parameters, cv=3, n_jobs=-1, verbose=1, refit=True)\n",
    "\n",
    "nnet.fit(X_train, y_train)\n",
    "print(nnet.score(X_train, y_train))\n",
    "print(nnet.score(X_test, y_test))\n",
    "print(nnet.best_params_)"
   ]
  },
  {
   "cell_type": "markdown",
   "metadata": {
    "heading_collapsed": true
   },
   "source": [
    "#### Trees"
   ]
  },
  {
   "cell_type": "code",
   "execution_count": 725,
   "metadata": {
    "hidden": true
   },
   "outputs": [],
   "source": [
    "final_basic_tree = DecisionTreeRegressor(random_state=123)"
   ]
  },
  {
   "cell_type": "code",
   "execution_count": 769,
   "metadata": {
    "hidden": true
   },
   "outputs": [
    {
     "data": {
      "text/plain": [
       "GridSearchCV(cv=5, error_score='raise-deprecating',\n",
       "       estimator=DecisionTreeRegressor(criterion='mse', max_depth=None, max_features=None,\n",
       "           max_leaf_nodes=None, min_impurity_decrease=0.0,\n",
       "           min_impurity_split=None, min_samples_leaf=1,\n",
       "           min_samples_split=2, min_weight_fraction_leaf=0.0,\n",
       "           presort=False, random_state=123, splitter='best'),\n",
       "       fit_params=None, iid='warn', n_jobs=None,\n",
       "       param_grid={'max_depth': [6, 7, 8], 'max_features': [107], 'max_leaf_nodes': [110, 111, 112], 'min_samples_leaf': [4], 'min_samples_split': [15, 16, 17]},\n",
       "       pre_dispatch='2*n_jobs', refit=True, return_train_score='warn',\n",
       "       scoring=None, verbose=0)"
      ]
     },
     "execution_count": 769,
     "metadata": {},
     "output_type": "execute_result"
    }
   ],
   "source": [
    "final_basic_tree_params = {'max_depth': [6,7,8],\n",
    "          'max_features': [107],\n",
    "          'max_leaf_nodes': [110,111,112],\n",
    "          'min_samples_leaf': [4],\n",
    "          'min_samples_split': [15,16,17]\n",
    "          }\n",
    "\n",
    "final_basic_tree_grid = GridSearchCV(\n",
    "        estimator=final_basic_tree,\n",
    "        param_grid=final_basic_tree_params, cv=5)\n",
    "\n",
    "final_basic_tree_grid.fit(X_train_std, y_train)"
   ]
  },
  {
   "cell_type": "code",
   "execution_count": 770,
   "metadata": {
    "hidden": true
   },
   "outputs": [
    {
     "data": {
      "text/plain": [
       "{'max_depth': 7,\n",
       " 'max_features': 107,\n",
       " 'max_leaf_nodes': 110,\n",
       " 'min_samples_leaf': 4,\n",
       " 'min_samples_split': 16}"
      ]
     },
     "execution_count": 770,
     "metadata": {},
     "output_type": "execute_result"
    }
   ],
   "source": [
    "final_basic_tree_grid.best_params_"
   ]
  },
  {
   "cell_type": "code",
   "execution_count": 771,
   "metadata": {
    "hidden": true
   },
   "outputs": [
    {
     "data": {
      "text/plain": [
       "0.9245738782887712"
      ]
     },
     "execution_count": 771,
     "metadata": {},
     "output_type": "execute_result"
    }
   ],
   "source": [
    "final_basic_tree_grid.score(X_test_std, y_test)"
   ]
  },
  {
   "cell_type": "markdown",
   "metadata": {},
   "source": [
    "### New dataset with only cool features"
   ]
  },
  {
   "cell_type": "markdown",
   "metadata": {},
   "source": [
    "#### Setting up dataset"
   ]
  },
  {
   "cell_type": "code",
   "execution_count": 265,
   "metadata": {},
   "outputs": [],
   "source": [
    "filtered_final_dataset_wlink = filtered_final_dataset.copy()"
   ]
  },
  {
   "cell_type": "code",
   "execution_count": 266,
   "metadata": {},
   "outputs": [],
   "source": [
    "filtered_final_dataset_wlink['link'] = final_link_tm"
   ]
  },
  {
   "cell_type": "code",
   "execution_count": 267,
   "metadata": {},
   "outputs": [],
   "source": [
    "mega_dataset = filtered_teams_wlink.merge(filtered_final_dataset_wlink, how='inner', on='link')"
   ]
  },
  {
   "cell_type": "code",
   "execution_count": 268,
   "metadata": {},
   "outputs": [],
   "source": [
    "y_look = pd.concat([y,final_link_tm],axis=1)"
   ]
  },
  {
   "cell_type": "code",
   "execution_count": 269,
   "metadata": {},
   "outputs": [],
   "source": [
    "y_look = y_look.rename(columns = {'player_link_tm':'link'})"
   ]
  },
  {
   "cell_type": "code",
   "execution_count": 270,
   "metadata": {},
   "outputs": [],
   "source": [
    "y_mega = y_look.merge(y_teams_look, how='inner', on='link')"
   ]
  },
  {
   "cell_type": "code",
   "execution_count": 271,
   "metadata": {},
   "outputs": [
    {
     "data": {
      "text/plain": [
       "Index(['current_log_x', 'link', 'current_log_y'], dtype='object')"
      ]
     },
     "execution_count": 271,
     "metadata": {},
     "output_type": "execute_result"
    }
   ],
   "source": [
    "y_mega.columns"
   ]
  },
  {
   "cell_type": "code",
   "execution_count": 272,
   "metadata": {},
   "outputs": [],
   "source": [
    "y_mega.drop('current_log_x',inplace=True,axis=1)"
   ]
  },
  {
   "cell_type": "code",
   "execution_count": 273,
   "metadata": {},
   "outputs": [],
   "source": [
    "mega_dataset = mega_dataset.merge(y_mega, how='inner', on='link')"
   ]
  },
  {
   "cell_type": "code",
   "execution_count": 274,
   "metadata": {},
   "outputs": [],
   "source": [
    "y_mega = mega_dataset.pop('current_log_y')"
   ]
  },
  {
   "cell_type": "code",
   "execution_count": 275,
   "metadata": {},
   "outputs": [],
   "source": [
    "mega_dataset.drop('link',axis=1,inplace=True)"
   ]
  },
  {
   "cell_type": "code",
   "execution_count": 159,
   "metadata": {},
   "outputs": [],
   "source": [
    "mega_dataset.to_csv(r'/Users/gonzaloferreiro/Documents/GA_Materials/DS_Inmersive/DSI8-lessons/projects/project-capstone/Moving_forward/Final_datasets/Working_files/mega_dataset.csv',index=False)"
   ]
  },
  {
   "cell_type": "code",
   "execution_count": 160,
   "metadata": {},
   "outputs": [],
   "source": [
    "mega_dataset = pd.read_csv('/Users/gonzaloferreiro/Documents/GA_Materials/DS_Inmersive/DSI8-lessons/projects/project-capstone/Moving_forward/Final_datasets/Working_files/mega_dataset.csv')"
   ]
  },
  {
   "cell_type": "markdown",
   "metadata": {},
   "source": [
    "#### Simple linear regression"
   ]
  },
  {
   "cell_type": "code",
   "execution_count": 276,
   "metadata": {},
   "outputs": [],
   "source": [
    "X_train_mega, X_test_mega, y_train_mega, y_test_mega = train_test_split(\n",
    "mega_dataset, y_mega, test_size = 0.20, random_state=123)"
   ]
  },
  {
   "cell_type": "code",
   "execution_count": 277,
   "metadata": {},
   "outputs": [],
   "source": [
    "X_train_mega_std = pd.DataFrame(scaler.fit_transform(X_train_mega),columns=X_train_mega.columns)\n",
    "X_test_mega_std = pd.DataFrame(scaler.transform(X_test_mega),columns=X_train_mega.columns)"
   ]
  },
  {
   "cell_type": "code",
   "execution_count": 278,
   "metadata": {
    "scrolled": true
   },
   "outputs": [
    {
     "data": {
      "text/plain": [
       "(223, 89)"
      ]
     },
     "execution_count": 278,
     "metadata": {},
     "output_type": "execute_result"
    }
   ],
   "source": [
    "X_test_mega.shape"
   ]
  },
  {
   "cell_type": "code",
   "execution_count": 279,
   "metadata": {},
   "outputs": [
    {
     "name": "stdout",
     "output_type": "stream",
     "text": [
      "Mean cross-validated training score: -0.001233721474329519\n",
      "Training score: 0.23734815119314667\n",
      "Test score: 0.06583157973275955\n"
     ]
    }
   ],
   "source": [
    "reg_mega = LinearRegression()\n",
    "\n",
    "scores = cross_val_score(reg_mega, X_train_mega, y_train_mega, cv=5)\n",
    "print('Mean cross-validated training score:', scores.mean())\n",
    "\n",
    "reg_mega.fit(X_train_mega, y_train_mega)\n",
    "print('Training score:', reg_mega.score(X_train_mega, y_train_mega))\n",
    "\n",
    "print('Test score:', reg_mega.score(X_test_mega, y_test_mega))"
   ]
  },
  {
   "cell_type": "code",
   "execution_count": 280,
   "metadata": {},
   "outputs": [
    {
     "name": "stdout",
     "output_type": "stream",
     "text": [
      "Mean cross-validated training score: -0.001233719321207749\n",
      "Training score: 0.2373481511931469\n",
      "Test score: 0.06583158044038906\n"
     ]
    }
   ],
   "source": [
    "reg_mega_std = LinearRegression()\n",
    "\n",
    "scores = cross_val_score(reg_mega_std, X_train_mega_std, y_train_mega, cv=5)\n",
    "print('Mean cross-validated training score:', scores.mean())\n",
    "\n",
    "reg_mega_std.fit(X_train_mega_std, y_train_mega)\n",
    "print('Training score:', reg_mega_std.score(X_train_mega_std, y_train_mega))\n",
    "\n",
    "print('Test score:', reg_mega_std.score(X_test_mega_std, y_test_mega))"
   ]
  },
  {
   "cell_type": "markdown",
   "metadata": {},
   "source": [
    "#### Lasso"
   ]
  },
  {
   "cell_type": "code",
   "execution_count": 281,
   "metadata": {},
   "outputs": [
    {
     "data": {
      "image/png": "[encoded data removed]",
      "text/plain": [
       "<Figure size 432x288 with 1 Axes>"
      ]
     },
     "metadata": {
      "needs_background": "light"
     },
     "output_type": "display_data"
    }
   ],
   "source": [
    "# Standardization doesn't change anything\n",
    "\n",
    "alpha_values = np.logspace(-2,-1,20)\n",
    "scores = alpha_scores(Lasso, alpha_values, X_train_mega_std, y_train_mega)\n",
    "\n",
    "plt.plot(alpha_values, [score for score in scores], lw=2)\n",
    "plt.ylabel('R2')\n",
    "plt.show()"
   ]
  },
  {
   "cell_type": "code",
   "execution_count": 282,
   "metadata": {},
   "outputs": [
    {
     "name": "stdout",
     "output_type": "stream",
     "text": [
      "Best alpha: 0.03162277660168379\n",
      "Training score: 0.2373481328794752\n",
      "Test score: 0.06591017293541646\n",
      "Mean cross-validated training score: -0.0010410297426502347\n"
     ]
    }
   ],
   "source": [
    "model_lasso_mega = RidgeCV(alphas=np.logspace(-2.5,-1.5,20), cv=5)\n",
    "\n",
    "model_lasso_mega.fit(X_train_mega_std, y_train_mega)\n",
    "\n",
    "print('Best alpha:', model_lasso_mega.alpha_)\n",
    "\n",
    "print('Training score:', model_lasso_mega.score(X_train_mega_std, y_train_mega))\n",
    "\n",
    "print('Test score:', model_lasso_mega.score(X_test_mega_std, y_test_mega))\n",
    "\n",
    "scores = cross_val_score(model_lasso_mega, X_train_mega_std, y_train_mega, cv=5)\n",
    "print('Mean cross-validated training score:', scores.mean())"
   ]
  },
  {
   "cell_type": "markdown",
   "metadata": {},
   "source": [
    "#### Ridge"
   ]
  },
  {
   "cell_type": "code",
   "execution_count": 284,
   "metadata": {},
   "outputs": [
    {
     "data": {
      "image/png": "[encoded data removed]",
      "text/plain": [
       "<Figure size 432x288 with 1 Axes>"
      ]
     },
     "metadata": {
      "needs_background": "light"
     },
     "output_type": "display_data"
    }
   ],
   "source": [
    "# Standardization makes it a little worst\n",
    "\n",
    "alpha_values = np.logspace(-0.5,1,20)\n",
    "scores = alpha_scores(Ridge, alpha_values, X_train_mega, y_train_mega)\n",
    "\n",
    "plt.plot(alpha_values, [score for score in scores], lw=2)\n",
    "plt.ylabel('R2')\n",
    "plt.show()"
   ]
  },
  {
   "cell_type": "code",
   "execution_count": 285,
   "metadata": {
    "scrolled": true
   },
   "outputs": [
    {
     "name": "stdout",
     "output_type": "stream",
     "text": [
      "Best alpha: 2.8013567611988677\n",
      "Training score: 0.2263093619208345\n",
      "Test score: 0.07877824557421276\n",
      "Mean cross-validated training score: 0.011613581218758176\n"
     ]
    }
   ],
   "source": [
    "model_ridge_mega = RidgeCV(alphas=np.logspace(-0.5,1,20), cv=5)\n",
    "\n",
    "model_ridge_mega.fit(X_train_mega, y_train_mega)\n",
    "\n",
    "print('Best alpha:', model_ridge_mega.alpha_)\n",
    "\n",
    "print('Training score:', model_ridge_mega.score(X_train_mega, y_train_mega))\n",
    "\n",
    "print('Test score:', model_ridge_mega.score(X_test_mega, y_test_mega))\n",
    "\n",
    "scores = cross_val_score(model_ridge_mega, X_train_mega, y_train_mega, cv=5)\n",
    "print('Mean cross-validated training score:', scores.mean())"
   ]
  },
  {
   "cell_type": "code",
   "execution_count": 286,
   "metadata": {},
   "outputs": [],
   "source": [
    "pred_ridge_mega = model_ridge_mega.predict(X_train_mega)\n",
    "ridge_res_mega = [np.abs(x-y) for x,y in zip(y_train_mega, pred_ridge_mega)]"
   ]
  },
  {
   "cell_type": "code",
   "execution_count": 287,
   "metadata": {},
   "outputs": [
    {
     "data": {
      "text/plain": [
       "4.629733624785482"
      ]
     },
     "execution_count": 287,
     "metadata": {},
     "output_type": "execute_result"
    }
   ],
   "source": [
    "np.max(ridge_res_mega)"
   ]
  },
  {
   "cell_type": "markdown",
   "metadata": {
    "heading_collapsed": true
   },
   "source": [
    "#### Support Vector Regression [BREAKS CODE - DO NOT RUN]"
   ]
  },
  {
   "cell_type": "code",
   "execution_count": null,
   "metadata": {
    "hidden": true
   },
   "outputs": [],
   "source": [
    "np.logspace(-3, 10, 10)"
   ]
  },
  {
   "cell_type": "code",
   "execution_count": null,
   "metadata": {
    "hidden": true
   },
   "outputs": [],
   "source": [
    "model_svr = SVR(kernel='rbf', gamma='auto')\n",
    "\n",
    "params_svr = {\n",
    "    'C': np.logspace(-3, 2, 5),\n",
    "    'epsilon': np.linspace(0.001, 2, 5)\n",
    "}\n",
    "\n",
    "svr_grid = GridSearchCV(\n",
    "        estimator=model_svr,\n",
    "        param_grid=params_svr, cv=5)\n",
    "\n",
    "svr_grid.fit(X_train_mega, y_train_mega)"
   ]
  },
  {
   "cell_type": "code",
   "execution_count": null,
   "metadata": {
    "hidden": true
   },
   "outputs": [],
   "source": [
    "svr_grid.best_score_"
   ]
  },
  {
   "cell_type": "markdown",
   "metadata": {},
   "source": [
    "#### Trees"
   ]
  },
  {
   "cell_type": "code",
   "execution_count": 145,
   "metadata": {},
   "outputs": [],
   "source": [
    "basic_tree = DecisionTreeRegressor(random_state=123)"
   ]
  },
  {
   "cell_type": "code",
   "execution_count": 146,
   "metadata": {},
   "outputs": [
    {
     "data": {
      "text/plain": [
       "dict_keys(['criterion', 'max_depth', 'max_features', 'max_leaf_nodes', 'min_impurity_decrease', 'min_impurity_split', 'min_samples_leaf', 'min_samples_split', 'min_weight_fraction_leaf', 'presort', 'random_state', 'splitter'])"
      ]
     },
     "execution_count": 146,
     "metadata": {},
     "output_type": "execute_result"
    }
   ],
   "source": [
    "basic_tree.get_params().keys()"
   ]
  },
  {
   "cell_type": "code",
   "execution_count": 163,
   "metadata": {},
   "outputs": [
    {
     "data": {
      "text/plain": [
       "GridSearchCV(cv=5, error_score='raise-deprecating',\n",
       "       estimator=DecisionTreeRegressor(criterion='mse', max_depth=None, max_features=None,\n",
       "           max_leaf_nodes=None, min_impurity_decrease=0.0,\n",
       "           min_impurity_split=None, min_samples_leaf=1,\n",
       "           min_samples_split=2, min_weight_fraction_leaf=0.0,\n",
       "           presort=False, random_state=123, splitter='best'),\n",
       "       fit_params=None, iid='warn', n_jobs=None,\n",
       "       param_grid={'max_depth': [8, 9, 10], 'max_features': [87, 88, 89], 'max_leaf_nodes': array([85, 86, 87, 88, 90]), 'min_samples_leaf': [4, 5, 6, 7], 'min_samples_split': [11, 12, 14]},\n",
       "       pre_dispatch='2*n_jobs', refit=True, return_train_score='warn',\n",
       "       scoring=None, verbose=0)"
      ]
     },
     "execution_count": 163,
     "metadata": {},
     "output_type": "execute_result"
    }
   ],
   "source": [
    "basic_tree_params = {'max_depth': [8,9,10],\n",
    "          'max_features': [87,88,89],\n",
    "          'max_leaf_nodes': np.linspace(85,90,5,dtype=int),\n",
    "          'min_samples_leaf': [4,5,6,7],\n",
    "          'min_samples_split': [11,12,14]\n",
    "          }\n",
    "\n",
    "basic_tree_grid = GridSearchCV(\n",
    "        estimator=basic_tree,\n",
    "        param_grid=basic_tree_params, cv=5)\n",
    "\n",
    "basic_tree_grid.fit(X_train_mega_std, y_train_mega)"
   ]
  },
  {
   "cell_type": "code",
   "execution_count": 164,
   "metadata": {},
   "outputs": [
    {
     "data": {
      "text/plain": [
       "{'max_depth': 9,\n",
       " 'max_features': 88,\n",
       " 'max_leaf_nodes': 88,\n",
       " 'min_samples_leaf': 4,\n",
       " 'min_samples_split': 12}"
      ]
     },
     "execution_count": 164,
     "metadata": {},
     "output_type": "execute_result"
    }
   ],
   "source": [
    "basic_tree_grid.best_params_"
   ]
  },
  {
   "cell_type": "code",
   "execution_count": 165,
   "metadata": {},
   "outputs": [
    {
     "data": {
      "text/plain": [
       "0.9789914789102725"
      ]
     },
     "execution_count": 165,
     "metadata": {},
     "output_type": "execute_result"
    }
   ],
   "source": [
    "basic_tree_grid.score(X_train_mega_std, y_train_mega)"
   ]
  },
  {
   "cell_type": "code",
   "execution_count": 166,
   "metadata": {},
   "outputs": [
    {
     "data": {
      "text/plain": [
       "0.9182289854607385"
      ]
     },
     "execution_count": 166,
     "metadata": {},
     "output_type": "execute_result"
    }
   ],
   "source": [
    "basic_tree_grid.score(X_test_mega_std, y_test_mega)"
   ]
  },
  {
   "cell_type": "code",
   "execution_count": 167,
   "metadata": {},
   "outputs": [],
   "source": [
    "tree_pred = basic_tree_grid.predict(X_test_mega)"
   ]
  },
  {
   "cell_type": "code",
   "execution_count": 168,
   "metadata": {},
   "outputs": [],
   "source": [
    "tree_res = y_test_mega - tree_pred"
   ]
  },
  {
   "cell_type": "code",
   "execution_count": 169,
   "metadata": {
    "scrolled": false
   },
   "outputs": [
    {
     "data": {
      "image/png": "[encoded data removed]",
      "text/plain": [
       "<Figure size 1080x360 with 2 Axes>"
      ]
     },
     "metadata": {
      "needs_background": "light"
     },
     "output_type": "display_data"
    }
   ],
   "source": [
    "fig, ax = plt.subplots(nrows=1, ncols=2, figsize=(15,5))\n",
    "qqplot(tree_res, line='s', ax=ax[0]);\n",
    "sns.distplot(tree_res, ax=ax[1]);\n",
    "plt.show()"
   ]
  },
  {
   "cell_type": "markdown",
   "metadata": {},
   "source": [
    "#### Tree with bagging"
   ]
  },
  {
   "cell_type": "code",
   "execution_count": 171,
   "metadata": {},
   "outputs": [],
   "source": [
    "tree_to_bag = DecisionTreeRegressor(random_state=123)"
   ]
  },
  {
   "cell_type": "code",
   "execution_count": 172,
   "metadata": {},
   "outputs": [],
   "source": [
    "bagging_tree = BaggingRegressor(base_estimator=tree_to_bag, random_state=1, n_estimators=1000)"
   ]
  },
  {
   "cell_type": "code",
   "execution_count": 173,
   "metadata": {},
   "outputs": [
    {
     "data": {
      "text/plain": [
       "dict_keys(['base_estimator__criterion', 'base_estimator__max_depth', 'base_estimator__max_features', 'base_estimator__max_leaf_nodes', 'base_estimator__min_impurity_decrease', 'base_estimator__min_impurity_split', 'base_estimator__min_samples_leaf', 'base_estimator__min_samples_split', 'base_estimator__min_weight_fraction_leaf', 'base_estimator__presort', 'base_estimator__random_state', 'base_estimator__splitter', 'base_estimator', 'bootstrap', 'bootstrap_features', 'max_features', 'max_samples', 'n_estimators', 'n_jobs', 'oob_score', 'random_state', 'verbose', 'warm_start'])"
      ]
     },
     "execution_count": 173,
     "metadata": {},
     "output_type": "execute_result"
    }
   ],
   "source": [
    "bagging_tree.get_params().keys()"
   ]
  },
  {
   "cell_type": "code",
   "execution_count": null,
   "metadata": {},
   "outputs": [],
   "source": [
    "bagging_tree_params = {'base_estimator__max_depth': np.linspace(5,15,10,dtype=int),\n",
    "                       'base_estimator__max_features': np.linspace(80,100,20,dtype=int),\n",
    "                       'base_estimator__max_leaf_nodes': np.linspace(85,105,20,dtype=int),\n",
    "                       'base_estimator__min_samples_leaf': np.linspace(1,8,8,dtype=int),\n",
    "                       'base_estimator__min_samples_split': np.linspace(5,15,10,dtype=int),\n",
    "                       'bootstrap': [True,False],\n",
    "                       'bootstrap_feature': [True,False],\n",
    "                       'max_features': np.linspace(0,1,10),\n",
    "                       'max_samples': np.linspace(0,1,10)}      \n",
    "          \n",
    "\n",
    "basic_tree_grid = GridSearchCV(\n",
    "        estimator=bagging_tree,\n",
    "        param_grid=bagging_tree_params, cv=5)\n",
    "\n",
    "basic_tree_grid.fit(X_train_mega_std, y_train_mega)"
   ]
  },
  {
   "cell_type": "markdown",
   "metadata": {
    "heading_collapsed": true
   },
   "source": [
    "### Trying some robust models"
   ]
  },
  {
   "cell_type": "markdown",
   "metadata": {
    "hidden": true
   },
   "source": [
    "#### Ranscac Sklearn"
   ]
  },
  {
   "cell_type": "code",
   "execution_count": 609,
   "metadata": {
    "hidden": true
   },
   "outputs": [
    {
     "data": {
      "text/plain": [
       "dict_keys(['base_estimator__copy_X', 'base_estimator__fit_intercept', 'base_estimator__n_jobs', 'base_estimator__normalize', 'base_estimator', 'is_data_valid', 'is_model_valid', 'loss', 'max_skips', 'max_trials', 'min_samples', 'random_state', 'residual_threshold', 'stop_n_inliers', 'stop_probability', 'stop_score'])"
      ]
     },
     "execution_count": 609,
     "metadata": {},
     "output_type": "execute_result"
    }
   ],
   "source": [
    "ransac.get_params().keys()"
   ]
  },
  {
   "cell_type": "code",
   "execution_count": 617,
   "metadata": {
    "hidden": true
   },
   "outputs": [],
   "source": [
    "ransac = RANSACRegressor(base_estimator=LinearRegression(),\n",
    "                         is_data_valid=None, is_model_valid=None, \n",
    "                         loss='absolute_loss', max_skips=1000, \n",
    "                         max_trials=2000, min_samples=200, \n",
    "                         random_state=123, residual_threshold=2.4, \n",
    "                         stop_n_inliers=1000, stop_score=1)\n",
    "\n",
    "# HuberRegressor with RANSAC shit\n",
    "# TheilSenRegressor with RANSAC around 0.35"
   ]
  },
  {
   "cell_type": "code",
   "execution_count": 618,
   "metadata": {
    "hidden": true
   },
   "outputs": [
    {
     "data": {
      "text/plain": [
       "RANSACRegressor(base_estimator=LinearRegression(copy_X=True, fit_intercept=True, n_jobs=None,\n",
       "         normalize=False),\n",
       "        is_data_valid=None, is_model_valid=None, loss='absolute_loss',\n",
       "        max_skips=1000, max_trials=2000, min_samples=200, random_state=123,\n",
       "        residual_threshold=2.4, stop_n_inliers=1000, stop_probability=0.99,\n",
       "        stop_score=1)"
      ]
     },
     "execution_count": 618,
     "metadata": {},
     "output_type": "execute_result"
    }
   ],
   "source": [
    "ransac.fit(X_train_mega, y_train_mega)"
   ]
  },
  {
   "cell_type": "code",
   "execution_count": 655,
   "metadata": {
    "hidden": true
   },
   "outputs": [
    {
     "data": {
      "text/plain": [
       "0.8171243923642922"
      ]
     },
     "execution_count": 655,
     "metadata": {},
     "output_type": "execute_result"
    }
   ],
   "source": [
    "ransac.score(X_test_mega,y_test_mega)"
   ]
  },
  {
   "cell_type": "code",
   "execution_count": 438,
   "metadata": {
    "hidden": true
   },
   "outputs": [
    {
     "name": "stdout",
     "output_type": "stream",
     "text": [
      "Mean cross-validated training score: 0.7214410978952334\n"
     ]
    }
   ],
   "source": [
    "scores = cross_val_score(ransac, X_train_mega, y_train_mega, cv=5)\n",
    "print('Mean cross-validated training score:', scores.mean())"
   ]
  },
  {
   "cell_type": "code",
   "execution_count": 473,
   "metadata": {
    "hidden": true
   },
   "outputs": [],
   "source": [
    "ransac_pred = ransac.estimator_.predict(X_test_mega)"
   ]
  },
  {
   "cell_type": "code",
   "execution_count": 474,
   "metadata": {
    "hidden": true
   },
   "outputs": [],
   "source": [
    "ransac_res = y_test_mega - ransac_pred"
   ]
  },
  {
   "cell_type": "code",
   "execution_count": 475,
   "metadata": {
    "hidden": true
   },
   "outputs": [
    {
     "data": {
      "image/png": "[encoded data removed]",
      "text/plain": [
       "<Figure size 1080x360 with 2 Axes>"
      ]
     },
     "metadata": {
      "needs_background": "light"
     },
     "output_type": "display_data"
    }
   ],
   "source": [
    "fig, ax = plt.subplots(nrows=1, ncols=2, figsize=(15,5))\n",
    "qqplot(ransac_res, line='s', ax=ax[0]);\n",
    "sns.distplot(ransac_res, ax=ax[1]);\n",
    "plt.show()"
   ]
  },
  {
   "cell_type": "markdown",
   "metadata": {
    "heading_collapsed": true,
    "hidden": true
   },
   "source": [
    "#### Huber Regressor statsmodel"
   ]
  },
  {
   "cell_type": "code",
   "execution_count": 539,
   "metadata": {
    "hidden": true
   },
   "outputs": [],
   "source": [
    "huber_t = sm.OLS(y_train_mega, X_train_mega)\n",
    "hub_results = huber_t.fit()"
   ]
  },
  {
   "cell_type": "code",
   "execution_count": 540,
   "metadata": {
    "hidden": true
   },
   "outputs": [],
   "source": [
    "mega_pred = hub_results.predict(X_test_mega)"
   ]
  },
  {
   "cell_type": "code",
   "execution_count": 541,
   "metadata": {
    "hidden": true
   },
   "outputs": [
    {
     "data": {
      "text/plain": [
       "0.788900817024476"
      ]
     },
     "execution_count": 541,
     "metadata": {},
     "output_type": "execute_result"
    }
   ],
   "source": [
    "r2_score(y_test_mega, mega_pred)"
   ]
  },
  {
   "cell_type": "markdown",
   "metadata": {
    "heading_collapsed": true,
    "hidden": true
   },
   "source": [
    "#### Huber Sklearn with Grid Search"
   ]
  },
  {
   "cell_type": "code",
   "execution_count": 552,
   "metadata": {
    "hidden": true
   },
   "outputs": [],
   "source": [
    "hub_model = HuberRegressor(max_iter=10000)"
   ]
  },
  {
   "cell_type": "code",
   "execution_count": 588,
   "metadata": {
    "hidden": true
   },
   "outputs": [
    {
     "data": {
      "text/plain": [
       "GridSearchCV(cv=5, error_score='raise-deprecating',\n",
       "       estimator=HuberRegressor(alpha=0.0001, epsilon=1.35, fit_intercept=True, max_iter=10000,\n",
       "        tol=1e-05, warm_start=False),\n",
       "       fit_params=None, iid='warn', n_jobs=None,\n",
       "       param_grid={'alpha': array([25.     , 26.11111, 27.22222, 28.33333, 29.44444, 30.55556,\n",
       "       31.66667, 32.77778, 33.88889, 35.     ]), 'epsilon': array([45. , 47.5, 50. , 52.5, 55. ]), 'fit_intercept': [True]},\n",
       "       pre_dispatch='2*n_jobs', refit=True, return_train_score='warn',\n",
       "       scoring=None, verbose=0)"
      ]
     },
     "execution_count": 588,
     "metadata": {},
     "output_type": "execute_result"
    }
   ],
   "source": [
    "huber_params = {\n",
    "    'alpha': np.linspace(25, 35, 10),\n",
    "    'epsilon': np.linspace(45, 55, 5),\n",
    "    'fit_intercept': [True],\n",
    "}\n",
    "\n",
    "huber_grid = GridSearchCV(\n",
    "        estimator=hub_model,\n",
    "        param_grid=huber_params, cv=5)\n",
    "\n",
    "huber_grid.fit(X_train_mega_std, y_train_mega)"
   ]
  },
  {
   "cell_type": "code",
   "execution_count": 589,
   "metadata": {
    "hidden": true
   },
   "outputs": [
    {
     "data": {
      "text/plain": [
       "HuberRegressor(alpha=35.0, epsilon=45.0, fit_intercept=True, max_iter=10000,\n",
       "        tol=1e-05, warm_start=False)"
      ]
     },
     "execution_count": 589,
     "metadata": {},
     "output_type": "execute_result"
    }
   ],
   "source": [
    "huber_grid.best_estimator_"
   ]
  },
  {
   "cell_type": "code",
   "execution_count": 590,
   "metadata": {
    "hidden": true
   },
   "outputs": [
    {
     "data": {
      "text/plain": [
       "0.8133078510217235"
      ]
     },
     "execution_count": 590,
     "metadata": {},
     "output_type": "execute_result"
    }
   ],
   "source": [
    "huber_grid.score(X_test_mega_std, y_test_mega)"
   ]
  },
  {
   "cell_type": "markdown",
   "metadata": {
    "heading_collapsed": true,
    "hidden": true
   },
   "source": [
    "#### Theil Sen Regressor [DIDN'T WORK]"
   ]
  },
  {
   "cell_type": "code",
   "execution_count": 593,
   "metadata": {
    "hidden": true
   },
   "outputs": [],
   "source": [
    "theil_model = TheilSenRegressor(max_iter=10000, n_jobs=3)"
   ]
  },
  {
   "cell_type": "code",
   "execution_count": 592,
   "metadata": {
    "hidden": true
   },
   "outputs": [
    {
     "data": {
      "text/plain": [
       "['copy_X',\n",
       " 'fit_intercept',\n",
       " 'max_iter',\n",
       " 'max_subpopulation',\n",
       " 'n_jobs',\n",
       " 'n_subsamples',\n",
       " 'random_state',\n",
       " 'tol',\n",
       " 'verbose']"
      ]
     },
     "execution_count": 592,
     "metadata": {},
     "output_type": "execute_result"
    }
   ],
   "source": [
    "list(theil_model.get_params().keys())"
   ]
  },
  {
   "cell_type": "code",
   "execution_count": 606,
   "metadata": {
    "hidden": true
   },
   "outputs": [
    {
     "name": "stdout",
     "output_type": "stream",
     "text": [
      "Breakdown point: 0.006490954398717719\n",
      "Number of samples: 731\n",
      "Tolerable outliers: 4\n",
      "Number of subpopulations: 10000\n"
     ]
    },
    {
     "name": "stderr",
     "output_type": "stream",
     "text": [
      "[Parallel(n_jobs=3)]: Using backend LokyBackend with 3 concurrent workers.\n",
      "[Parallel(n_jobs=3)]: Done   3 out of   3 | elapsed:    8.9s finished\n"
     ]
    },
    {
     "name": "stdout",
     "output_type": "stream",
     "text": [
      "Breakdown point: 0.006490954398717719\n",
      "Number of samples: 731\n",
      "Tolerable outliers: 4\n",
      "Number of subpopulations: 10000\n"
     ]
    },
    {
     "name": "stderr",
     "output_type": "stream",
     "text": [
      "[Parallel(n_jobs=3)]: Using backend LokyBackend with 3 concurrent workers.\n",
      "[Parallel(n_jobs=3)]: Done   3 out of   3 | elapsed:    9.3s finished\n"
     ]
    },
    {
     "name": "stdout",
     "output_type": "stream",
     "text": [
      "Breakdown point: 0.006490954398717719\n",
      "Number of samples: 731\n",
      "Tolerable outliers: 4\n",
      "Number of subpopulations: 10000\n"
     ]
    },
    {
     "name": "stderr",
     "output_type": "stream",
     "text": [
      "[Parallel(n_jobs=3)]: Using backend LokyBackend with 3 concurrent workers.\n",
      "[Parallel(n_jobs=3)]: Done   3 out of   3 | elapsed:    9.1s finished\n"
     ]
    },
    {
     "name": "stdout",
     "output_type": "stream",
     "text": [
      "Breakdown point: 0.006490954398717719\n",
      "Number of samples: 731\n",
      "Tolerable outliers: 4\n",
      "Number of subpopulations: 10000\n"
     ]
    },
    {
     "name": "stderr",
     "output_type": "stream",
     "text": [
      "[Parallel(n_jobs=3)]: Using backend LokyBackend with 3 concurrent workers.\n",
      "[Parallel(n_jobs=3)]: Done   3 out of   3 | elapsed:    9.0s finished\n"
     ]
    },
    {
     "name": "stdout",
     "output_type": "stream",
     "text": [
      "Breakdown point: 0.006492231085747258\n",
      "Number of samples: 732\n",
      "Tolerable outliers: 4\n",
      "Number of subpopulations: 10000\n"
     ]
    },
    {
     "name": "stderr",
     "output_type": "stream",
     "text": [
      "[Parallel(n_jobs=3)]: Using backend LokyBackend with 3 concurrent workers.\n",
      "[Parallel(n_jobs=3)]: Done   3 out of   3 | elapsed:    9.0s finished\n"
     ]
    },
    {
     "name": "stdout",
     "output_type": "stream",
     "text": [
      "Breakdown point: 0.006490954398717719\n",
      "Number of samples: 731\n",
      "Tolerable outliers: 4\n",
      "Number of subpopulations: 10000\n"
     ]
    },
    {
     "name": "stderr",
     "output_type": "stream",
     "text": [
      "[Parallel(n_jobs=3)]: Using backend LokyBackend with 3 concurrent workers.\n",
      "[Parallel(n_jobs=3)]: Done   3 out of   3 | elapsed:    9.1s finished\n"
     ]
    },
    {
     "name": "stdout",
     "output_type": "stream",
     "text": [
      "Breakdown point: 0.006490954398717719\n",
      "Number of samples: 731\n",
      "Tolerable outliers: 4\n",
      "Number of subpopulations: 10000\n"
     ]
    },
    {
     "name": "stderr",
     "output_type": "stream",
     "text": [
      "[Parallel(n_jobs=3)]: Using backend LokyBackend with 3 concurrent workers.\n",
      "[Parallel(n_jobs=3)]: Done   3 out of   3 | elapsed:    8.8s finished\n"
     ]
    },
    {
     "name": "stdout",
     "output_type": "stream",
     "text": [
      "Breakdown point: 0.006490954398717719\n",
      "Number of samples: 731\n",
      "Tolerable outliers: 4\n",
      "Number of subpopulations: 10000\n"
     ]
    },
    {
     "name": "stderr",
     "output_type": "stream",
     "text": [
      "[Parallel(n_jobs=3)]: Using backend LokyBackend with 3 concurrent workers.\n",
      "[Parallel(n_jobs=3)]: Done   3 out of   3 | elapsed:    9.0s finished\n"
     ]
    },
    {
     "name": "stdout",
     "output_type": "stream",
     "text": [
      "Breakdown point: 0.006490954398717719\n",
      "Number of samples: 731\n",
      "Tolerable outliers: 4\n",
      "Number of subpopulations: 10000\n"
     ]
    },
    {
     "name": "stderr",
     "output_type": "stream",
     "text": [
      "[Parallel(n_jobs=3)]: Using backend LokyBackend with 3 concurrent workers.\n",
      "[Parallel(n_jobs=3)]: Done   3 out of   3 | elapsed:    9.0s finished\n"
     ]
    },
    {
     "name": "stdout",
     "output_type": "stream",
     "text": [
      "Breakdown point: 0.006492231085747258\n",
      "Number of samples: 732\n",
      "Tolerable outliers: 4\n",
      "Number of subpopulations: 10000\n"
     ]
    },
    {
     "name": "stderr",
     "output_type": "stream",
     "text": [
      "[Parallel(n_jobs=3)]: Using backend LokyBackend with 3 concurrent workers.\n",
      "[Parallel(n_jobs=3)]: Done   3 out of   3 | elapsed:    9.2s finished\n"
     ]
    },
    {
     "name": "stdout",
     "output_type": "stream",
     "text": [
      "Breakdown point: 0.006490954398717719\n",
      "Number of samples: 731\n",
      "Tolerable outliers: 4\n",
      "Number of subpopulations: 10000\n"
     ]
    },
    {
     "name": "stderr",
     "output_type": "stream",
     "text": [
      "[Parallel(n_jobs=3)]: Using backend LokyBackend with 3 concurrent workers.\n",
      "[Parallel(n_jobs=3)]: Done   3 out of   3 | elapsed:    9.0s finished\n"
     ]
    },
    {
     "name": "stdout",
     "output_type": "stream",
     "text": [
      "Breakdown point: 0.006490954398717719\n",
      "Number of samples: 731\n",
      "Tolerable outliers: 4\n",
      "Number of subpopulations: 10000\n"
     ]
    },
    {
     "name": "stderr",
     "output_type": "stream",
     "text": [
      "[Parallel(n_jobs=3)]: Using backend LokyBackend with 3 concurrent workers.\n",
      "[Parallel(n_jobs=3)]: Done   3 out of   3 | elapsed:    8.8s finished\n"
     ]
    },
    {
     "name": "stdout",
     "output_type": "stream",
     "text": [
      "Breakdown point: 0.006490954398717719\n",
      "Number of samples: 731\n",
      "Tolerable outliers: 4\n",
      "Number of subpopulations: 10000\n"
     ]
    },
    {
     "name": "stderr",
     "output_type": "stream",
     "text": [
      "[Parallel(n_jobs=3)]: Using backend LokyBackend with 3 concurrent workers.\n",
      "[Parallel(n_jobs=3)]: Done   3 out of   3 | elapsed:    8.9s finished\n"
     ]
    },
    {
     "name": "stdout",
     "output_type": "stream",
     "text": [
      "Breakdown point: 0.006490954398717719\n",
      "Number of samples: 731\n",
      "Tolerable outliers: 4\n",
      "Number of subpopulations: 10000\n"
     ]
    },
    {
     "name": "stderr",
     "output_type": "stream",
     "text": [
      "[Parallel(n_jobs=3)]: Using backend LokyBackend with 3 concurrent workers.\n",
      "[Parallel(n_jobs=3)]: Done   3 out of   3 | elapsed:    9.0s finished\n"
     ]
    },
    {
     "name": "stdout",
     "output_type": "stream",
     "text": [
      "Breakdown point: 0.006492231085747258\n",
      "Number of samples: 732\n",
      "Tolerable outliers: 4\n",
      "Number of subpopulations: 10000\n"
     ]
    },
    {
     "name": "stderr",
     "output_type": "stream",
     "text": [
      "[Parallel(n_jobs=3)]: Using backend LokyBackend with 3 concurrent workers.\n",
      "[Parallel(n_jobs=3)]: Done   3 out of   3 | elapsed:    9.0s finished\n"
     ]
    },
    {
     "name": "stdout",
     "output_type": "stream",
     "text": [
      "Breakdown point: 0.006490954398717719\n",
      "Number of samples: 731\n",
      "Tolerable outliers: 4\n",
      "Number of subpopulations: 10000\n"
     ]
    },
    {
     "name": "stderr",
     "output_type": "stream",
     "text": [
      "[Parallel(n_jobs=3)]: Using backend LokyBackend with 3 concurrent workers.\n",
      "[Parallel(n_jobs=3)]: Done   3 out of   3 | elapsed:    8.8s finished\n"
     ]
    },
    {
     "name": "stdout",
     "output_type": "stream",
     "text": [
      "Breakdown point: 0.006490954398717719\n",
      "Number of samples: 731\n",
      "Tolerable outliers: 4\n",
      "Number of subpopulations: 10000\n"
     ]
    },
    {
     "name": "stderr",
     "output_type": "stream",
     "text": [
      "[Parallel(n_jobs=3)]: Using backend LokyBackend with 3 concurrent workers.\n",
      "[Parallel(n_jobs=3)]: Done   3 out of   3 | elapsed:    8.8s finished\n"
     ]
    },
    {
     "name": "stdout",
     "output_type": "stream",
     "text": [
      "Breakdown point: 0.006490954398717719\n",
      "Number of samples: 731\n",
      "Tolerable outliers: 4\n",
      "Number of subpopulations: 10000\n"
     ]
    },
    {
     "name": "stderr",
     "output_type": "stream",
     "text": [
      "[Parallel(n_jobs=3)]: Using backend LokyBackend with 3 concurrent workers.\n",
      "[Parallel(n_jobs=3)]: Done   3 out of   3 | elapsed:    9.2s finished\n"
     ]
    },
    {
     "name": "stdout",
     "output_type": "stream",
     "text": [
      "Breakdown point: 0.006490954398717719\n",
      "Number of samples: 731\n",
      "Tolerable outliers: 4\n",
      "Number of subpopulations: 10000\n"
     ]
    },
    {
     "name": "stderr",
     "output_type": "stream",
     "text": [
      "[Parallel(n_jobs=3)]: Using backend LokyBackend with 3 concurrent workers.\n",
      "[Parallel(n_jobs=3)]: Done   3 out of   3 | elapsed:    8.9s finished\n"
     ]
    },
    {
     "name": "stdout",
     "output_type": "stream",
     "text": [
      "Breakdown point: 0.006492231085747258\n",
      "Number of samples: 732\n",
      "Tolerable outliers: 4\n",
      "Number of subpopulations: 10000\n"
     ]
    },
    {
     "name": "stderr",
     "output_type": "stream",
     "text": [
      "[Parallel(n_jobs=3)]: Using backend LokyBackend with 3 concurrent workers.\n",
      "[Parallel(n_jobs=3)]: Done   3 out of   3 | elapsed:    9.0s finished\n"
     ]
    },
    {
     "name": "stdout",
     "output_type": "stream",
     "text": [
      "Breakdown point: 0.006490954398717719\n",
      "Number of samples: 731\n",
      "Tolerable outliers: 4\n",
      "Number of subpopulations: 10000\n"
     ]
    },
    {
     "name": "stderr",
     "output_type": "stream",
     "text": [
      "[Parallel(n_jobs=3)]: Using backend LokyBackend with 3 concurrent workers.\n",
      "[Parallel(n_jobs=3)]: Done   3 out of   3 | elapsed:    8.9s finished\n"
     ]
    },
    {
     "name": "stdout",
     "output_type": "stream",
     "text": [
      "Breakdown point: 0.006490954398717719\n",
      "Number of samples: 731\n",
      "Tolerable outliers: 4\n",
      "Number of subpopulations: 10000\n"
     ]
    },
    {
     "name": "stderr",
     "output_type": "stream",
     "text": [
      "[Parallel(n_jobs=3)]: Using backend LokyBackend with 3 concurrent workers.\n",
      "[Parallel(n_jobs=3)]: Done   3 out of   3 | elapsed:    8.8s finished\n"
     ]
    },
    {
     "name": "stdout",
     "output_type": "stream",
     "text": [
      "Breakdown point: 0.006490954398717719\n",
      "Number of samples: 731\n",
      "Tolerable outliers: 4\n",
      "Number of subpopulations: 10000\n"
     ]
    },
    {
     "name": "stderr",
     "output_type": "stream",
     "text": [
      "[Parallel(n_jobs=3)]: Using backend LokyBackend with 3 concurrent workers.\n",
      "[Parallel(n_jobs=3)]: Done   3 out of   3 | elapsed:    8.9s finished\n"
     ]
    },
    {
     "name": "stdout",
     "output_type": "stream",
     "text": [
      "Breakdown point: 0.006490954398717719\n",
      "Number of samples: 731\n",
      "Tolerable outliers: 4\n",
      "Number of subpopulations: 10000\n"
     ]
    },
    {
     "name": "stderr",
     "output_type": "stream",
     "text": [
      "[Parallel(n_jobs=3)]: Using backend LokyBackend with 3 concurrent workers.\n",
      "[Parallel(n_jobs=3)]: Done   3 out of   3 | elapsed:    8.9s finished\n"
     ]
    },
    {
     "name": "stdout",
     "output_type": "stream",
     "text": [
      "Breakdown point: 0.006492231085747258\n",
      "Number of samples: 732\n",
      "Tolerable outliers: 4\n",
      "Number of subpopulations: 10000\n"
     ]
    },
    {
     "name": "stderr",
     "output_type": "stream",
     "text": [
      "[Parallel(n_jobs=3)]: Using backend LokyBackend with 3 concurrent workers.\n",
      "[Parallel(n_jobs=3)]: Done   3 out of   3 | elapsed:    9.0s finished\n"
     ]
    },
    {
     "name": "stdout",
     "output_type": "stream",
     "text": [
      "Breakdown point: 0.006678065873253702\n",
      "Number of samples: 914\n",
      "Tolerable outliers: 6\n",
      "Number of subpopulations: 10000\n"
     ]
    },
    {
     "name": "stderr",
     "output_type": "stream",
     "text": [
      "[Parallel(n_jobs=3)]: Using backend LokyBackend with 3 concurrent workers.\n",
      "[Parallel(n_jobs=3)]: Done   3 out of   3 | elapsed:    8.9s finished\n"
     ]
    },
    {
     "data": {
      "text/plain": [
       "GridSearchCV(cv=5, error_score='raise-deprecating',\n",
       "       estimator=TheilSenRegressor(copy_X=True, fit_intercept=True, max_iter=10000,\n",
       "         max_subpopulation=10000, n_jobs=3, n_subsamples=None,\n",
       "         random_state=None, tol=0.001, verbose=False),\n",
       "       fit_params=None, iid='warn', n_jobs=None,\n",
       "       param_grid={'verbose': [True], 'tol': [0.1, 1, 2, 3, 4], 'fit_intercept': [True]},\n",
       "       pre_dispatch='2*n_jobs', refit=True, return_train_score='warn',\n",
       "       scoring=None, verbose=0)"
      ]
     },
     "execution_count": 606,
     "metadata": {},
     "output_type": "execute_result"
    }
   ],
   "source": [
    "theil_params = {\n",
    "    'verbose': [True],\n",
    "    'tol': [0.1,1,2,3,4],\n",
    "    'fit_intercept': [True]\n",
    "}\n",
    "\n",
    "theil_grid = GridSearchCV(\n",
    "        estimator=theil_model,\n",
    "        param_grid=theil_params, cv=5)\n",
    "\n",
    "theil_grid.fit(X_train_mega, y_train_mega)"
   ]
  },
  {
   "cell_type": "code",
   "execution_count": 607,
   "metadata": {
    "hidden": true
   },
   "outputs": [
    {
     "data": {
      "text/plain": [
       "TheilSenRegressor(copy_X=True, fit_intercept=True, max_iter=10000,\n",
       "         max_subpopulation=10000, n_jobs=3, n_subsamples=None,\n",
       "         random_state=None, tol=1, verbose=True)"
      ]
     },
     "execution_count": 607,
     "metadata": {},
     "output_type": "execute_result"
    }
   ],
   "source": [
    "theil_grid.best_estimator_"
   ]
  },
  {
   "cell_type": "code",
   "execution_count": 608,
   "metadata": {
    "hidden": true
   },
   "outputs": [
    {
     "data": {
      "text/plain": [
       "-14.982066964607753"
      ]
     },
     "execution_count": 608,
     "metadata": {},
     "output_type": "execute_result"
    }
   ],
   "source": [
    "theil_grid.score(X_test_mega_std, y_test_mega)"
   ]
  },
  {
   "cell_type": "code",
   "execution_count": null,
   "metadata": {
    "hidden": true
   },
   "outputs": [],
   "source": []
  }
 ],
 "metadata": {
  "kernelspec": {
   "display_name": "Python 3",
   "language": "python",
   "name": "python3"
  },
  "language_info": {
   "codemirror_mode": {
    "name": "ipython",
    "version": 3
   },
   "file_extension": ".py",
   "mimetype": "text/x-python",
   "name": "python",
   "nbconvert_exporter": "python",
   "pygments_lexer": "ipython3",
   "version": "3.6.8"
  },
  "notify_time": "5"
 },
 "nbformat": 4,
 "nbformat_minor": 2
}
