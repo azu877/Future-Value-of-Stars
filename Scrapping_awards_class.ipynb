{
 "cells": [
  {
   "cell_type": "code",
   "execution_count": 3,
   "metadata": {},
   "outputs": [],
   "source": [
    "import requests\n",
    "import bs4\n",
    "from bs4 import BeautifulSoup\n",
    "from tqdm import tqdm_notebook\n",
    "from torrequest import TorRequest\n",
    "from pprint import pprint\n",
    "import pandas as pd\n",
    "from retrying import retry"
   ]
  },
  {
   "cell_type": "code",
   "execution_count": 4,
   "metadata": {},
   "outputs": [],
   "source": [
    "sampled_players = pd.read_csv('/Users/gonzaloferreiro/Documents/GA_Materials/DS_Inmersive/DSI8-lessons/projects/project-capstone/Moving_forward/final_list_of_sampled_players.csv')"
   ]
  },
  {
   "cell_type": "code",
   "execution_count": 8,
   "metadata": {},
   "outputs": [
    {
     "data": {
      "text/html": [
       "<div>\n",
       "<style scoped>\n",
       "    .dataframe tbody tr th:only-of-type {\n",
       "        vertical-align: middle;\n",
       "    }\n",
       "\n",
       "    .dataframe tbody tr th {\n",
       "        vertical-align: top;\n",
       "    }\n",
       "\n",
       "    .dataframe thead th {\n",
       "        text-align: right;\n",
       "    }\n",
       "</style>\n",
       "<table border=\"1\" class=\"dataframe\">\n",
       "  <thead>\n",
       "    <tr style=\"text-align: right;\">\n",
       "      <th></th>\n",
       "      <th>player</th>\n",
       "      <th>lastname</th>\n",
       "      <th>team</th>\n",
       "      <th>link_tm</th>\n",
       "      <th>link_ws</th>\n",
       "    </tr>\n",
       "  </thead>\n",
       "  <tbody>\n",
       "    <tr>\n",
       "      <th>0</th>\n",
       "      <td>Max Clark</td>\n",
       "      <td>Clark</td>\n",
       "      <td>Vitesse</td>\n",
       "      <td>/max-clark/profil/spieler/183291</td>\n",
       "      <td>/Players/313996/Show/Max-Clark</td>\n",
       "    </tr>\n",
       "    <tr>\n",
       "      <th>1</th>\n",
       "      <td>Sergio Postigo</td>\n",
       "      <td>Postigo</td>\n",
       "      <td>Levante</td>\n",
       "      <td>/sergio-postigo/profil/spieler/158791</td>\n",
       "      <td>/Players/109896/Show/Sergio-Postigo</td>\n",
       "    </tr>\n",
       "    <tr>\n",
       "      <th>2</th>\n",
       "      <td>Stanislav Iljutcenko</td>\n",
       "      <td>Iljutcenko</td>\n",
       "      <td>Duisburg</td>\n",
       "      <td>/stanislav-iljutcenko/profil/spieler/191292</td>\n",
       "      <td>/Players/132901/Show/Stanislav-Iljutcenko</td>\n",
       "    </tr>\n",
       "    <tr>\n",
       "      <th>3</th>\n",
       "      <td>Iván Marcone</td>\n",
       "      <td>Marcone</td>\n",
       "      <td>Boca Juniors</td>\n",
       "      <td>/ivan-marcone/profil/spieler/90451</td>\n",
       "      <td>/Players/125246/Show/Iván-Marcone</td>\n",
       "    </tr>\n",
       "    <tr>\n",
       "      <th>4</th>\n",
       "      <td>Florent Mollet</td>\n",
       "      <td>Mollet</td>\n",
       "      <td>Montpellier</td>\n",
       "      <td>/florent-mollet/profil/spieler/222859</td>\n",
       "      <td>/Players/114169/Show/Florent-Mollet</td>\n",
       "    </tr>\n",
       "  </tbody>\n",
       "</table>\n",
       "</div>"
      ],
      "text/plain": [
       "                 player    lastname          team  \\\n",
       "0             Max Clark       Clark       Vitesse   \n",
       "1        Sergio Postigo     Postigo       Levante   \n",
       "2  Stanislav Iljutcenko  Iljutcenko      Duisburg   \n",
       "3          Iván Marcone     Marcone  Boca Juniors   \n",
       "4        Florent Mollet      Mollet   Montpellier   \n",
       "\n",
       "                                       link_tm  \\\n",
       "0             /max-clark/profil/spieler/183291   \n",
       "1        /sergio-postigo/profil/spieler/158791   \n",
       "2  /stanislav-iljutcenko/profil/spieler/191292   \n",
       "3           /ivan-marcone/profil/spieler/90451   \n",
       "4        /florent-mollet/profil/spieler/222859   \n",
       "\n",
       "                                     link_ws  \n",
       "0             /Players/313996/Show/Max-Clark  \n",
       "1        /Players/109896/Show/Sergio-Postigo  \n",
       "2  /Players/132901/Show/Stanislav-Iljutcenko  \n",
       "3          /Players/125246/Show/Iván-Marcone  \n",
       "4        /Players/114169/Show/Florent-Mollet  "
      ]
     },
     "execution_count": 8,
     "metadata": {},
     "output_type": "execute_result"
    }
   ],
   "source": [
    "sampled_players.head()"
   ]
  },
  {
   "cell_type": "code",
   "execution_count": 22,
   "metadata": {
    "code_folding": []
   },
   "outputs": [],
   "source": [
    "class get_awards():\n",
    "    \n",
    "    def _init_(self):\n",
    "        pass\n",
    "        \n",
    "    @retry(wait_fixed=3000)\n",
    "    def get_soup(self, URL):\n",
    "        with TorRequest() as tr:\n",
    "            tr.reset_identity()\n",
    "            headers = {\"User-Agent\":'Mozilla/5.0 (X11; Linux x86_64; rv:7.0.1) Gecko/20100101 Firefox/7.7'}\n",
    "            r = tr.get(URL, headers=headers)\n",
    "            soup = BeautifulSoup(r.text, 'html.parser')\n",
    "            return soup\n",
    "        \n",
    "    def extract_awards(self, soup):\n",
    "        awards = []\n",
    "        for each in soup.find_all('tr', attrs={'class':'bg_Sturm'}):\n",
    "            try:\n",
    "                awards.append(each.find('td', attrs={'colspan':'3'}).text)\n",
    "            except:\n",
    "                awards.append(np.nan)\n",
    "        return awards\n",
    "    \n",
    "    def transform_dataset(self, player, awards):\n",
    "        awards_dict = {}\n",
    "\n",
    "        for each in awards: \n",
    "            \n",
    "            # Excluding \"participant\" awards, excepting for World Cup\n",
    "            if \"participant\" not in each.split(\" \", maxsplit=1)[1] or \"World Cup\" in each.split(\" \", maxsplit=1)[1]:\n",
    "                awards_dict[each.split(\" \", maxsplit=1)[1]] = each.split(\" \", maxsplit=1)[0].replace(\"x\",\"\")\n",
    "\n",
    "        awards_df = pd.DataFrame(awards_dict,index=[player])\n",
    "        return awards_df\n",
    "    \n",
    "    def get_awards(self, list_of_players):\n",
    "        self.list_of_players = list_of_players\n",
    "        awards_df = pd.DataFrame()\n",
    "        list_players = list_of_players.link_tm\n",
    "\n",
    "        for each in tqdm_notebook(list_players):\n",
    "            \n",
    "            n_link = each.replace('profil','erfolge')\n",
    "            new_link = 'https://www.transfermarkt.co.uk' + n_link\n",
    "            soup = self.get_soup(new_link)\n",
    "            awards = self.extract_awards(soup)\n",
    "            player_df = self.transform_dataset(each, awards)\n",
    "\n",
    "            awards_df = pd.concat([awards_df, player_df], axis=0, sort=True)\n",
    "            print(new_link)\n",
    "\n",
    "        return awards_df"
   ]
  },
  {
   "cell_type": "code",
   "execution_count": 23,
   "metadata": {},
   "outputs": [],
   "source": [
    "getting_awards = get_awards()"
   ]
  },
  {
   "cell_type": "code",
   "execution_count": null,
   "metadata": {},
   "outputs": [],
   "source": [
    "test_awards_df = getting_awards.get_awards(sampled_players)"
   ]
  },
  {
   "cell_type": "code",
   "execution_count": 33,
   "metadata": {},
   "outputs": [],
   "source": [
    "test_awards_df.to_csv(r'/Users/gonzaloferreiro/Documents/GA_Materials/DS_Inmersive/DSI8-lessons/projects/project-capstone/Moving_forward/final_players_awards.csv',index=True)\n"
   ]
  },
  {
   "cell_type": "code",
   "execution_count": 30,
   "metadata": {},
   "outputs": [
    {
     "data": {
      "text/plain": [
       "(1200, 259)"
      ]
     },
     "execution_count": 30,
     "metadata": {},
     "output_type": "execute_result"
    }
   ],
   "source": [
    "test_awards_df.shape"
   ]
  },
  {
   "cell_type": "code",
   "execution_count": 34,
   "metadata": {},
   "outputs": [],
   "source": [
    "final_awards = pd.read_csv('/Users/gonzaloferreiro/Documents/GA_Materials/DS_Inmersive/DSI8-lessons/projects/project-capstone/Moving_forward/final_players_awards.csv')"
   ]
  }
 ],
 "metadata": {
  "kernelspec": {
   "display_name": "Python 3",
   "language": "python",
   "name": "python3"
  },
  "language_info": {
   "codemirror_mode": {
    "name": "ipython",
    "version": 3
   },
   "file_extension": ".py",
   "mimetype": "text/x-python",
   "name": "python",
   "nbconvert_exporter": "python",
   "pygments_lexer": "ipython3",
   "version": "3.6.8"
  }
 },
 "nbformat": 4,
 "nbformat_minor": 2
}
