{
 "cells": [
  {
   "cell_type": "code",
   "execution_count": 1,
   "metadata": {},
   "outputs": [],
   "source": [
    "import numpy as np\n",
    "import pandas as pd\n",
    "import souper_v2\n",
    "from tqdm import tqdm_notebook"
   ]
  },
  {
   "cell_type": "code",
   "execution_count": 2,
   "metadata": {},
   "outputs": [],
   "source": [
    "sp = souper_v2.souper()"
   ]
  },
  {
   "cell_type": "code",
   "execution_count": 3,
   "metadata": {},
   "outputs": [],
   "source": [
    "sampled_players = pd.read_csv('/Users/gonzaloferreiro/Documents/GA_Materials/DS_Inmersive/DSI8-lessons/projects/project-capstone/Moving_forward/final_list_of_sampled_players.csv')"
   ]
  },
  {
   "cell_type": "code",
   "execution_count": 4,
   "metadata": {},
   "outputs": [
    {
     "data": {
      "text/html": [
       "<div>\n",
       "<style scoped>\n",
       "    .dataframe tbody tr th:only-of-type {\n",
       "        vertical-align: middle;\n",
       "    }\n",
       "\n",
       "    .dataframe tbody tr th {\n",
       "        vertical-align: top;\n",
       "    }\n",
       "\n",
       "    .dataframe thead th {\n",
       "        text-align: right;\n",
       "    }\n",
       "</style>\n",
       "<table border=\"1\" class=\"dataframe\">\n",
       "  <thead>\n",
       "    <tr style=\"text-align: right;\">\n",
       "      <th></th>\n",
       "      <th>player</th>\n",
       "      <th>lastname</th>\n",
       "      <th>team</th>\n",
       "      <th>link_tm</th>\n",
       "      <th>link_ws</th>\n",
       "    </tr>\n",
       "  </thead>\n",
       "  <tbody>\n",
       "    <tr>\n",
       "      <th>0</th>\n",
       "      <td>Max Clark</td>\n",
       "      <td>Clark</td>\n",
       "      <td>Vitesse</td>\n",
       "      <td>/max-clark/profil/spieler/183291</td>\n",
       "      <td>/Players/313996/Show/Max-Clark</td>\n",
       "    </tr>\n",
       "    <tr>\n",
       "      <th>1</th>\n",
       "      <td>Sergio Postigo</td>\n",
       "      <td>Postigo</td>\n",
       "      <td>Levante</td>\n",
       "      <td>/sergio-postigo/profil/spieler/158791</td>\n",
       "      <td>/Players/109896/Show/Sergio-Postigo</td>\n",
       "    </tr>\n",
       "    <tr>\n",
       "      <th>2</th>\n",
       "      <td>Stanislav Iljutcenko</td>\n",
       "      <td>Iljutcenko</td>\n",
       "      <td>Duisburg</td>\n",
       "      <td>/stanislav-iljutcenko/profil/spieler/191292</td>\n",
       "      <td>/Players/132901/Show/Stanislav-Iljutcenko</td>\n",
       "    </tr>\n",
       "    <tr>\n",
       "      <th>3</th>\n",
       "      <td>Iván Marcone</td>\n",
       "      <td>Marcone</td>\n",
       "      <td>Boca Juniors</td>\n",
       "      <td>/ivan-marcone/profil/spieler/90451</td>\n",
       "      <td>/Players/125246/Show/Iván-Marcone</td>\n",
       "    </tr>\n",
       "    <tr>\n",
       "      <th>4</th>\n",
       "      <td>Florent Mollet</td>\n",
       "      <td>Mollet</td>\n",
       "      <td>Montpellier</td>\n",
       "      <td>/florent-mollet/profil/spieler/222859</td>\n",
       "      <td>/Players/114169/Show/Florent-Mollet</td>\n",
       "    </tr>\n",
       "  </tbody>\n",
       "</table>\n",
       "</div>"
      ],
      "text/plain": [
       "                 player    lastname          team  \\\n",
       "0             Max Clark       Clark       Vitesse   \n",
       "1        Sergio Postigo     Postigo       Levante   \n",
       "2  Stanislav Iljutcenko  Iljutcenko      Duisburg   \n",
       "3          Iván Marcone     Marcone  Boca Juniors   \n",
       "4        Florent Mollet      Mollet   Montpellier   \n",
       "\n",
       "                                       link_tm  \\\n",
       "0             /max-clark/profil/spieler/183291   \n",
       "1        /sergio-postigo/profil/spieler/158791   \n",
       "2  /stanislav-iljutcenko/profil/spieler/191292   \n",
       "3           /ivan-marcone/profil/spieler/90451   \n",
       "4        /florent-mollet/profil/spieler/222859   \n",
       "\n",
       "                                     link_ws  \n",
       "0             /Players/313996/Show/Max-Clark  \n",
       "1        /Players/109896/Show/Sergio-Postigo  \n",
       "2  /Players/132901/Show/Stanislav-Iljutcenko  \n",
       "3          /Players/125246/Show/Iván-Marcone  \n",
       "4        /Players/114169/Show/Florent-Mollet  "
      ]
     },
     "execution_count": 4,
     "metadata": {},
     "output_type": "execute_result"
    }
   ],
   "source": [
    "sampled_players.head()"
   ]
  },
  {
   "cell_type": "code",
   "execution_count": 5,
   "metadata": {
    "code_folding": [
     0
    ]
   },
   "outputs": [],
   "source": [
    "def extract_injuries(soup):\n",
    "    injuries = []\n",
    "    for each in soup.find_all('td', attrs={'class':'rechts'}):\n",
    "        try:\n",
    "            injuries.append(each.text)\n",
    "        except:\n",
    "            None\n",
    "    \n",
    "    return injuries"
   ]
  },
  {
   "cell_type": "code",
   "execution_count": 8,
   "metadata": {
    "code_folding": []
   },
   "outputs": [],
   "source": [
    "def get_injuries(players_df):\n",
    "    \n",
    "    links = players_df.link_tm\n",
    "    \n",
    "    injuries = {'player':[], 'days_missed': [], 'games_missed': []}\n",
    "\n",
    "    for each_link in tqdm_notebook(links):\n",
    "        \n",
    "        results = 0\n",
    "        new_link = each_link.replace(\"profil\",\"verletzungen\")\n",
    "        new_link = 'https://www.transfermarkt.co.uk' + new_link\n",
    "        print(new_link)\n",
    "        soup = sp.get_soup(new_link)\n",
    "        results = extract_injuries(soup)\n",
    "        \n",
    "        try:\n",
    "            days_missed = sum([int(word.replace(\" days\",\"\")) for word in [x for x in results if results.index(x)%2 == 0]])\n",
    "            games_missed = sum([int(word.replace('-', \"0\")) for word in [x for x in results if results.index(x)%2 != 0]])\n",
    "        except:\n",
    "            days_missed = 0\n",
    "            games_missed = 0\n",
    "        \n",
    "        injuries['days_missed'].append(days_missed)\n",
    "        injuries['games_missed'].append(games_missed)\n",
    "        injuries['player'].append(each_link)\n",
    "            \n",
    "    return injuries"
   ]
  },
  {
   "cell_type": "code",
   "execution_count": null,
   "metadata": {
    "scrolled": true
   },
   "outputs": [],
   "source": [
    "test_test_test = get_injuries(sampled_players)"
   ]
  },
  {
   "cell_type": "code",
   "execution_count": 11,
   "metadata": {},
   "outputs": [],
   "source": [
    "injuries_df = pd.DataFrame(test_test_test)"
   ]
  },
  {
   "cell_type": "code",
   "execution_count": 14,
   "metadata": {},
   "outputs": [],
   "source": [
    "injuries_df.to_csv(r'/Users/gonzaloferreiro/Documents/GA_Materials/DS_Inmersive/DSI8-lessons/projects/project-capstone/Moving_forward/final_injuries.csv',index=False)"
   ]
  },
  {
   "cell_type": "code",
   "execution_count": 15,
   "metadata": {},
   "outputs": [],
   "source": [
    "test_loading = pd.read_csv('/Users/gonzaloferreiro/Documents/GA_Materials/DS_Inmersive/DSI8-lessons/projects/project-capstone/Moving_forward/final_injuries.csv')"
   ]
  },
  {
   "cell_type": "code",
   "execution_count": 16,
   "metadata": {},
   "outputs": [
    {
     "data": {
      "text/html": [
       "<div>\n",
       "<style scoped>\n",
       "    .dataframe tbody tr th:only-of-type {\n",
       "        vertical-align: middle;\n",
       "    }\n",
       "\n",
       "    .dataframe tbody tr th {\n",
       "        vertical-align: top;\n",
       "    }\n",
       "\n",
       "    .dataframe thead th {\n",
       "        text-align: right;\n",
       "    }\n",
       "</style>\n",
       "<table border=\"1\" class=\"dataframe\">\n",
       "  <thead>\n",
       "    <tr style=\"text-align: right;\">\n",
       "      <th></th>\n",
       "      <th>player</th>\n",
       "      <th>days_missed</th>\n",
       "      <th>games_missed</th>\n",
       "    </tr>\n",
       "  </thead>\n",
       "  <tbody>\n",
       "    <tr>\n",
       "      <th>0</th>\n",
       "      <td>/max-clark/profil/spieler/183291</td>\n",
       "      <td>0</td>\n",
       "      <td>0</td>\n",
       "    </tr>\n",
       "    <tr>\n",
       "      <th>1</th>\n",
       "      <td>/sergio-postigo/profil/spieler/158791</td>\n",
       "      <td>89</td>\n",
       "      <td>13</td>\n",
       "    </tr>\n",
       "    <tr>\n",
       "      <th>2</th>\n",
       "      <td>/stanislav-iljutcenko/profil/spieler/191292</td>\n",
       "      <td>3</td>\n",
       "      <td>0</td>\n",
       "    </tr>\n",
       "    <tr>\n",
       "      <th>3</th>\n",
       "      <td>/ivan-marcone/profil/spieler/90451</td>\n",
       "      <td>0</td>\n",
       "      <td>0</td>\n",
       "    </tr>\n",
       "    <tr>\n",
       "      <th>4</th>\n",
       "      <td>/florent-mollet/profil/spieler/222859</td>\n",
       "      <td>0</td>\n",
       "      <td>0</td>\n",
       "    </tr>\n",
       "  </tbody>\n",
       "</table>\n",
       "</div>"
      ],
      "text/plain": [
       "                                        player  days_missed  games_missed\n",
       "0             /max-clark/profil/spieler/183291            0             0\n",
       "1        /sergio-postigo/profil/spieler/158791           89            13\n",
       "2  /stanislav-iljutcenko/profil/spieler/191292            3             0\n",
       "3           /ivan-marcone/profil/spieler/90451            0             0\n",
       "4        /florent-mollet/profil/spieler/222859            0             0"
      ]
     },
     "execution_count": 16,
     "metadata": {},
     "output_type": "execute_result"
    }
   ],
   "source": [
    "test_loading.head()"
   ]
  }
 ],
 "metadata": {
  "kernelspec": {
   "display_name": "Python 3",
   "language": "python",
   "name": "python3"
  },
  "language_info": {
   "codemirror_mode": {
    "name": "ipython",
    "version": 3
   },
   "file_extension": ".py",
   "mimetype": "text/x-python",
   "name": "python",
   "nbconvert_exporter": "python",
   "pygments_lexer": "ipython3",
   "version": "3.6.8"
  }
 },
 "nbformat": 4,
 "nbformat_minor": 2
}
