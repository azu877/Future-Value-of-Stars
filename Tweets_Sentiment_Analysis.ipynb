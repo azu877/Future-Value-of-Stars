{
 "cells": [
  {
   "cell_type": "code",
   "execution_count": 65,
   "metadata": {},
   "outputs": [],
   "source": [
    "import re \n",
    "import tweepy \n",
    "from tweepy import OAuthHandler \n",
    "from textblob import TextBlob \n",
    "import pandas as pd\n",
    "from retrying import retry\n",
    "from tqdm import tqdm_notebook\n",
    "from datetime import tzinfo, timedelta, datetime"
   ]
  },
  {
   "cell_type": "code",
   "execution_count": 146,
   "metadata": {},
   "outputs": [],
   "source": [
    "# 1)     polarity: negative vs. positive    (-1.0 => +1.0)\n",
    "# 2) subjectivity: objective vs. subjective (+0.0 => +1.0)"
   ]
  },
  {
   "cell_type": "code",
   "execution_count": 44,
   "metadata": {
    "code_folding": [
     0
    ]
   },
   "outputs": [],
   "source": [
    "class TwitterClient(object): \n",
    "\n",
    "    def __init__(self):\n",
    "        self.auth = None\n",
    "        self.api = None\n",
    "  \n",
    "    def clean_tweet(self, tweet): \n",
    "        return' '.join(re.sub(\"(@[A-Za-z0-9]+)|([^0-9A-Za-z \\t])|(\\w+:\\/\\/\\S+)\", \" \", tweet).split())\n",
    "  \n",
    "    def get_tweet_sentiment(self, tweet): \n",
    "\n",
    "        # create TextBlob object of passed tweet text \n",
    "        analysis = TextBlob(self.clean_tweet(tweet)) \n",
    "        # set sentiment \n",
    "        if analysis.sentiment.polarity > 0.01: \n",
    "            return('positive', analysis.sentiment)\n",
    "        elif analysis.sentiment.polarity < -0.01: \n",
    "            return('negative', analysis.sentiment)\n",
    "        else: \n",
    "            return('neutral', analysis.sentiment)\n",
    "  \n",
    "    #@retry(wait_fixed=960000) # Waits 16 minutes to ask again in case of exceeding limits\n",
    "    def get_tweets(self, query, count): \n",
    "        \n",
    "        # keys and tokens from the Twitter Dev Console \n",
    "        consumer_key = 'LikHDXdKm5uI5fnNVJqRcurmi'\n",
    "        consumer_secret = 'kSvyN9dMKYMMbVd9IPsyPhWUEqdmzzVR0po6DUhwrmLARDB6y4'\n",
    "        access_token = '236803367-0J9UCR2IOas4zlp6pDziQdmXq5yvkROpldq70a0O'\n",
    "        access_token_secret = 'tOVubG5jpLvtw8WGEW4usjdeTSHXCmZboVCbx32VgmRrG'\n",
    "  \n",
    "        # attempt authentication \n",
    "        try: \n",
    "            # create OAuthHandler object \n",
    "            self.auth = OAuthHandler(consumer_key, consumer_secret) \n",
    "            # set access token and secret \n",
    "            self.auth.set_access_token(access_token, access_token_secret) \n",
    "            # create tweepy API object to fetch tweets \n",
    "            self.api = tweepy.API(self.auth) \n",
    "        except: \n",
    "            print(\"Error: Authentication Failed\") \n",
    "\n",
    "        # empty list to store parsed tweets \n",
    "        tweets = {\"Tweet\": [],\n",
    "                 \"Sentiment\": [],\n",
    "                 \"Kind\": []}\n",
    "  \n",
    "        # Excluding retweets\n",
    "        query = query + ' -filter:retweets'\n",
    "        \n",
    "        try: \n",
    "            # call twitter api to fetch tweets \n",
    "            fetched_tweets = tweepy.Cursor(self.api.search,\n",
    "                                           q=query,\n",
    "                                           lang = \"en\").items(count)\n",
    "  \n",
    "            # parsing tweets one by one \n",
    "            for tweet in fetched_tweets: \n",
    "  \n",
    "                # saving text of tweet \n",
    "                parsed_tweet = tweet.text \n",
    "                # saving sentiment of tweet \n",
    "                kind, sentiment = self.get_tweet_sentiment(tweet.text) \n",
    "                \n",
    "                tweets['Tweet'].append(parsed_tweet)\n",
    "                tweets[\"Sentiment\"].append(sentiment)\n",
    "                tweets['Kind'].append(kind)\n",
    "  \n",
    "            # return parsed tweets \n",
    "            return tweets \n",
    "  \n",
    "        except tweepy.TweepError as e: \n",
    "            # print error (if any) \n",
    "            print(\"Error : \" + str(e)) "
   ]
  },
  {
   "cell_type": "code",
   "execution_count": 73,
   "metadata": {
    "code_folding": [
     0,
     19,
     45
    ]
   },
   "outputs": [],
   "source": [
    "def main(query_df, count_int): \n",
    "    \n",
    "    # creating object of TwitterClient Class \n",
    "    api = TwitterClient() \n",
    "    \n",
    "    # creating empty df\n",
    "    tweets_df = pd.DataFrame(columns=['Tweet','Sentiment','Kind','Keyword','Link'])\n",
    "    \n",
    "    # calling function to get tweets \n",
    "    for each_kw, each_link in tqdm_notebook(zip(query_df.keyword, query_df.link)):\n",
    "        player_tweets = api.get_tweets(query = each_kw, count = count_int) \n",
    "        player_tweets_df = pd.DataFrame(player_tweets)\n",
    "        player_tweets_df[\"Keyword\"] = each_kw\n",
    "        player_tweets_df['Link'] = each_link\n",
    "        tweets_df = pd.concat([tweets_df, player_tweets_df], axis=0)\n",
    "        print(each_link)\n",
    "    \n",
    "    return(tweets_df)\n",
    "\n",
    "def obtain_summary(tweets):\n",
    "    \n",
    "    players = list(tweets.Keyword.value_counts().index)\n",
    "    \n",
    "    # creating empty df\n",
    "    sentiment_df = pd.DataFrame(columns=['Keyword', 'Link', 'Positive','Negative','Neutral'])\n",
    "    \n",
    "    for each in players:\n",
    "        \n",
    "        # percentage of positive tweets\n",
    "        ptweets = [tweet for tweet in tweets.Tweet[(tweets.Keyword == each) & (tweets.Kind == 'positive')]]  \n",
    "        pospercentage = (100*len(ptweets)/len(tweets.Tweet[tweets.Keyword == each]))\n",
    "        # percentage of negative tweets \n",
    "        ntweets = [tweet for tweet in tweets.Tweet[(tweets.Keyword == each) & (tweets.Kind == 'negative')]]\n",
    "        negpercentage = (100*len(ntweets)/len(tweets.Tweet[tweets.Keyword == each]))\n",
    "        # percentage of neutral tweets \n",
    "        neupercentage = (100-pospercentage-negpercentage)\n",
    "        \n",
    "        link = tweets.Link[tweets.Keyword == each]\n",
    "        \n",
    "        summary = [each, link, pospercentage, negpercentage, neupercentage]\n",
    "        \n",
    "        sentiment_df.loc[len(sentiment_df)] = summary\n",
    "            \n",
    "    return(sentiment_df)\n",
    "\n",
    "def print_status():\n",
    "    \n",
    "    consumer_key = ''\n",
    "    consumer_secret = ''\n",
    "    access_token = ''\n",
    "    access_token_secret = ''\n",
    "\n",
    "\n",
    "    auth = OAuthHandler(consumer_key, consumer_secret) \n",
    "    auth.set_access_token(access_token, access_token_secret) \n",
    "    api = tweepy.API(auth)\n",
    "    \n",
    "    data = api.rate_limit_status()\n",
    "    remaining_tweets = data['resources']['search']['/search/tweets']['remaining']\n",
    "    remaining_time = data['resources']['search']['/search/tweets']['reset']\n",
    "    \n",
    "    print('Remaining queries: ' + str(remaining_tweets))\n",
    "    if remaining_tweets == 0:\n",
    "        print('Remaining time: ' + datetime.utcfromtimestamp(remaining_time).strftime('%Y-%m-%d %H:%M:%S'))"
   ]
  },
  {
   "cell_type": "markdown",
   "metadata": {},
   "source": [
    "### Running functions"
   ]
  },
  {
   "cell_type": "code",
   "execution_count": 85,
   "metadata": {},
   "outputs": [],
   "source": [
    "final_summary = pd.DataFrame(columns=['Keyword', 'Link', 'Positive','Negative','Neutral'])"
   ]
  },
  {
   "cell_type": "code",
   "execution_count": 5,
   "metadata": {},
   "outputs": [],
   "source": [
    "sampled_players = pd.read_csv('/Users/gonzaloferreiro/Documents/GA_Materials/DS_Inmersive/DSI8-lessons/projects/project-capstone/Moving_forward/Final_datasets/final_list_of_sampled_players.csv')"
   ]
  },
  {
   "cell_type": "code",
   "execution_count": 6,
   "metadata": {},
   "outputs": [
    {
     "data": {
      "text/html": [
       "<div>\n",
       "<style scoped>\n",
       "    .dataframe tbody tr th:only-of-type {\n",
       "        vertical-align: middle;\n",
       "    }\n",
       "\n",
       "    .dataframe tbody tr th {\n",
       "        vertical-align: top;\n",
       "    }\n",
       "\n",
       "    .dataframe thead th {\n",
       "        text-align: right;\n",
       "    }\n",
       "</style>\n",
       "<table border=\"1\" class=\"dataframe\">\n",
       "  <thead>\n",
       "    <tr style=\"text-align: right;\">\n",
       "      <th></th>\n",
       "      <th>player</th>\n",
       "      <th>lastname</th>\n",
       "      <th>team</th>\n",
       "      <th>link_tm</th>\n",
       "      <th>link_ws</th>\n",
       "    </tr>\n",
       "  </thead>\n",
       "  <tbody>\n",
       "    <tr>\n",
       "      <th>0</th>\n",
       "      <td>Max Clark</td>\n",
       "      <td>Clark</td>\n",
       "      <td>Vitesse</td>\n",
       "      <td>/max-clark/profil/spieler/183291</td>\n",
       "      <td>/Players/313996/Show/Max-Clark</td>\n",
       "    </tr>\n",
       "    <tr>\n",
       "      <th>1</th>\n",
       "      <td>Sergio Postigo</td>\n",
       "      <td>Postigo</td>\n",
       "      <td>Levante</td>\n",
       "      <td>/sergio-postigo/profil/spieler/158791</td>\n",
       "      <td>/Players/109896/Show/Sergio-Postigo</td>\n",
       "    </tr>\n",
       "    <tr>\n",
       "      <th>2</th>\n",
       "      <td>Stanislav Iljutcenko</td>\n",
       "      <td>Iljutcenko</td>\n",
       "      <td>Duisburg</td>\n",
       "      <td>/stanislav-iljutcenko/profil/spieler/191292</td>\n",
       "      <td>/Players/132901/Show/Stanislav-Iljutcenko</td>\n",
       "    </tr>\n",
       "    <tr>\n",
       "      <th>3</th>\n",
       "      <td>Iván Marcone</td>\n",
       "      <td>Marcone</td>\n",
       "      <td>Boca Juniors</td>\n",
       "      <td>/ivan-marcone/profil/spieler/90451</td>\n",
       "      <td>/Players/125246/Show/Iván-Marcone</td>\n",
       "    </tr>\n",
       "    <tr>\n",
       "      <th>4</th>\n",
       "      <td>Florent Mollet</td>\n",
       "      <td>Mollet</td>\n",
       "      <td>Montpellier</td>\n",
       "      <td>/florent-mollet/profil/spieler/222859</td>\n",
       "      <td>/Players/114169/Show/Florent-Mollet</td>\n",
       "    </tr>\n",
       "  </tbody>\n",
       "</table>\n",
       "</div>"
      ],
      "text/plain": [
       "                 player    lastname          team  \\\n",
       "0             Max Clark       Clark       Vitesse   \n",
       "1        Sergio Postigo     Postigo       Levante   \n",
       "2  Stanislav Iljutcenko  Iljutcenko      Duisburg   \n",
       "3          Iván Marcone     Marcone  Boca Juniors   \n",
       "4        Florent Mollet      Mollet   Montpellier   \n",
       "\n",
       "                                       link_tm  \\\n",
       "0             /max-clark/profil/spieler/183291   \n",
       "1        /sergio-postigo/profil/spieler/158791   \n",
       "2  /stanislav-iljutcenko/profil/spieler/191292   \n",
       "3           /ivan-marcone/profil/spieler/90451   \n",
       "4        /florent-mollet/profil/spieler/222859   \n",
       "\n",
       "                                     link_ws  \n",
       "0             /Players/313996/Show/Max-Clark  \n",
       "1        /Players/109896/Show/Sergio-Postigo  \n",
       "2  /Players/132901/Show/Stanislav-Iljutcenko  \n",
       "3          /Players/125246/Show/Iván-Marcone  \n",
       "4        /Players/114169/Show/Florent-Mollet  "
      ]
     },
     "execution_count": 6,
     "metadata": {},
     "output_type": "execute_result"
    }
   ],
   "source": [
    "sampled_players.head()"
   ]
  },
  {
   "cell_type": "code",
   "execution_count": 52,
   "metadata": {},
   "outputs": [],
   "source": [
    "# Creating query dataframe\n",
    "\n",
    "query_dict = {'keyword':[], 'link':[]}\n",
    "for each_team, each_name, each_link in zip(sampled_players.team, sampled_players.player, sampled_players.link_ws):\n",
    "    concatenated = each_name + \" \" + each_team\n",
    "    query_dict['keyword'].append(concatenated)\n",
    "    query_dict['link'].append(each_link)"
   ]
  },
  {
   "cell_type": "code",
   "execution_count": 53,
   "metadata": {},
   "outputs": [],
   "source": [
    "query_df = pd.DataFrame(query_dict)"
   ]
  },
  {
   "cell_type": "code",
   "execution_count": 135,
   "metadata": {},
   "outputs": [],
   "source": [
    "pre_summary_df = obtain_summary(tweets_for_sentiment)"
   ]
  },
  {
   "cell_type": "code",
   "execution_count": null,
   "metadata": {},
   "outputs": [],
   "source": [
    "# Function to run query every 15 minutes\n",
    "\n",
    "import time\n",
    "\n",
    "its = 0\n",
    "from_pos = 220\n",
    "while True:\n",
    "    to_pos = from_pos + 55\n",
    "    tweets_for_sentiment = main(query_df.iloc[from_pos:to_pos], 200)\n",
    "    pre_summary_df = obtain_summary(tweets_for_sentiment)\n",
    "    final_summary = pd.concat([final_summary, pre_summary_df], axis=0)\n",
    "    its = its + 1\n",
    "    from_pos = from_pos + 55\n",
    "    if its == 17:\n",
    "        break\n",
    "    else:\n",
    "        print(from_pos)\n",
    "        print(final_summary.shape)\n",
    "        time.sleep(960)"
   ]
  },
  {
   "cell_type": "code",
   "execution_count": 147,
   "metadata": {
    "scrolled": false
   },
   "outputs": [
    {
     "name": "stdout",
     "output_type": "stream",
     "text": [
      "Remaining queries: 180\n"
     ]
    }
   ],
   "source": [
    "print_status()"
   ]
  },
  {
   "cell_type": "code",
   "execution_count": null,
   "metadata": {
    "scrolled": true
   },
   "outputs": [],
   "source": [
    "# Obtaining final players\n",
    "\n",
    "tweets_for_sentiment = main(query_df.iloc[1188], 200)"
   ]
  },
  {
   "cell_type": "code",
   "execution_count": 135,
   "metadata": {},
   "outputs": [],
   "source": [
    "pre_summary_df = obtain_summary(tweets_for_sentiment)"
   ]
  },
  {
   "cell_type": "code",
   "execution_count": 131,
   "metadata": {},
   "outputs": [],
   "source": [
    "final_summary = pd.concat([final_summary, pre_summary_df], axis=0)"
   ]
  },
  {
   "cell_type": "code",
   "execution_count": 132,
   "metadata": {},
   "outputs": [
    {
     "data": {
      "text/html": [
       "<div>\n",
       "<style scoped>\n",
       "    .dataframe tbody tr th:only-of-type {\n",
       "        vertical-align: middle;\n",
       "    }\n",
       "\n",
       "    .dataframe tbody tr th {\n",
       "        vertical-align: top;\n",
       "    }\n",
       "\n",
       "    .dataframe thead th {\n",
       "        text-align: right;\n",
       "    }\n",
       "</style>\n",
       "<table border=\"1\" class=\"dataframe\">\n",
       "  <thead>\n",
       "    <tr style=\"text-align: right;\">\n",
       "      <th></th>\n",
       "      <th>Keyword</th>\n",
       "      <th>Link</th>\n",
       "      <th>Positive</th>\n",
       "      <th>Negative</th>\n",
       "      <th>Neutral</th>\n",
       "    </tr>\n",
       "  </thead>\n",
       "  <tbody>\n",
       "    <tr>\n",
       "      <th>0</th>\n",
       "      <td>Trent Alexander-Arnold Liverpool</td>\n",
       "      <td>0      /Players/318871/Show/Trent-Alexander-Ar...</td>\n",
       "      <td>60.000000</td>\n",
       "      <td>4.500000</td>\n",
       "      <td>35.500000</td>\n",
       "    </tr>\n",
       "    <tr>\n",
       "      <th>1</th>\n",
       "      <td>Pierre-Emerick Aubameyang Arsenal</td>\n",
       "      <td>0      /Players/44120/Show/Pierre-Emerick-Auba...</td>\n",
       "      <td>33.000000</td>\n",
       "      <td>3.000000</td>\n",
       "      <td>64.000000</td>\n",
       "    </tr>\n",
       "    <tr>\n",
       "      <th>2</th>\n",
       "      <td>Neymar Paris Saint-Germain</td>\n",
       "      <td>0      /Players/50835/Show/Neymar\n",
       "1      /Play...</td>\n",
       "      <td>24.000000</td>\n",
       "      <td>10.500000</td>\n",
       "      <td>65.500000</td>\n",
       "    </tr>\n",
       "    <tr>\n",
       "      <th>3</th>\n",
       "      <td>Jordan Henderson Liverpool</td>\n",
       "      <td>0      /Players/68659/Show/Jordan-Henderson\n",
       "1 ...</td>\n",
       "      <td>54.500000</td>\n",
       "      <td>8.000000</td>\n",
       "      <td>37.500000</td>\n",
       "    </tr>\n",
       "    <tr>\n",
       "      <th>4</th>\n",
       "      <td>Shkodran Mustafi Arsenal</td>\n",
       "      <td>0      /Players/80921/Show/Shkodran-Mustafi\n",
       "1 ...</td>\n",
       "      <td>40.397351</td>\n",
       "      <td>4.635762</td>\n",
       "      <td>54.966887</td>\n",
       "    </tr>\n",
       "  </tbody>\n",
       "</table>\n",
       "</div>"
      ],
      "text/plain": [
       "                             Keyword  \\\n",
       "0   Trent Alexander-Arnold Liverpool   \n",
       "1  Pierre-Emerick Aubameyang Arsenal   \n",
       "2         Neymar Paris Saint-Germain   \n",
       "3         Jordan Henderson Liverpool   \n",
       "4           Shkodran Mustafi Arsenal   \n",
       "\n",
       "                                                Link   Positive   Negative  \\\n",
       "0  0      /Players/318871/Show/Trent-Alexander-Ar...  60.000000   4.500000   \n",
       "1  0      /Players/44120/Show/Pierre-Emerick-Auba...  33.000000   3.000000   \n",
       "2  0      /Players/50835/Show/Neymar\n",
       "1      /Play...  24.000000  10.500000   \n",
       "3  0      /Players/68659/Show/Jordan-Henderson\n",
       "1 ...  54.500000   8.000000   \n",
       "4  0      /Players/80921/Show/Shkodran-Mustafi\n",
       "1 ...  40.397351   4.635762   \n",
       "\n",
       "     Neutral  \n",
       "0  35.500000  \n",
       "1  64.000000  \n",
       "2  65.500000  \n",
       "3  37.500000  \n",
       "4  54.966887  "
      ]
     },
     "execution_count": 132,
     "metadata": {},
     "output_type": "execute_result"
    }
   ],
   "source": [
    "final_summary.head()"
   ]
  },
  {
   "cell_type": "code",
   "execution_count": 133,
   "metadata": {},
   "outputs": [
    {
     "data": {
      "text/plain": [
       "(551, 5)"
      ]
     },
     "execution_count": 133,
     "metadata": {},
     "output_type": "execute_result"
    }
   ],
   "source": [
    "final_summary.shape"
   ]
  },
  {
   "cell_type": "code",
   "execution_count": 144,
   "metadata": {},
   "outputs": [],
   "source": [
    "final_uniques = final_summary.drop_duplicates(subset=['Keyword'])"
   ]
  },
  {
   "cell_type": "code",
   "execution_count": 145,
   "metadata": {},
   "outputs": [
    {
     "data": {
      "text/plain": [
       "(408, 5)"
      ]
     },
     "execution_count": 145,
     "metadata": {},
     "output_type": "execute_result"
    }
   ],
   "source": [
    "final_uniques.shape"
   ]
  },
  {
   "cell_type": "markdown",
   "metadata": {},
   "source": [
    "### Saving and testing loading"
   ]
  },
  {
   "cell_type": "code",
   "execution_count": 163,
   "metadata": {},
   "outputs": [],
   "source": [
    "final_uniques.to_csv(r'/Users/gonzaloferreiro/Documents/GA_Materials/DS_Inmersive/DSI8-lessons/projects/project-capstone/Moving_forward/Final_datasets/final_tweets.csv',index=False)"
   ]
  },
  {
   "cell_type": "code",
   "execution_count": 165,
   "metadata": {},
   "outputs": [],
   "source": [
    "test_loading = pd.read_csv('/Users/gonzaloferreiro/Documents/GA_Materials/DS_Inmersive/DSI8-lessons/projects/project-capstone/Moving_forward/Final_datasets/final_tweets.csv')"
   ]
  },
  {
   "cell_type": "code",
   "execution_count": 167,
   "metadata": {},
   "outputs": [
    {
     "data": {
      "text/html": [
       "<div>\n",
       "<style scoped>\n",
       "    .dataframe tbody tr th:only-of-type {\n",
       "        vertical-align: middle;\n",
       "    }\n",
       "\n",
       "    .dataframe tbody tr th {\n",
       "        vertical-align: top;\n",
       "    }\n",
       "\n",
       "    .dataframe thead th {\n",
       "        text-align: right;\n",
       "    }\n",
       "</style>\n",
       "<table border=\"1\" class=\"dataframe\">\n",
       "  <thead>\n",
       "    <tr style=\"text-align: right;\">\n",
       "      <th></th>\n",
       "      <th>Keyword</th>\n",
       "      <th>Link</th>\n",
       "      <th>Positive</th>\n",
       "      <th>Negative</th>\n",
       "      <th>Neutral</th>\n",
       "    </tr>\n",
       "  </thead>\n",
       "  <tbody>\n",
       "    <tr>\n",
       "      <th>0</th>\n",
       "      <td>Trent Alexander-Arnold Liverpool</td>\n",
       "      <td>0      /Players/318871/Show/Trent-Alexander-Ar...</td>\n",
       "      <td>60.000000</td>\n",
       "      <td>4.500000</td>\n",
       "      <td>35.500000</td>\n",
       "    </tr>\n",
       "    <tr>\n",
       "      <th>1</th>\n",
       "      <td>Pierre-Emerick Aubameyang Arsenal</td>\n",
       "      <td>0      /Players/44120/Show/Pierre-Emerick-Auba...</td>\n",
       "      <td>33.000000</td>\n",
       "      <td>3.000000</td>\n",
       "      <td>64.000000</td>\n",
       "    </tr>\n",
       "    <tr>\n",
       "      <th>2</th>\n",
       "      <td>Neymar Paris Saint-Germain</td>\n",
       "      <td>0      /Players/50835/Show/Neymar\n",
       "1      /Play...</td>\n",
       "      <td>24.000000</td>\n",
       "      <td>10.500000</td>\n",
       "      <td>65.500000</td>\n",
       "    </tr>\n",
       "    <tr>\n",
       "      <th>3</th>\n",
       "      <td>Jordan Henderson Liverpool</td>\n",
       "      <td>0      /Players/68659/Show/Jordan-Henderson\n",
       "1 ...</td>\n",
       "      <td>54.500000</td>\n",
       "      <td>8.000000</td>\n",
       "      <td>37.500000</td>\n",
       "    </tr>\n",
       "    <tr>\n",
       "      <th>4</th>\n",
       "      <td>Shkodran Mustafi Arsenal</td>\n",
       "      <td>0      /Players/80921/Show/Shkodran-Mustafi\n",
       "1 ...</td>\n",
       "      <td>40.397351</td>\n",
       "      <td>4.635762</td>\n",
       "      <td>54.966887</td>\n",
       "    </tr>\n",
       "  </tbody>\n",
       "</table>\n",
       "</div>"
      ],
      "text/plain": [
       "                             Keyword  \\\n",
       "0   Trent Alexander-Arnold Liverpool   \n",
       "1  Pierre-Emerick Aubameyang Arsenal   \n",
       "2         Neymar Paris Saint-Germain   \n",
       "3         Jordan Henderson Liverpool   \n",
       "4           Shkodran Mustafi Arsenal   \n",
       "\n",
       "                                                Link   Positive   Negative  \\\n",
       "0  0      /Players/318871/Show/Trent-Alexander-Ar...  60.000000   4.500000   \n",
       "1  0      /Players/44120/Show/Pierre-Emerick-Auba...  33.000000   3.000000   \n",
       "2  0      /Players/50835/Show/Neymar\n",
       "1      /Play...  24.000000  10.500000   \n",
       "3  0      /Players/68659/Show/Jordan-Henderson\n",
       "1 ...  54.500000   8.000000   \n",
       "4  0      /Players/80921/Show/Shkodran-Mustafi\n",
       "1 ...  40.397351   4.635762   \n",
       "\n",
       "     Neutral  \n",
       "0  35.500000  \n",
       "1  64.000000  \n",
       "2  65.500000  \n",
       "3  37.500000  \n",
       "4  54.966887  "
      ]
     },
     "execution_count": 167,
     "metadata": {},
     "output_type": "execute_result"
    }
   ],
   "source": [
    "final_uniques.head()"
   ]
  },
  {
   "cell_type": "code",
   "execution_count": 168,
   "metadata": {},
   "outputs": [
    {
     "data": {
      "text/html": [
       "<div>\n",
       "<style scoped>\n",
       "    .dataframe tbody tr th:only-of-type {\n",
       "        vertical-align: middle;\n",
       "    }\n",
       "\n",
       "    .dataframe tbody tr th {\n",
       "        vertical-align: top;\n",
       "    }\n",
       "\n",
       "    .dataframe thead th {\n",
       "        text-align: right;\n",
       "    }\n",
       "</style>\n",
       "<table border=\"1\" class=\"dataframe\">\n",
       "  <thead>\n",
       "    <tr style=\"text-align: right;\">\n",
       "      <th></th>\n",
       "      <th>Keyword</th>\n",
       "      <th>Link</th>\n",
       "      <th>Positive</th>\n",
       "      <th>Negative</th>\n",
       "      <th>Neutral</th>\n",
       "    </tr>\n",
       "  </thead>\n",
       "  <tbody>\n",
       "    <tr>\n",
       "      <th>0</th>\n",
       "      <td>Trent Alexander-Arnold Liverpool</td>\n",
       "      <td>0      /Players/318871/Show/Trent-Alexander-Ar...</td>\n",
       "      <td>60.000000</td>\n",
       "      <td>4.500000</td>\n",
       "      <td>35.500000</td>\n",
       "    </tr>\n",
       "    <tr>\n",
       "      <th>1</th>\n",
       "      <td>Pierre-Emerick Aubameyang Arsenal</td>\n",
       "      <td>0      /Players/44120/Show/Pierre-Emerick-Auba...</td>\n",
       "      <td>33.000000</td>\n",
       "      <td>3.000000</td>\n",
       "      <td>64.000000</td>\n",
       "    </tr>\n",
       "    <tr>\n",
       "      <th>2</th>\n",
       "      <td>Neymar Paris Saint-Germain</td>\n",
       "      <td>0      /Players/50835/Show/Neymar\\n1      /Pla...</td>\n",
       "      <td>24.000000</td>\n",
       "      <td>10.500000</td>\n",
       "      <td>65.500000</td>\n",
       "    </tr>\n",
       "    <tr>\n",
       "      <th>3</th>\n",
       "      <td>Jordan Henderson Liverpool</td>\n",
       "      <td>0      /Players/68659/Show/Jordan-Henderson\\n1...</td>\n",
       "      <td>54.500000</td>\n",
       "      <td>8.000000</td>\n",
       "      <td>37.500000</td>\n",
       "    </tr>\n",
       "    <tr>\n",
       "      <th>4</th>\n",
       "      <td>Shkodran Mustafi Arsenal</td>\n",
       "      <td>0      /Players/80921/Show/Shkodran-Mustafi\\n1...</td>\n",
       "      <td>40.397351</td>\n",
       "      <td>4.635762</td>\n",
       "      <td>54.966887</td>\n",
       "    </tr>\n",
       "  </tbody>\n",
       "</table>\n",
       "</div>"
      ],
      "text/plain": [
       "                             Keyword  \\\n",
       "0   Trent Alexander-Arnold Liverpool   \n",
       "1  Pierre-Emerick Aubameyang Arsenal   \n",
       "2         Neymar Paris Saint-Germain   \n",
       "3         Jordan Henderson Liverpool   \n",
       "4           Shkodran Mustafi Arsenal   \n",
       "\n",
       "                                                Link   Positive   Negative  \\\n",
       "0  0      /Players/318871/Show/Trent-Alexander-Ar...  60.000000   4.500000   \n",
       "1  0      /Players/44120/Show/Pierre-Emerick-Auba...  33.000000   3.000000   \n",
       "2  0      /Players/50835/Show/Neymar\\n1      /Pla...  24.000000  10.500000   \n",
       "3  0      /Players/68659/Show/Jordan-Henderson\\n1...  54.500000   8.000000   \n",
       "4  0      /Players/80921/Show/Shkodran-Mustafi\\n1...  40.397351   4.635762   \n",
       "\n",
       "     Neutral  \n",
       "0  35.500000  \n",
       "1  64.000000  \n",
       "2  65.500000  \n",
       "3  37.500000  \n",
       "4  54.966887  "
      ]
     },
     "execution_count": 168,
     "metadata": {},
     "output_type": "execute_result"
    }
   ],
   "source": [
    "test_loading.head()"
   ]
  },
  {
   "cell_type": "markdown",
   "metadata": {},
   "source": [
    "### Checking just in case players not founded "
   ]
  },
  {
   "cell_type": "code",
   "execution_count": 155,
   "metadata": {},
   "outputs": [],
   "source": [
    "test = query_df[~query_df.keyword.isin(final_uniques.Keyword)]"
   ]
  },
  {
   "cell_type": "code",
   "execution_count": null,
   "metadata": {},
   "outputs": [],
   "source": [
    "tweets_for_sentiment = main(test.iloc[:100], 200)"
   ]
  },
  {
   "cell_type": "code",
   "execution_count": 158,
   "metadata": {},
   "outputs": [],
   "source": [
    "test_summary_df = obtain_summary(tweets_for_sentiment)"
   ]
  },
  {
   "cell_type": "code",
   "execution_count": 159,
   "metadata": {},
   "outputs": [
    {
     "data": {
      "text/html": [
       "<div>\n",
       "<style scoped>\n",
       "    .dataframe tbody tr th:only-of-type {\n",
       "        vertical-align: middle;\n",
       "    }\n",
       "\n",
       "    .dataframe tbody tr th {\n",
       "        vertical-align: top;\n",
       "    }\n",
       "\n",
       "    .dataframe thead th {\n",
       "        text-align: right;\n",
       "    }\n",
       "</style>\n",
       "<table border=\"1\" class=\"dataframe\">\n",
       "  <thead>\n",
       "    <tr style=\"text-align: right;\">\n",
       "      <th></th>\n",
       "      <th>Keyword</th>\n",
       "      <th>Link</th>\n",
       "      <th>Positive</th>\n",
       "      <th>Negative</th>\n",
       "      <th>Neutral</th>\n",
       "    </tr>\n",
       "  </thead>\n",
       "  <tbody>\n",
       "    <tr>\n",
       "      <th>0</th>\n",
       "      <td>Max Clark Vitesse</td>\n",
       "      <td>0    /Players/313996/Show/Max-Clark\n",
       "1    /Play...</td>\n",
       "      <td>33.333333</td>\n",
       "      <td>66.666667</td>\n",
       "      <td>-1.421085e-14</td>\n",
       "    </tr>\n",
       "  </tbody>\n",
       "</table>\n",
       "</div>"
      ],
      "text/plain": [
       "             Keyword                                               Link  \\\n",
       "0  Max Clark Vitesse  0    /Players/313996/Show/Max-Clark\n",
       "1    /Play...   \n",
       "\n",
       "    Positive   Negative       Neutral  \n",
       "0  33.333333  66.666667 -1.421085e-14  "
      ]
     },
     "execution_count": 159,
     "metadata": {},
     "output_type": "execute_result"
    }
   ],
   "source": [
    "test_summary_df"
   ]
  }
 ],
 "metadata": {
  "kernelspec": {
   "display_name": "Python 3",
   "language": "python",
   "name": "python3"
  },
  "language_info": {
   "codemirror_mode": {
    "name": "ipython",
    "version": 3
   },
   "file_extension": ".py",
   "mimetype": "text/x-python",
   "name": "python",
   "nbconvert_exporter": "python",
   "pygments_lexer": "ipython3",
   "version": "3.6.8"
  }
 },
 "nbformat": 4,
 "nbformat_minor": 2
}
